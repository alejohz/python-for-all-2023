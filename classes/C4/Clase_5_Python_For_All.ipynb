{
 "cells": [
  {
   "cell_type": "markdown",
   "metadata": {},
   "source": [
    "# Clase 5\n",
    "\n",
    "#### **Contenido**\n",
    "- Revisar dudas de ejercicios para prácticar de la clase anterior\n",
    "- Nueva metodológia de temas de estudio\n",
    "- Ejercicio 139 (Con Funciones)\n",
    "- Operaciones con operadores combinados (+=, -=, *=, /=)\n",
    "- Archivos y Excepciones (Ejemplos)\n",
    "\n",
    "\n",
    "#### Ejercicios para practicar\n",
    "- Ejercicio 127\n",
    "- Ejercicio 134\n",
    "- Si se enredan, la solución está en el libro (O en ChatGPT)\n",
    "  \n",
    "#### Temas de estudio\n",
    "- ¿Qué es Git?\n",
    "- Cuales son los principales comandos de Git\n",
    "- ¿Qué es GitHub?\n",
    "- ¿Qué es un repositorio?\n",
    "- ¿Qué es un commit?"
   ]
  },
  {
   "cell_type": "markdown",
   "metadata": {},
   "source": [
    "## Archivos y Excepciones\n",
    "\n",
    "### Archivos\n",
    "- Los archivos son una parte importante de cualquier programa. Los archivos son donde se almacenan los datos del programa. Por ejemplo, si un programa de procesamiento de texto no tuviera archivos, no podrías guardar el documento que estás trabajando. Si un programa de edición de imágenes no tuviera archivos, no podrías abrir o guardar ninguna imagen. Los archivos son una parte esencial de cada programa que se ejecuta en una computadora.\n",
    "\n",
    "### Excepciones\n",
    "- Las excepciones se usan para controlar y manejar posibles errores sobre los cuales no teníamos control."
   ]
  },
  {
   "cell_type": "code",
   "execution_count": 3,
   "metadata": {},
   "outputs": [
    {
     "data": {
      "text/plain": [
       "'\\nExercise 139: Morse Code\\nMorse code is an encoding scheme that uses dashes and dots to represent digits and letters.\\nIn this exercise, you will write a program that uses a dictionary to store the mapping from these symbols\\nto Morse code. Use a period to represent a dot, and a hyphen to represent a dash. The mapping from characters\\nto dashes and dots is\\nshown in Table 6.1.\\nYour program should read a message from the user. Then it should translate all of\\nthe letters and digits in the message to Morse code, leaving a space between each sequence of dashes and dots.\\nYour program should ignore any characters that are not listed in the previous table.\\nThe Morse code for Hello, World! is shown below:\\n.... . .-.. .-.. --- .-- --- .-. .-.. -..\\n'"
      ]
     },
     "execution_count": 3,
     "metadata": {},
     "output_type": "execute_result"
    }
   ],
   "source": [
    "# Ejercicio 139\n",
    "\n",
    "\"\"\"\n",
    "Exercise 139: Morse Code\n",
    "Morse code is an encoding scheme that uses dashes and dots to represent digits and letters.\n",
    "In this exercise, you will write a program that uses a dictionary to store the mapping from these symbols\n",
    "to Morse code. Use a period to represent a dot, and a hyphen to represent a dash. The mapping from characters\n",
    "to dashes and dots is shown in Table 6.1.\n",
    "Your program should read a message from the user. Then it should translate all of\n",
    "the letters and digits in the message to Morse code, leaving a space between each sequence of dashes and dots.\n",
    "Your program should ignore any characters that are not listed in the previous table.\n",
    "The Morse code for Hello, World! is shown below:\n",
    ".... . .-.. .-.. --- .-- --- .-. .-.. -..\n",
    "\"\"\"\n",
    "\n"
   ]
  },
  {
   "cell_type": "code",
   "execution_count": 15,
   "metadata": {},
   "outputs": [],
   "source": [
    "morse_code_dict = {\n",
    "    \"A\": \".-\",\n",
    "    \"B\": \"-...\",\n",
    "    \"C\": \"-.-.\",\n",
    "    \"D\": \"-..\",\n",
    "    \"E\": \".\",\n",
    "    \"F\": \"..-.\",\n",
    "    \"G\": \"--.\",\n",
    "    \"H\": \"....\",\n",
    "    \"I\": \"..\",\n",
    "    \"J\": \".---\",\n",
    "    \"K\": \"-.-\",\n",
    "    \"L\": \".-..\",\n",
    "    \"M\": \"--\",\n",
    "    \"N\": \"-.\",\n",
    "    \"O\": \"---\",\n",
    "    \"P\": \".--.\",\n",
    "    \"Q\": \"--.-\",\n",
    "    \"R\": \".-.\",\n",
    "    \"S\": \"...\",\n",
    "    \"T\": \"-\",\n",
    "    \"U\": \"..-\",\n",
    "    \"V\": \"...-\",\n",
    "    \"W\": \".--\",\n",
    "    \"X\": \"-..-\",\n",
    "    \"Y\": \"-.--\",\n",
    "    \"Z\": \"--..\",\n",
    "}"
   ]
  },
  {
   "cell_type": "code",
   "execution_count": 22,
   "metadata": {},
   "outputs": [
    {
     "data": {
      "text/plain": [
       "'.-'"
      ]
     },
     "execution_count": 22,
     "metadata": {},
     "output_type": "execute_result"
    }
   ],
   "source": [
    "morse_code_dict[\"A\"] # Como encontrar una llave en un diccionario"
   ]
  },
  {
   "cell_type": "code",
   "execution_count": 40,
   "metadata": {},
   "outputs": [
    {
     "data": {
      "text/plain": [
       "False"
      ]
     },
     "execution_count": 40,
     "metadata": {},
     "output_type": "execute_result"
    }
   ],
   "source": [
    "\",\" in morse_code_dict.keys() # operador in me permite la comparacion de pertenencia\n",
    "# Operador in, me permite saber si hay algo dentro de un contenededor"
   ]
  },
  {
   "cell_type": "code",
   "execution_count": 35,
   "metadata": {},
   "outputs": [
    {
     "data": {
      "text/plain": [
       "True"
      ]
     },
     "execution_count": 35,
     "metadata": {},
     "output_type": "execute_result"
    }
   ],
   "source": [
    "1 in [1, 2, 3]"
   ]
  },
  {
   "cell_type": "code",
   "execution_count": 36,
   "metadata": {},
   "outputs": [
    {
     "data": {
      "text/plain": [
       "False"
      ]
     },
     "execution_count": 36,
     "metadata": {},
     "output_type": "execute_result"
    }
   ],
   "source": [
    "0 in [1, 2, 3]"
   ]
  },
  {
   "cell_type": "code",
   "execution_count": 37,
   "metadata": {},
   "outputs": [
    {
     "name": "stdout",
     "output_type": "stream",
     "text": [
      ".-\n",
      ".-\n"
     ]
    }
   ],
   "source": [
    "## Alternativa de Daniel\n",
    "print(morse_code_dict[\"A\"]) # Primera forma de llamar el valor de una llave\n",
    "print(morse_code_dict.get(\"A\")) # Segunda forma de llamar el valor de una llave"
   ]
  },
  {
   "cell_type": "code",
   "execution_count": 39,
   "metadata": {},
   "outputs": [
    {
     "name": "stdout",
     "output_type": "stream",
     "text": [
      "None\n"
     ]
    }
   ],
   "source": [
    "print(morse_code_dict.get(\",\"))"
   ]
  },
  {
   "cell_type": "code",
   "execution_count": 49,
   "metadata": {},
   "outputs": [
    {
     "name": "stdout",
     "output_type": "stream",
     "text": [
      "H\n",
      "e\n",
      "l\n",
      "l\n",
      "o\n",
      "Entre al condicional\n",
      "Entre al condicional\n",
      "W\n",
      "o\n",
      "r\n",
      "l\n",
      "d\n",
      "Entre al condicional\n",
      "['....', '.', '.-..', '.-..', '---', '.--', '---', '.-.', '.-..', '-..']\n"
     ]
    }
   ],
   "source": [
    "palabra = input(\"Escribe un palabra: \")\n",
    "lista_de_caracteres = list(palabra)\n",
    "# print(\"Quinto caracter:\", list(palabra)[4].upper())  # .lower es para lowercase\n",
    "\n",
    "# print(morse_code_dict[lista_de_caracteres[0].upper()])\n",
    "# print(morse_code_dict[lista_de_caracteres[1].upper()])\n",
    "# print(morse_code_dict[lista_de_caracteres[2].upper()])\n",
    "# ...\n",
    "lista_de_morse = []\n",
    "for caracter in lista_de_caracteres:\n",
    "    caracter_a_añadir = morse_code_dict.get(caracter.upper())\n",
    "    if caracter_a_añadir == None:\n",
    "        print(\"Entre al condicional\")\n",
    "        continue\n",
    "    print(caracter)\n",
    "    lista_de_morse.append(\n",
    "        # morse_code_dict[caracter.upper()] # forma 1, pero sale un error\n",
    "        caracter_a_añadir\n",
    "    )\n",
    "    # print(caracter.upper())\n",
    "\n",
    "# lista_de_morse = [morse_code_dict.get(caracter.upper()) for caracter in lista_de_caracteres]\n",
    "# Aqui se hizo con list comprehension\n",
    "print(lista_de_morse)\n",
    "\"\"\" Esta es la mejor forma de ver como funciona el continue en el for\"\"\""
   ]
  },
  {
   "cell_type": "code",
   "execution_count": 46,
   "metadata": {},
   "outputs": [
    {
     "name": "stdout",
     "output_type": "stream",
     "text": [
      "[6, 7, 8]\n"
     ]
    }
   ],
   "source": [
    "print([(i+5) for i in [1, 2, 3]]) # ejemplo de list comprehension"
   ]
  },
  {
   "cell_type": "code",
   "execution_count": 57,
   "metadata": {},
   "outputs": [
    {
     "name": "stdout",
     "output_type": "stream",
     "text": [
      "Entre al condicional\n",
      "Entre al condicional\n",
      "Entre al condicional\n",
      ".... . .-.. .-.. --- .-- --- .-. .-.. -..\n",
      "['....', '.', '.-..', '.-..', '---', '.--', '---', '.-.', '.-..', '-..']\n"
     ]
    }
   ],
   "source": [
    "palabra = input(\"Escribe un palabra: \")\n",
    "lista_de_caracteres = list(palabra)\n",
    "# print(\"Quinto caracter:\", list(palabra)[4].upper())  # .lower es para lowercase\n",
    "\n",
    "# print(morse_code_dict[lista_de_caracteres[0].upper()])\n",
    "# print(morse_code_dict[lista_de_caracteres[1].upper()])\n",
    "# print(morse_code_dict[lista_de_caracteres[2].upper()])\n",
    "# ...\n",
    "lista_de_morse = []\n",
    "for caracter in lista_de_caracteres:\n",
    "    caracter_a_añadir = morse_code_dict.get(caracter.upper())\n",
    "    if caracter_a_añadir == None:\n",
    "        print(\"Entre al condicional\")\n",
    "        continue\n",
    "    lista_de_morse.append(\n",
    "        # morse_code_dict[caracter.upper()] # forma 1, pero sale un error\n",
    "        caracter_a_añadir\n",
    "    )\n",
    "    # print(caracter.upper())\n",
    "\n",
    "# lista_de_morse = [morse_code_dict.get(caracter.upper()) for caracter in lista_de_caracteres]\n",
    "# Aqui se hizo con list comprehension\n",
    "# print(\" \".join(['w', 'x', 'y'])) sintaxis del metodo join\n",
    "print(\" \".join(lista_de_morse))\n",
    "print(lista_de_morse)"
   ]
  },
  {
   "cell_type": "markdown",
   "metadata": {},
   "source": [
    "### Esto no lo vimos en clase, contenido adicional\n",
    "Como hacer el traductor en una función?\n",
    "Porque hacerlo como una funcion? Pues porque que pasa si yo lo quiero utilizar varias veces. Si lo hago como una funcion, solo tengo que llamar a la funcion y listo, no tengo que volver a escribir todo el codigo.\n"
   ]
  },
  {
   "cell_type": "code",
   "execution_count": 257,
   "metadata": {},
   "outputs": [],
   "source": [
    "def traductor_a_morse(input, morse_code_dict):\n",
    "    \"\"\"Funcion que traduce una frase a morse\"\"\"\n",
    "    palabra = input\n",
    "    lista_de_caracteres = list(palabra)\n",
    "    lista_de_morse = []\n",
    "    for caracter in lista_de_caracteres:\n",
    "        caracter_a_añadir = morse_code_dict.get(caracter.upper())\n",
    "        if caracter_a_añadir == None:\n",
    "            continue\n",
    "        lista_de_morse.append(\n",
    "            caracter_a_añadir\n",
    "        )\n",
    "    return \" \".join(lista_de_morse)"
   ]
  },
  {
   "cell_type": "code",
   "execution_count": 258,
   "metadata": {},
   "outputs": [
    {
     "name": "stdout",
     "output_type": "stream",
     "text": [
      ".... . .-.. .-.. --- .-- --- .-. .-.. -..\n"
     ]
    }
   ],
   "source": [
    "palabra = \"Hello, World!\"\n",
    "print(traductor_a_morse(palabra, morse_code_dict))"
   ]
  },
  {
   "cell_type": "code",
   "execution_count": 51,
   "metadata": {},
   "outputs": [
    {
     "name": "stdout",
     "output_type": "stream",
     "text": [
      "A\n",
      "a\n"
     ]
    }
   ],
   "source": [
    "print(\"a\".upper())\n",
    "print(\"A\".lower())"
   ]
  },
  {
   "cell_type": "code",
   "execution_count": 56,
   "metadata": {},
   "outputs": [
    {
     "name": "stdout",
     "output_type": "stream",
     "text": [
      "1a2a3\n",
      "w,x,y\n",
      "<class 'str'>\n",
      "w x y\n"
     ]
    }
   ],
   "source": [
    "print(\"a\".join(['1', '2', '3']))\n",
    "print(\",\".join(['w', 'x', 'y']))\n",
    "print(type(\",\".join(['w', 'x', 'y'])))\n",
    "print(\" \".join(['w', 'x', 'y']))"
   ]
  },
  {
   "cell_type": "code",
   "execution_count": null,
   "metadata": {},
   "outputs": [],
   "source": [
    "morse_code_dict"
   ]
  },
  {
   "cell_type": "code",
   "execution_count": 59,
   "metadata": {},
   "outputs": [
    {
     "name": "stdout",
     "output_type": "stream",
     "text": [
      "dict_keys(['A', 'B', 'C', 'D', 'E', 'F', 'G', 'H', 'I', 'J', 'K', 'L', 'M', 'N', 'O', 'P', 'Q', 'R', 'S', 'T', 'U', 'V', 'W', 'X', 'Y', 'Z'])\n",
      "dict_values(['.-', '-...', '-.-.', '-..', '.', '..-.', '--.', '....', '..', '.---', '-.-', '.-..', '--', '-.', '---', '.--.', '--.-', '.-.', '...', '-', '..-', '...-', '.--', '-..-', '-.--', '--..'])\n",
      "dict_items([('A', '.-'), ('B', '-...'), ('C', '-.-.'), ('D', '-..'), ('E', '.'), ('F', '..-.'), ('G', '--.'), ('H', '....'), ('I', '..'), ('J', '.---'), ('K', '-.-'), ('L', '.-..'), ('M', '--'), ('N', '-.'), ('O', '---'), ('P', '.--.'), ('Q', '--.-'), ('R', '.-.'), ('S', '...'), ('T', '-'), ('U', '..-'), ('V', '...-'), ('W', '.--'), ('X', '-..-'), ('Y', '-.--'), ('Z', '--..')])\n"
     ]
    }
   ],
   "source": [
    "print(morse_code_dict.keys())\n",
    "print(morse_code_dict.values())\n",
    "print(morse_code_dict.items())"
   ]
  },
  {
   "cell_type": "code",
   "execution_count": 61,
   "metadata": {},
   "outputs": [],
   "source": [
    "## Pregunta de Brayan\n",
    "code_morse_dict = {}\n",
    "# print(morse_code_dict)\n",
    "# dict_a = {'Z': '--..'}\n",
    "# dict_b = {'--..': 'Z'}\n",
    "for llave, valor in morse_code_dict.items():\n",
    "    code_morse_dict[valor] = llave"
   ]
  },
  {
   "cell_type": "code",
   "execution_count": 68,
   "metadata": {},
   "outputs": [
    {
     "name": "stdout",
     "output_type": "stream",
     "text": [
      "{'A': '.-', 'B': '-...', 'C': '-.-.', 'D': '-..', 'E': '.', 'F': '..-.', 'G': '--.', 'H': '....', 'I': '..', 'J': '.---', 'K': '-.-', 'L': '.-..', 'M': '--', 'N': '-.', 'O': '---', 'P': '.--.', 'Q': '--.-', 'R': '.-.', 'S': '...', 'T': '-', 'U': '..-', 'V': '...-', 'W': '.--', 'X': '-..-', 'Y': '-.--', 'Z': '--..'}\n"
     ]
    }
   ],
   "source": [
    "print(morse_code_dict)"
   ]
  },
  {
   "cell_type": "code",
   "execution_count": 63,
   "metadata": {},
   "outputs": [
    {
     "name": "stdout",
     "output_type": "stream",
     "text": [
      "Invertido:  {'.-': 'A', '-...': 'B', '-.-.': 'C', '-..': 'D', '.': 'E', '..-.': 'F', '--.': 'G', '....': 'H', '..': 'I', '.---': 'J', '-.-': 'K', '.-..': 'L', '--': 'M', '-.': 'N', '---': 'O', '.--.': 'P', '--.-': 'Q', '.-.': 'R', '...': 'S', '-': 'T', '..-': 'U', '...-': 'V', '.--': 'W', '-..-': 'X', '-.--': 'Y', '--..': 'Z'}\n",
      "Original:  {'A': '.-', 'B': '-...', 'C': '-.-.', 'D': '-..', 'E': '.', 'F': '..-.', 'G': '--.', 'H': '....', 'I': '..', 'J': '.---', 'K': '-.-', 'L': '.-..', 'M': '--', 'N': '-.', 'O': '---', 'P': '.--.', 'Q': '--.-', 'R': '.-.', 'S': '...', 'T': '-', 'U': '..-', 'V': '...-', 'W': '.--', 'X': '-..-', 'Y': '-.--', 'Z': '--..'}\n"
     ]
    }
   ],
   "source": [
    "print(\"Invertido: \", code_morse_dict)\n",
    "print(\"Original: \", morse_code_dict)"
   ]
  },
  {
   "cell_type": "code",
   "execution_count": 65,
   "metadata": {},
   "outputs": [
    {
     "name": "stdout",
     "output_type": "stream",
     "text": [
      "a\n",
      "1\n",
      "b\n",
      "2\n",
      "c\n",
      "3\n"
     ]
    }
   ],
   "source": [
    "dict_1 = {\"a\": 1, \"b\": 2, \"c\": 3}\n",
    "dict_2 = {}\n",
    "# diccionario = {}\n",
    "# diccionario[llave] = valor\n",
    "for llave, valor in dict_1.items():\n",
    "    dict_2[]\n",
    "    print(llave)\n",
    "    print(valor)"
   ]
  },
  {
   "cell_type": "code",
   "execution_count": 71,
   "metadata": {},
   "outputs": [
    {
     "name": "stdout",
     "output_type": "stream",
     "text": [
      "{'hallo': 'ween', 'octubre': '31'}\n",
      "dict_keys(['hallo', 'octubre'])\n",
      "dict_values(['ween', '31'])\n"
     ]
    }
   ],
   "source": [
    "dict_c = {}\n",
    "dict_c[\"hallo\"] = \"ween\"\n",
    "dict_c[\"octubre\"] = \"31\"\n",
    "print(dict_c)\n",
    "print(dict_c.keys())\n",
    "print(dict_c.values())"
   ]
  },
  {
   "cell_type": "code",
   "execution_count": 72,
   "metadata": {},
   "outputs": [
    {
     "data": {
      "text/plain": [
       "'ween'"
      ]
     },
     "execution_count": 72,
     "metadata": {},
     "output_type": "execute_result"
    }
   ],
   "source": [
    "dict_c[\"hallo\"]"
   ]
  },
  {
   "cell_type": "code",
   "execution_count": 91,
   "metadata": {},
   "outputs": [
    {
     "name": "stdout",
     "output_type": "stream",
     "text": [
      "18\n",
      "Original:  {'edad': '18', 'zapatos': 'nike'}\n",
      "Con llave nueva:  {'edad': '18', 'zapatos': 'nike', 'carrera': 'civil'}\n"
     ]
    }
   ],
   "source": [
    "maria_camila = {\"edad\": \"18\", \"zapatos\": \"nike\"}\n",
    "print(maria_camila[\"edad\"])\n",
    "print(\"Original: \", maria_camila)\n",
    "maria_camila[\"carrera\"] = \"civil\" # Aqui se añadio la llave \"carrera\" con el valor \"civil\"\n",
    "# diccionario[llave] = valor # esta es la sintaxis\n",
    "print(\"Con llave nueva: \", maria_camila)"
   ]
  },
  {
   "cell_type": "code",
   "execution_count": 88,
   "metadata": {},
   "outputs": [
    {
     "data": {
      "text/plain": [
       "3"
      ]
     },
     "execution_count": 88,
     "metadata": {},
     "output_type": "execute_result"
    }
   ],
   "source": [
    "len([1, 2, 3])"
   ]
  },
  {
   "cell_type": "code",
   "execution_count": 93,
   "metadata": {},
   "outputs": [
    {
     "name": "stdout",
     "output_type": "stream",
     "text": [
      "Key:  edad , Value:  18\n",
      "Aqui lo invierto\n",
      "Key:  18 , Value:  edad\n",
      "Key:  zapatos , Value:  nike\n",
      "Aqui lo invierto\n",
      "Key:  nike , Value:  zapatos\n",
      "Key:  carrera , Value:  civil\n",
      "Aqui lo invierto\n",
      "Key:  civil , Value:  carrera\n",
      "{'edad': '18', 'zapatos': 'nike', 'carrera': 'civil'}\n",
      "{'18': 'edad', 'nike': 'zapatos', 'civil': 'carrera'}\n"
     ]
    }
   ],
   "source": [
    "maria_camila_invertido = {}\n",
    "for llave, valor in maria_camila.items():\n",
    "    print(\"Key: \", llave, \", Value: \", valor) # normal\n",
    "    print(\"Aqui lo invierto\")\n",
    "    print(\"Key: \", valor, \", Value: \", llave) # invertido\n",
    "    # diccionario[llave] = valor\n",
    "    # diccionario[valor] = llave # Esta esta invertida\n",
    "    maria_camila_invertido[valor] = llave\n",
    "print(maria_camila)\n",
    "print(maria_camila_invertido)"
   ]
  },
  {
   "cell_type": "code",
   "execution_count": 81,
   "metadata": {},
   "outputs": [
    {
     "name": "stdout",
     "output_type": "stream",
     "text": [
      "{'edad': '18', 'zapatos': 'nike', 'carrera': 'civil'}\n",
      "dict_keys(['edad', 'zapatos', 'carrera'])\n",
      "dict_values(['18', 'nike', 'civil'])\n"
     ]
    }
   ],
   "source": [
    "print(maria_camila)\n",
    "print(maria_camila.keys())\n",
    "print(maria_camila.values())"
   ]
  },
  {
   "cell_type": "code",
   "execution_count": 83,
   "metadata": {},
   "outputs": [],
   "source": [
    "diccionario_vacio = {}"
   ]
  },
  {
   "cell_type": "code",
   "execution_count": 84,
   "metadata": {},
   "outputs": [
    {
     "name": "stdout",
     "output_type": "stream",
     "text": [
      "{}\n"
     ]
    }
   ],
   "source": [
    "print(diccionario_vacio)"
   ]
  },
  {
   "cell_type": "code",
   "execution_count": 89,
   "metadata": {},
   "outputs": [
    {
     "name": "stdout",
     "output_type": "stream",
     "text": [
      "1\n",
      "a\n",
      "2\n",
      "b\n",
      "3\n",
      "c\n",
      "{'1': 'a', '2': 'b', '3': 'c'}\n"
     ]
    }
   ],
   "source": [
    "lista_de_llaves = [\"1\", \"2\", \"3\"]\n",
    "lista_de_valores = [\"a\", \"b\", \"c\"]\n",
    "# for indice in range(len(lista_de_llaves)):\n",
    "#     diccionario_vacio[lista_de_llaves[indice]] = lista_de_valores[indice]\n",
    "\n",
    "for llave, valor in zip(lista_de_llaves, lista_de_valores):\n",
    "    print(llave)\n",
    "    print(valor)\n",
    "    diccionario_vacio[llave] = valor\n",
    "\n",
    "print(diccionario_vacio)"
   ]
  },
  {
   "cell_type": "code",
   "execution_count": 99,
   "metadata": {},
   "outputs": [
    {
     "name": "stdout",
     "output_type": "stream",
     "text": [
      "{1: 6, 2: 7, 3: 8}\n"
     ]
    }
   ],
   "source": [
    "## Llaves dinamicas de Mateo\n",
    "dict_d = {}\n",
    "lista1 = [1, 2, 3]\n",
    "for j in lista1:\n",
    "    dict_d[j] = j + 5\n",
    "print(dict_d)"
   ]
  },
  {
   "cell_type": "code",
   "execution_count": 101,
   "metadata": {},
   "outputs": [
    {
     "name": "stdout",
     "output_type": "stream",
     "text": [
      "1\n",
      "6\n",
      "2\n",
      "7\n",
      "3\n",
      "8\n"
     ]
    }
   ],
   "source": [
    "for k, v in dict_d.items():\n",
    "    print(k)\n",
    "    print(v)"
   ]
  },
  {
   "cell_type": "code",
   "execution_count": 116,
   "metadata": {},
   "outputs": [
    {
     "name": "stdout",
     "output_type": "stream",
     "text": [
      "Caracter:  H\n",
      "Numero:  0\n",
      "Caracter:  e\n",
      "Numero:  1\n",
      "Caracter:  l\n",
      "Numero:  2\n",
      "Caracter:  l\n",
      "Numero:  3\n",
      "Caracter:  o\n",
      "Numero:  4\n",
      "Caracter:  ,\n",
      "Numero:  5\n",
      "Caracter:   \n",
      "Numero:  6\n",
      "Caracter:  W\n",
      "Numero:  7\n",
      "Caracter:  o\n",
      "Numero:  8\n",
      "Caracter:  r\n",
      "Numero:  9\n",
      "Caracter:  l\n",
      "Numero:  10\n",
      "Caracter:  d\n",
      "Numero:  11\n",
      "Caracter:  !\n",
      "Numero:  12\n"
     ]
    }
   ],
   "source": [
    "palabra = list(\"Hello, World!\")\n",
    "numeros = list(range(len(palabra)))\n",
    "for caracter, numero in zip(palabra, numeros):\n",
    "    print(\"Caracter: \", caracter)\n",
    "    print(\"Numero: \", numero)"
   ]
  },
  {
   "cell_type": "code",
   "execution_count": 122,
   "metadata": {},
   "outputs": [
    {
     "name": "stdout",
     "output_type": "stream",
     "text": [
      "{'H': 0}\n",
      "{'H': 0, 'e': 1}\n",
      "{'H': 0, 'e': 1, 'l': 2}\n",
      "{'H': 0, 'e': 1, 'l': 3}\n",
      "{'H': 0, 'e': 1, 'l': 3, 'o': 4}\n",
      "{'H': 0, 'e': 1, 'l': 3, 'o': 4, ',': 5}\n",
      "{'H': 0, 'e': 1, 'l': 3, 'o': 4, ',': 5, ' ': 6}\n",
      "{'H': 0, 'e': 1, 'l': 3, 'o': 4, ',': 5, ' ': 6, 'W': 7}\n",
      "{'H': 0, 'e': 1, 'l': 3, 'o': 8, ',': 5, ' ': 6, 'W': 7}\n",
      "{'H': 0, 'e': 1, 'l': 3, 'o': 8, ',': 5, ' ': 6, 'W': 7, 'r': 9}\n",
      "{'H': 0, 'e': 1, 'l': 10, 'o': 8, ',': 5, ' ': 6, 'W': 7, 'r': 9}\n",
      "{'H': 0, 'e': 1, 'l': 10, 'o': 8, ',': 5, ' ': 6, 'W': 7, 'r': 9, 'd': 11}\n",
      "{'H': 0, 'e': 1, 'l': 10, 'o': 8, ',': 5, ' ': 6, 'W': 7, 'r': 9, 'd': 11, '!': 12}\n",
      "{'H': 0, 'e': 1, 'l': 10, 'o': 8, ',': 5, ' ': 6, 'W': 7, 'r': 9, 'd': 11, '!': 12, 'le': 10}\n"
     ]
    }
   ],
   "source": [
    "palabra = list(\"Hello, World!\")\n",
    "numeros = list(range(len(palabra)))\n",
    "diccionario_de_numeros = {}\n",
    "for caracter, numero in zip(palabra, numeros):\n",
    "    diccionario_de_numeros[caracter] = numero\n",
    "    print(diccionario_de_numeros)\n",
    "diccionario_de_numeros[\"le\"] = 10\n",
    "print(diccionario_de_numeros)"
   ]
  },
  {
   "cell_type": "code",
   "execution_count": 119,
   "metadata": {},
   "outputs": [
    {
     "name": "stdout",
     "output_type": "stream",
     "text": [
      "{'abc': 123, 'bca': 321}\n"
     ]
    }
   ],
   "source": [
    "dict_e = {\"abc\": 123, \"bca\": 321}\n",
    "print(dict_e)"
   ]
  },
  {
   "cell_type": "code",
   "execution_count": 120,
   "metadata": {},
   "outputs": [
    {
     "name": "stdout",
     "output_type": "stream",
     "text": [
      "{'abc': 456, 'bca': 321}\n"
     ]
    }
   ],
   "source": [
    "dict_e[\"abc\"] = 456\n",
    "print(dict_e)"
   ]
  },
  {
   "cell_type": "code",
   "execution_count": 111,
   "metadata": {},
   "outputs": [
    {
     "data": {
      "text/plain": [
       "[('H', 0),\n",
       " ('e', 1),\n",
       " ('l', 2),\n",
       " ('l', 3),\n",
       " ('o', 4),\n",
       " (',', 5),\n",
       " (' ', 6),\n",
       " ('W', 7),\n",
       " ('o', 8),\n",
       " ('r', 9),\n",
       " ('l', 10),\n",
       " ('d', 11),\n",
       " ('!', 12)]"
      ]
     },
     "execution_count": 111,
     "metadata": {},
     "output_type": "execute_result"
    }
   ],
   "source": [
    "list(zip(palabra, numeros))"
   ]
  },
  {
   "cell_type": "code",
   "execution_count": 107,
   "metadata": {},
   "outputs": [
    {
     "data": {
      "text/plain": [
       "[0, 1, 2, 3, 4, 5, 6, 7, 8, 9, 10, 11, 12]"
      ]
     },
     "execution_count": 107,
     "metadata": {},
     "output_type": "execute_result"
    }
   ],
   "source": [
    "list(range(len(palabra)))"
   ]
  },
  {
   "cell_type": "code",
   "execution_count": 188,
   "metadata": {},
   "outputs": [
    {
     "name": "stdout",
     "output_type": "stream",
     "text": [
      "{'H': [0], 'He': [0, 1], 'Hel': [0, 1, 2], 'Hell': [0, 1, 2, 3], 'Hello': [0, 1, 2, 3, 4], 'Hello,': [0, 1, 2, 3, 4, 5], 'Hello, ': [0, 1, 2, 3, 4, 5, 6], 'Hello, W': [0, 1, 2, 3, 4, 5, 6, 7], 'Hello, Wo': [0, 1, 2, 3, 4, 5, 6, 7, 8], 'Hello, Wor': [0, 1, 2, 3, 4, 5, 6, 7, 8, 9], 'Hello, Worl': [0, 1, 2, 3, 4, 5, 6, 7, 8, 9, 10], 'Hello, World': [0, 1, 2, 3, 4, 5, 6, 7, 8, 9, 10, 11], 'Hello, World!': [0, 1, 2, 3, 4, 5, 6, 7, 8, 9, 10, 11, 12]}\n"
     ]
    }
   ],
   "source": [
    "palabra = list(\"Hello, World!\")\n",
    "numeros = list(range(len(palabra)))\n",
    "diccionario_creciente = {}\n",
    "# diccionario[llave] = valor # esta es la sintaxis de adicion de una llave nueva\n",
    "# print(palabra[0], palabra[1], palabra[2], palabra[3])\n",
    "# print(palabra[0:3])\n",
    "contador = 0\n",
    "for i in range(len(palabra)):\n",
    "    contador += 1 # contador = contador + 1\n",
    "    # print(contador)\n",
    "    # print(palabra[0:contador])\n",
    "    # print(numeros[0:contador])\n",
    "    # print(\"Llave que yo quiero poner:\", \"\".join(palabra[0:contador]))\n",
    "    # print(\"Valor que yo quiero poner:\", numeros[0:contador])\n",
    "    diccionario_creciente[\"\".join(palabra[0:contador])] = numeros[0:contador]\n",
    "print(diccionario_creciente)"
   ]
  },
  {
   "cell_type": "code",
   "execution_count": 170,
   "metadata": {},
   "outputs": [
    {
     "data": {
      "text/plain": [
       "['H', 'e', 'l']"
      ]
     },
     "execution_count": 170,
     "metadata": {},
     "output_type": "execute_result"
    }
   ],
   "source": [
    "palabra[0:3]"
   ]
  },
  {
   "cell_type": "code",
   "execution_count": 146,
   "metadata": {},
   "outputs": [
    {
     "name": "stdout",
     "output_type": "stream",
     "text": [
      "1\n",
      "2\n",
      "6\n",
      "-3\n",
      "6\n",
      "3\n"
     ]
    }
   ],
   "source": [
    "acumulador = 0\n",
    "contador = 0\n",
    "restador = 0\n",
    "multiplicador = 1\n",
    "for i in [1, 2, 3]:\n",
    "    acumulador += i\n",
    "    contador += 1 # contador = contador + 1\n",
    "    restador -= 1 # restador = restador - 1\n",
    "    multiplicador *= i # multiplicador = multiplicador * i\n",
    "print(multiplicador)\n",
    "print(restador)\n",
    "print(acumulador)\n",
    "print(contador)"
   ]
  },
  {
   "cell_type": "code",
   "execution_count": 157,
   "metadata": {},
   "outputs": [
    {
     "name": "stdout",
     "output_type": "stream",
     "text": [
      "a\n",
      "b\n",
      "c\n"
     ]
    }
   ],
   "source": [
    "acumulador = \"\"\n",
    "for letra in [\"a\", \"b\", \"c\"]:\n",
    "    print(letra)\n",
    "    acumulador += letra # acumulador = acumulador + letra\n",
    "    # print(acumulador)"
   ]
  },
  {
   "cell_type": "code",
   "execution_count": 159,
   "metadata": {},
   "outputs": [
    {
     "name": "stdout",
     "output_type": "stream",
     "text": [
      "0\n",
      "a\n",
      "1\n",
      "b\n",
      "2\n",
      "c\n"
     ]
    }
   ],
   "source": [
    "acumulador = \"\"\n",
    "lista2 = [\"a\", \"b\", \"c\"]\n",
    "for indice in range(len(lista2)):\n",
    "    # print(indice)\n",
    "    print(lista2[indice])\n",
    "    acumulador += lista2[indice] # acumulador = acumulador + letra\n",
    "    # print(acumulador)"
   ]
  },
  {
   "cell_type": "code",
   "execution_count": 160,
   "metadata": {},
   "outputs": [
    {
     "name": "stdout",
     "output_type": "stream",
     "text": [
      "a\n",
      "b\n",
      "c\n"
     ]
    }
   ],
   "source": [
    "print(lista2[0])\n",
    "print(lista2[1])\n",
    "print(lista2[2])"
   ]
  },
  {
   "cell_type": "code",
   "execution_count": 154,
   "metadata": {},
   "outputs": [
    {
     "name": "stdout",
     "output_type": "stream",
     "text": [
      "abc\n"
     ]
    }
   ],
   "source": [
    "print(\"\" + \"a\" + \"b\" + \"c\")"
   ]
  },
  {
   "cell_type": "code",
   "execution_count": 186,
   "metadata": {},
   "outputs": [
    {
     "name": "stdout",
     "output_type": "stream",
     "text": [
      "Original: Hello, World!\n",
      "Como lista: ['H', 'e', 'l', 'l', 'o', ',', ' ', 'W', 'o', 'r', 'l', 'd', '!']\n",
      "Devolvernos al original: Hello, World!\n"
     ]
    }
   ],
   "source": [
    "print(\"Original:\", \"Hello, World!\")\n",
    "print(\"Como lista:\", list(\"Hello, World!\"))\n",
    "palabra_como_lista = list(\"Hello, World!\")\n",
    "print(\"Devolvernos al original:\", \"\".join(palabra_como_lista))"
   ]
  },
  {
   "cell_type": "code",
   "execution_count": 249,
   "metadata": {},
   "outputs": [],
   "source": [
    "# El archivo que voy a leer, tiene que estar en un directorio que yo pueda leer\n",
    "# file = open(\"archivos/problema_de_formateo.csv\")\n",
    "file = open(\"problema_de_formateo.csv\", mode=\"r+\") # r, w\n",
    "# r= Solo lectura\n",
    "# w = Solo escritura\n",
    "# r+ = Leer y Escribir, prioridad sobre la lectura\n",
    "# w+ = Leer y Escribir, prioridad sobre la escritura"
   ]
  },
  {
   "cell_type": "code",
   "execution_count": 250,
   "metadata": {},
   "outputs": [
    {
     "name": "stdout",
     "output_type": "stream",
     "text": [
      "['estrategia,codigo,cuenta_de_cobro,cuenta\\n', 'Estrategia 1,cod 1,cdc 1,101\\n', ',,cdc 2,102\\n', ',,cdc 3,103\\n', ',,cdc 4,\\n', ',,cdc 5,\\n', 'Estrategia 2,cod 2,cdc 3,105\\n', ',,cdc 2,102\\n', ',,,106\\n', ',,,107']\n"
     ]
    }
   ],
   "source": [
    "# file.read() # lee todo el archivo\n",
    "lines = file.readlines() # lee linea por linea\n",
    "print(lines)"
   ]
  },
  {
   "cell_type": "code",
   "execution_count": 251,
   "metadata": {},
   "outputs": [
    {
     "name": "stdout",
     "output_type": "stream",
     "text": [
      "estrategia,codigo,cuenta_de_cobro,cuenta\n",
      "\n",
      "Estrategia 1,cod 1,cdc 1,101\n",
      "\n",
      ",,cdc 2,102\n",
      "\n",
      ",,cdc 3,103\n",
      "\n",
      ",,cdc 4,\n",
      "\n",
      ",,cdc 5,\n",
      "\n",
      "Estrategia 2,cod 2,cdc 3,105\n",
      "\n",
      ",,cdc 2,102\n",
      "\n",
      ",,,106\n",
      "\n",
      ",,,107\n"
     ]
    }
   ],
   "source": [
    "for line in lines:\n",
    "    print(line)"
   ]
  },
  {
   "cell_type": "code",
   "execution_count": 252,
   "metadata": {},
   "outputs": [
    {
     "data": {
      "text/plain": [
       "',,cdc 2,102\\n'"
      ]
     },
     "execution_count": 252,
     "metadata": {},
     "output_type": "execute_result"
    }
   ],
   "source": [
    "lines[2]"
   ]
  },
  {
   "cell_type": "code",
   "execution_count": 253,
   "metadata": {},
   "outputs": [],
   "source": [
    "lines.append(\",,,108\")\n",
    "lines.append(\",,,109\")"
   ]
  },
  {
   "cell_type": "code",
   "execution_count": 254,
   "metadata": {},
   "outputs": [
    {
     "data": {
      "text/plain": [
       "False"
      ]
     },
     "execution_count": 254,
     "metadata": {},
     "output_type": "execute_result"
    }
   ],
   "source": [
    "file.closed"
   ]
  },
  {
   "cell_type": "code",
   "execution_count": 255,
   "metadata": {},
   "outputs": [],
   "source": [
    "# file.write # Escribe todo el archivo\n",
    "file.writelines(\"\\n,,,108\") # Escribe linea por linea\n",
    "# \\n es la forma de saltar linea"
   ]
  },
  {
   "cell_type": "code",
   "execution_count": 256,
   "metadata": {},
   "outputs": [],
   "source": [
    "file.close()"
   ]
  },
  {
   "cell_type": "code",
   "execution_count": 240,
   "metadata": {},
   "outputs": [
    {
     "data": {
      "text/plain": [
       "True"
      ]
     },
     "execution_count": 240,
     "metadata": {},
     "output_type": "execute_result"
    }
   ],
   "source": [
    "file.closed"
   ]
  },
  {
   "cell_type": "code",
   "execution_count": null,
   "metadata": {},
   "outputs": [],
   "source": [
    "with "
   ]
  },
  {
   "cell_type": "code",
   "execution_count": 194,
   "metadata": {},
   "outputs": [
    {
     "name": "stdout",
     "output_type": "stream",
     "text": [
      "Este texto deberia estar siempre en la misma linea\n",
      "Este texto no deberia \n",
      " estar siempre en la misma linea\n"
     ]
    }
   ],
   "source": [
    "print(\"Este texto deberia estar siempre en la misma linea\")\n",
    "print(\"Este texto no deberia \\n estar siempre en la misma linea\") # normal /, backslash \\"
   ]
  },
  {
   "cell_type": "code",
   "execution_count": null,
   "metadata": {},
   "outputs": [],
   "source": [
    "# Leer de la nube\n",
    "# open(\"C://Archivos de Programa/Windows/Usuarios/alejohz/archivo_a_leer\")\n",
    "# open(\"s3://archivo\") AWS\n",
    "# open(\"gcp://archivo\") Google\n",
    "# open(\"blob://archivo\") Azure blobs\n",
    "# open(\"gdrive://archivo\")\n",
    "# pandas"
   ]
  }
 ],
 "metadata": {
  "kernelspec": {
   "display_name": "general",
   "language": "python",
   "name": "python3"
  },
  "language_info": {
   "codemirror_mode": {
    "name": "ipython",
    "version": 3
   },
   "file_extension": ".py",
   "mimetype": "text/x-python",
   "name": "python",
   "nbconvert_exporter": "python",
   "pygments_lexer": "ipython3",
   "version": "3.11.4"
  }
 },
 "nbformat": 4,
 "nbformat_minor": 2
}

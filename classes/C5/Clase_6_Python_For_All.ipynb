{
 "cells": [
  {
   "cell_type": "markdown",
   "metadata": {},
   "source": [
    "# Clase 6\n",
    "\n",
    "#### **Contenido**\n",
    "- Revisar dudas de ejercicios para prácticar de la clase anterior\n",
    "- Terminar Archivos y Excepciones (Ejemplos)\n",
    "- Ejercicio 151\n",
    "- Ejercicio 142 (Funciones y Normal)\n",
    "- Ejercicio 143 (Funciones y Normal) Tarea\n",
    "- Módulos\n",
    "\n",
    "\n",
    "#### Ejercicios para practicar\n",
    "- Ejercicio 140\n",
    "- Ejercicio 153\n",
    "  \n",
    "#### Temas de estudio\n",
    "- Que son expresiones regulares? Y porque son utiles?"
   ]
  },
  {
   "cell_type": "markdown",
   "metadata": {},
   "source": [
    "### Terminar archivos\n",
    "\n",
    "Ya sabemos como leer y escribir contenido en un archivo."
   ]
  },
  {
   "cell_type": "markdown",
   "metadata": {},
   "source": [
    "Temas a repasar\n",
    "- \\n\n",
    "- open() y close()\n",
    "- read() y write()\n",
    "- writelines() y readlines() (readline())\n",
    "- with"
   ]
  },
  {
   "cell_type": "code",
   "execution_count": 36,
   "metadata": {},
   "outputs": [
    {
     "name": "stdout",
     "output_type": "stream",
     "text": [
      "\n",
      "\n",
      "/\n",
      "\\ \n",
      "\"Tomas\" y \"Maria Camila\"\n",
      "\"Tomas\" y \"Maria Camila\"\n",
      "'Tomas' y 'Maria Camila'\n",
      "Hola \n",
      "Mundo\n",
      "Hola \n",
      "Mundo\n",
      "Hola \n",
      "Mundo\n"
     ]
    }
   ],
   "source": [
    "print(\"\\n\") # Salto de línea\n",
    "print(\"/\") # Slash\n",
    "print(\"\\ \") # Backslash\n",
    "print(\"\\\"Tomas\\\" y \\\"Maria Camila\\\"\") # Formas de escribir comillas\n",
    "print('\"Tomas\" y \"Maria Camila\"') # Formas de escribir comillas\n",
    "print(\"'Tomas' y 'Maria Camila'\") # Formas de escribir comillas\n",
    "print(\n",
    "    \"Hola \\n\\\n",
    "Mundo\"\n",
    ")\n",
    "print(\n",
    "    \"Hola \\n\"\n",
    "    \"Mundo\"\n",
    ")\n",
    "print(\n",
    "    'Hola \\n'\n",
    "    'Mundo'\n",
    ")"
   ]
  },
  {
   "cell_type": "code",
   "execution_count": 37,
   "metadata": {},
   "outputs": [
    {
     "name": "stdout",
     "output_type": "stream",
     "text": [
      "londoño, gonzalez, ospina, restrepo, villareal\n"
     ]
    }
   ],
   "source": [
    "# Posicionales, Nombrados\n",
    "f = open(\"apellidos.txt\", \"r\") # Solo lee\n",
    "print(f.readline())\n",
    "f.close()"
   ]
  },
  {
   "cell_type": "code",
   "execution_count": 38,
   "metadata": {},
   "outputs": [
    {
     "name": "stdout",
     "output_type": "stream",
     "text": [
      "16\n"
     ]
    }
   ],
   "source": [
    "f = open(\"apellidos.txt\", \"w\") # Escribe y sobreescribe\n",
    "print(f.write(\"rodriguez, henao\"))\n",
    "f.close()"
   ]
  },
  {
   "cell_type": "code",
   "execution_count": 40,
   "metadata": {},
   "outputs": [
    {
     "name": "stdout",
     "output_type": "stream",
     "text": [
      "18\n"
     ]
    }
   ],
   "source": [
    "f = open(\"apellidos.txt\", \"a\") # Añadir a archivos ya existentes\n",
    "print(f.write(\", rodriguez, henao\"))\n",
    "f.close()"
   ]
  },
  {
   "cell_type": "code",
   "execution_count": 41,
   "metadata": {},
   "outputs": [
    {
     "name": "stdout",
     "output_type": "stream",
     "text": [
      "1\n"
     ]
    }
   ],
   "source": [
    "contador = 0\n",
    "contador += 1\n",
    "print(contador)"
   ]
  },
  {
   "cell_type": "code",
   "execution_count": 50,
   "metadata": {},
   "outputs": [
    {
     "data": {
      "text/plain": [
       "['1', '2', '3']"
      ]
     },
     "execution_count": 50,
     "metadata": {},
     "output_type": "execute_result"
    }
   ],
   "source": [
    "\"1a2a3\".split(\"a\")"
   ]
  },
  {
   "cell_type": "code",
   "execution_count": 51,
   "metadata": {},
   "outputs": [
    {
     "data": {
      "text/plain": [
       "'1a2a3'"
      ]
     },
     "execution_count": 51,
     "metadata": {},
     "output_type": "execute_result"
    }
   ],
   "source": [
    "\"a\".join([\"1\", \"2\", \"3\"])"
   ]
  },
  {
   "cell_type": "code",
   "execution_count": 55,
   "metadata": {},
   "outputs": [
    {
     "name": "stdout",
     "output_type": "stream",
     "text": [
      "['londoño, gonzalez, ospina, restrepo, villareal, rodriguez, henao', 'rodriguez, henao']\n"
     ]
    }
   ],
   "source": [
    "f = open(\"apellidos.txt\", \"r\", encoding=\"UTF-8\") # Solo lee\n",
    "lines = f.readlines()\n",
    "f.close()\n",
    "\n",
    "lines += [\"rodriguez, henao\"] # lines = lines + [\"rodriguez, henao\"]\n",
    "lineas_a_escribir = \", \".join(lines)\n",
    "\n",
    "f = open(\"apellidos.txt\", \"w\", encoding=\"utf-8\")\n",
    "f.write(lineas_a_escribir)\n",
    "f.close()\n",
    "\n",
    "print(lines)\n",
    "\n",
    "# El archivo queda con rodriguez y henao repetidos (3)\n",
    "# El archivo queda con un solo rodriguez y henao (2)\n",
    "# sale un error (1)\n",
    "# El archivo se sobrescribe por solo rodriguez y henao"
   ]
  },
  {
   "cell_type": "code",
   "execution_count": 56,
   "metadata": {},
   "outputs": [
    {
     "name": "stdout",
     "output_type": "stream",
     "text": [
      "False\n",
      "True\n",
      "['londoño, gonzalez, ospina, restrepo, villareal, rodriguez, henao']\n"
     ]
    }
   ],
   "source": [
    "# import math as m\n",
    "# en vez de open y close se usa with as\n",
    "with open(\"apellidos.txt\", \"r\") as f:\n",
    "    lines = f.readlines()\n",
    "    print(f.closed)\n",
    "print(f.closed)\n",
    "print(lines)"
   ]
  },
  {
   "cell_type": "markdown",
   "metadata": {},
   "source": [
    "### Excepciones\n",
    "- Las excepciones se usan para controlar y manejar posibles errores sobre los cuales no teníamos control."
   ]
  },
  {
   "cell_type": "code",
   "execution_count": 92,
   "metadata": {},
   "outputs": [],
   "source": [
    "def conteo_de_caracteres(path):\n",
    "    # f = open(...)\n",
    "    # f.close()\n",
    "    # try: except\n",
    "    # from math import SQRTError # ejemplo inventado\n",
    "    try: \n",
    "        with open(path, \"r\") as f:\n",
    "            lines = f.readlines()\n",
    "        # Esto esta adentro del try\n",
    "    except FileNotFoundError:\n",
    "        return \"El archivo no existe\"\n",
    "    acumulador = 0\n",
    "    for line in lines:\n",
    "        acumulador += len(line)\n",
    "    return acumulador\n",
    "    # Esto esta dentro\n",
    "# Esto esta afuera"
   ]
  },
  {
   "cell_type": "code",
   "execution_count": 89,
   "metadata": {},
   "outputs": [
    {
     "name": "stdout",
     "output_type": "stream",
     "text": [
      "64\n",
      "14\n",
      "37\n"
     ]
    }
   ],
   "source": [
    "print(conteo_de_caracteres(\"apellidos.txt\"))\n",
    "print(conteo_de_caracteres(\"datos.txt\"))\n",
    "print(conteo_de_caracteres(\"nombres.txt\"))"
   ]
  },
  {
   "cell_type": "code",
   "execution_count": 93,
   "metadata": {},
   "outputs": [
    {
     "data": {
      "text/plain": [
       "'El archivo no existe'"
      ]
     },
     "execution_count": 93,
     "metadata": {},
     "output_type": "execute_result"
    }
   ],
   "source": [
    "conteo_de_caracteres(\"segundos_apellidos.txt\")\n",
    "# 64\n",
    "# 14\n",
    "# 37\n",
    "# Error (7)"
   ]
  },
  {
   "cell_type": "code",
   "execution_count": 72,
   "metadata": {},
   "outputs": [
    {
     "name": "stdout",
     "output_type": "stream",
     "text": [
      "['londoño,\\n', 'gonzalez, ospina, restrepo, villareal, rodriguez, henao']\n",
      "2\n"
     ]
    }
   ],
   "source": [
    "with open(\"apellidos.txt\", \"r\") as f:\n",
    "    lines = f.readlines()\n",
    "    print(lines)\n",
    "    print(len(lines))"
   ]
  },
  {
   "cell_type": "code",
   "execution_count": 77,
   "metadata": {},
   "outputs": [
    {
     "data": {
      "text/plain": [
       "7"
      ]
     },
     "execution_count": 77,
     "metadata": {},
     "output_type": "execute_result"
    }
   ],
   "source": [
    "len('londoño')"
   ]
  },
  {
   "cell_type": "code",
   "execution_count": 75,
   "metadata": {},
   "outputs": [
    {
     "data": {
      "text/plain": [
       "'londoño,\\n'"
      ]
     },
     "execution_count": 75,
     "metadata": {},
     "output_type": "execute_result"
    }
   ],
   "source": [
    "lines[0]"
   ]
  },
  {
   "cell_type": "code",
   "execution_count": 76,
   "metadata": {},
   "outputs": [
    {
     "data": {
      "text/plain": [
       "'gonzalez, ospina, restrepo, villareal, rodriguez, henao'"
      ]
     },
     "execution_count": 76,
     "metadata": {},
     "output_type": "execute_result"
    }
   ],
   "source": [
    "lines[1]"
   ]
  },
  {
   "cell_type": "code",
   "execution_count": 74,
   "metadata": {},
   "outputs": [
    {
     "data": {
      "text/plain": [
       "3"
      ]
     },
     "execution_count": 74,
     "metadata": {},
     "output_type": "execute_result"
    }
   ],
   "source": [
    "len([1, 250, 312])"
   ]
  },
  {
   "cell_type": "code",
   "execution_count": 70,
   "metadata": {},
   "outputs": [
    {
     "name": "stdout",
     "output_type": "stream",
     "text": [
      "londoño,\n",
      "\n",
      "gonzalez, ospina, re\n",
      "strepo, villareal, r\n"
     ]
    }
   ],
   "source": [
    "with open(\"apellidos.txt\", \"r\") as f:\n",
    "    print(f.readline(20))\n",
    "    print(f.readline(20))\n",
    "    print(f.readline(20))"
   ]
  },
  {
   "cell_type": "code",
   "execution_count": 58,
   "metadata": {},
   "outputs": [],
   "source": [
    "conteo_de_archivo()"
   ]
  },
  {
   "cell_type": "code",
   "execution_count": 103,
   "metadata": {},
   "outputs": [],
   "source": [
    "def suma_de_caracteres(path1, path2):\n",
    "    try:\n",
    "        suma_total = conteo_de_caracteres(path1) + conteo_de_caracteres(path2)\n",
    "    except TypeError:\n",
    "        if isinstance(conteo_de_caracteres(path1), str):\n",
    "            return conteo_de_caracteres(path2)\n",
    "        elif isinstance(conteo_de_caracteres(path2), str):\n",
    "            return conteo_de_caracteres(path1)\n",
    "    return suma_total"
   ]
  },
  {
   "cell_type": "code",
   "execution_count": 104,
   "metadata": {},
   "outputs": [
    {
     "data": {
      "text/plain": [
       "'El archivo no existeEl archivo no existe'"
      ]
     },
     "execution_count": 104,
     "metadata": {},
     "output_type": "execute_result"
    }
   ],
   "source": [
    "suma_de_caracteres(\"terceros_apellidos.txt\", \"segundos_apellidos.txt\")"
   ]
  },
  {
   "cell_type": "code",
   "execution_count": 106,
   "metadata": {},
   "outputs": [],
   "source": [
    "def suma_de_caracteres(path1, path2):\n",
    "    conteo1 = 0\n",
    "    conteo2 = 0\n",
    "    if isinstance(conteo_de_caracteres(path1), int):\n",
    "        conteo1 = conteo_de_caracteres(path1)\n",
    "    elif isinstance(conteo_de_caracteres(path2), int):\n",
    "        conteo2 = conteo_de_caracteres(path2)\n",
    "    \n",
    "    suma_total = conteo1 + conteo2\n",
    "    return suma_total\n"
   ]
  },
  {
   "cell_type": "code",
   "execution_count": 107,
   "metadata": {},
   "outputs": [
    {
     "data": {
      "text/plain": [
       "0"
      ]
     },
     "execution_count": 107,
     "metadata": {},
     "output_type": "execute_result"
    }
   ],
   "source": [
    "suma_de_caracteres(\"terceros_apellidos.txt\", \"segundos_apellidos.txt\")"
   ]
  },
  {
   "cell_type": "markdown",
   "metadata": {},
   "source": [
    "#### Ejercicio 151\n",
    "Concatenate Multiple Files\n",
    "Unix-based operating systems typically include a tool named cat, which is short for concatenate. Its purpose is to display the concatenation of one or more files whose names are provided as command line arguments. The files are displayed in the same\n",
    "order that they appear on the command line.\n",
    "Create a Python program that performs this task. It should generate an appropriate\n",
    "error message for any file that cannot be displayed, and then proceed to the next file. Display an appropriate error message if your program is started without any command line arguments."
   ]
  },
  {
   "cell_type": "code",
   "execution_count": null,
   "metadata": {},
   "outputs": [],
   "source": []
  },
  {
   "cell_type": "code",
   "execution_count": 158,
   "metadata": {},
   "outputs": [],
   "source": [
    "# Coger los errores\n",
    "# Crear los mensajes de error\n",
    "# Crear lista con los archivos\n",
    "# Leer los archivos\n",
    "# Crear una funcion\n",
    "# sys built in de python\n",
    "\n",
    "def concatenar_archivos(*paths):\n",
    "    # 1 2 3 4\n",
    "    # [1, 2, 3, 4]\n",
    "    if len([*paths]) == 0:\n",
    "        print(\"No paso ningun argumento\")\n",
    "    lista_de_archivos = []\n",
    "    for path in paths:\n",
    "        try:\n",
    "            with open(path, \"r\") as f:\n",
    "                lines = f.readlines()\n",
    "            lista_de_archivos.append(\", \".join(lines))\n",
    "        except:\n",
    "            # pass\n",
    "            print(\"El archivo no existe\", path)\n",
    "    return \", \".join(lista_de_archivos)\n",
    "# concatenar_archivos(*archivos): # esta es la forma correcta de definir argumentos\n",
    "# indefinidos en cantidad\n"
   ]
  },
  {
   "cell_type": "code",
   "execution_count": 159,
   "metadata": {},
   "outputs": [
    {
     "name": "stdout",
     "output_type": "stream",
     "text": [
      "El archivo no existe segundos_apellidos.txt\n"
     ]
    }
   ],
   "source": [
    "lista_de_archivos = concatenar_archivos(\n",
    "    \"datos.txt\", \"nombres.txt\", \"apellidos.txt\",\n",
    "    \"segundos_apellidos.txt\"\n",
    ")"
   ]
  },
  {
   "cell_type": "code",
   "execution_count": 147,
   "metadata": {},
   "outputs": [
    {
     "data": {
      "text/plain": [
       "'15,81,13,20,30, david, manuel, samuel, gregorio, jose, londoño,\\n, gonzalez, ospina, restrepo, villareal, rodriguez, henao'"
      ]
     },
     "execution_count": 147,
     "metadata": {},
     "output_type": "execute_result"
    }
   ],
   "source": [
    "lista_de_archivos"
   ]
  },
  {
   "cell_type": "code",
   "execution_count": 160,
   "metadata": {},
   "outputs": [
    {
     "name": "stdout",
     "output_type": "stream",
     "text": [
      "No paso ningun argumento\n"
     ]
    },
    {
     "data": {
      "text/plain": [
       "''"
      ]
     },
     "execution_count": 160,
     "metadata": {},
     "output_type": "execute_result"
    }
   ],
   "source": [
    "concatenar_archivos()"
   ]
  },
  {
   "cell_type": "code",
   "execution_count": 128,
   "metadata": {},
   "outputs": [
    {
     "data": {
      "text/plain": [
       "2"
      ]
     },
     "execution_count": 128,
     "metadata": {},
     "output_type": "execute_result"
    }
   ],
   "source": [
    "len(lista_de_archivos[2])"
   ]
  },
  {
   "cell_type": "code",
   "execution_count": 115,
   "metadata": {},
   "outputs": [],
   "source": [
    "def sumar_numeros(*numeros):\n",
    "    acumulador = 0\n",
    "    for numero in numeros:\n",
    "        acumulador += numero\n",
    "    return acumulador"
   ]
  },
  {
   "cell_type": "code",
   "execution_count": 116,
   "metadata": {},
   "outputs": [
    {
     "data": {
      "text/plain": [
       "6"
      ]
     },
     "execution_count": 116,
     "metadata": {},
     "output_type": "execute_result"
    }
   ],
   "source": [
    "sumar_numeros(1, 2, 3)"
   ]
  },
  {
   "cell_type": "code",
   "execution_count": 150,
   "metadata": {},
   "outputs": [
    {
     "data": {
      "text/plain": [
       "3"
      ]
     },
     "execution_count": 150,
     "metadata": {},
     "output_type": "execute_result"
    }
   ],
   "source": [
    "len([1, 2, 3])"
   ]
  },
  {
   "cell_type": "code",
   "execution_count": 151,
   "metadata": {},
   "outputs": [
    {
     "data": {
      "text/plain": [
       "1"
      ]
     },
     "execution_count": 151,
     "metadata": {},
     "output_type": "execute_result"
    }
   ],
   "source": [
    "len([0])"
   ]
  },
  {
   "cell_type": "code",
   "execution_count": 152,
   "metadata": {},
   "outputs": [
    {
     "data": {
      "text/plain": [
       "3"
      ]
     },
     "execution_count": 152,
     "metadata": {},
     "output_type": "execute_result"
    }
   ],
   "source": [
    "len([1,23,4,])\n"
   ]
  },
  {
   "cell_type": "code",
   "execution_count": 153,
   "metadata": {},
   "outputs": [
    {
     "data": {
      "text/plain": [
       "0"
      ]
     },
     "execution_count": 153,
     "metadata": {},
     "output_type": "execute_result"
    }
   ],
   "source": [
    "len([])\n"
   ]
  },
  {
   "cell_type": "code",
   "execution_count": 169,
   "metadata": {},
   "outputs": [],
   "source": [
    "def dividir_numeros_1(a, b):\n",
    "    try:\n",
    "        return a / b # pedir perdon\n",
    "    except ZeroDivisionError:\n",
    "        print(\"Estas dividiendo por Cero\", b)\n",
    "\n",
    "# Excepciones\n",
    "def dividir_numeros_2(a, b):\n",
    "    if b == 0: # pedir permiso\n",
    "        return f\"Estas diviendo por Cero {b}\"\n",
    "    return a / b"
   ]
  },
  {
   "cell_type": "code",
   "execution_count": 170,
   "metadata": {},
   "outputs": [
    {
     "name": "stdout",
     "output_type": "stream",
     "text": [
      "Estas dividiendo por Cero 0\n"
     ]
    },
    {
     "data": {
      "text/plain": [
       "'Estas diviendo por Cero 0'"
      ]
     },
     "execution_count": 170,
     "metadata": {},
     "output_type": "execute_result"
    }
   ],
   "source": [
    "dividir_numeros_1(7, 0)\n",
    "dividir_numeros_2(7, 0)"
   ]
  },
  {
   "cell_type": "markdown",
   "metadata": {},
   "source": [
    "Exercise 142: Unique Characters  \n",
    "(Solved, 16 Lines) Create a program that determines and displays the number of unique characters in a string entered by the user.For example, Hello, World! has 10 unique characters while zzz has only one unique character. Use a dictionary or set to solve this problem."
   ]
  },
  {
   "cell_type": "code",
   "execution_count": 182,
   "metadata": {},
   "outputs": [
    {
     "name": "stdout",
     "output_type": "stream",
     "text": [
      "{'h': 1, 'a': 1, 'n': 1}\n",
      "3  Con diccionario\n",
      "3  Con set\n"
     ]
    }
   ],
   "source": [
    "# Crear diccionario o set\n",
    "# pedirle una string al usuario\n",
    "# Crear una funcion\n",
    "# retornar el numero de unicos\n",
    "# diccionario[llave]=valor\n",
    "palabra = input(\"Escribe una palabra: \")\n",
    "unique_dict = {}\n",
    "lista_de_caracteres = list(palabra)\n",
    "for caracter in lista_de_caracteres:\n",
    "    unique_dict[caracter] = 1\n",
    "print(unique_dict)\n",
    "print(len(unique_dict), \" Con diccionario\")\n",
    "print(len(set(lista_de_caracteres)), \" Con set\")"
   ]
  },
  {
   "cell_type": "code",
   "execution_count": 189,
   "metadata": {},
   "outputs": [],
   "source": [
    "\n",
    "def conteo_de_unicos(palabra, forma):\n",
    "    lista_de_caracteres = list(palabra)\n",
    "    if forma == \"diccionario\":\n",
    "        unique_dict = {}\n",
    "        for caracter in lista_de_caracteres:\n",
    "            unique_dict[caracter] = 1\n",
    "        # print(unique_dict)\n",
    "        return(len(unique_dict), \" Con diccionario\")\n",
    "    elif forma == \"conjunto\":\n",
    "        return(len(set(lista_de_caracteres)), \" Con set\")\n",
    "    else:\n",
    "        return \"No paso una forma valida\"\n"
   ]
  },
  {
   "cell_type": "code",
   "execution_count": 190,
   "metadata": {},
   "outputs": [
    {
     "data": {
      "text/plain": [
       "(3, ' Con diccionario')"
      ]
     },
     "execution_count": 190,
     "metadata": {},
     "output_type": "execute_result"
    }
   ],
   "source": [
    "conteo_de_unicos(\"hannah\", \"diccionario\")"
   ]
  },
  {
   "cell_type": "code",
   "execution_count": 191,
   "metadata": {},
   "outputs": [
    {
     "data": {
      "text/plain": [
       "(3, ' Con set')"
      ]
     },
     "execution_count": 191,
     "metadata": {},
     "output_type": "execute_result"
    }
   ],
   "source": [
    "conteo_de_unicos(\"hannah\", \"conjunto\")\n"
   ]
  },
  {
   "cell_type": "code",
   "execution_count": 171,
   "metadata": {},
   "outputs": [
    {
     "data": {
      "text/plain": [
       "['1', '2', '3']"
      ]
     },
     "execution_count": 171,
     "metadata": {},
     "output_type": "execute_result"
    }
   ],
   "source": [
    "\"1a2a3\".split(\"a\")"
   ]
  },
  {
   "cell_type": "code",
   "execution_count": 173,
   "metadata": {},
   "outputs": [
    {
     "data": {
      "text/plain": [
       "['123']"
      ]
     },
     "execution_count": 173,
     "metadata": {},
     "output_type": "execute_result"
    }
   ],
   "source": [
    "\"123\".split(\" \")"
   ]
  },
  {
   "cell_type": "code",
   "execution_count": 174,
   "metadata": {},
   "outputs": [
    {
     "data": {
      "text/plain": [
       "['1', '2', '3']"
      ]
     },
     "execution_count": 174,
     "metadata": {},
     "output_type": "execute_result"
    }
   ],
   "source": [
    "list(\"123\")"
   ]
  },
  {
   "cell_type": "code",
   "execution_count": 180,
   "metadata": {},
   "outputs": [
    {
     "name": "stdout",
     "output_type": "stream",
     "text": [
      "[1, 2, 3, 3, 3, 3, 3, 3, 3, 3, 4]\n"
     ]
    }
   ],
   "source": [
    "print([1,2,3,3,3,3,3,3,3,3,4])"
   ]
  },
  {
   "cell_type": "code",
   "execution_count": 181,
   "metadata": {},
   "outputs": [
    {
     "name": "stdout",
     "output_type": "stream",
     "text": [
      "{1, 2, 3, 4}\n"
     ]
    }
   ],
   "source": [
    "print(set([1,2,3,3,3,3,3,3,3,3,4]))\n"
   ]
  },
  {
   "cell_type": "code",
   "execution_count": 193,
   "metadata": {},
   "outputs": [
    {
     "name": "stdout",
     "output_type": "stream",
     "text": [
      "Hola Alejandro\n",
      "Hola Daniel\n",
      "Hola Maria\n"
     ]
    }
   ],
   "source": [
    "from saludos import saludar_nombre\n",
    "\n",
    "print(saludar_nombre(\"Alejandro\"))\n",
    "print(saludar_nombre(\"Daniel\"))\n",
    "print(saludar_nombre(\"Maria\"))"
   ]
  },
  {
   "cell_type": "code",
   "execution_count": null,
   "metadata": {},
   "outputs": [],
   "source": []
  }
 ],
 "metadata": {
  "kernelspec": {
   "display_name": "general",
   "language": "python",
   "name": "python3"
  },
  "language_info": {
   "codemirror_mode": {
    "name": "ipython",
    "version": 3
   },
   "file_extension": ".py",
   "mimetype": "text/x-python",
   "name": "python",
   "nbconvert_exporter": "python",
   "pygments_lexer": "ipython3",
   "version": "3.11.4"
  }
 },
 "nbformat": 4,
 "nbformat_minor": 2
}

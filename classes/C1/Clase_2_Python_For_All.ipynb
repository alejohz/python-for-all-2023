{
  "cells": [
    {
      "cell_type": "markdown",
      "metadata": {
        "id": "T309aNE_O3b0"
      },
      "source": [
        "# Clase 2\n",
        "# Python for all\n",
        "Vamos a ver un repaso de la clase anterior y a grabarnos bien esos conceptos iniciales de Python.\n",
        "Con las bases listas, podemos seguir avanzando en el curso.\n",
        "\n",
        "La idea es que hoy veamos los siguientes temas:\n",
        "- Introducción a la programación. (Repaso)\n",
        "- Variables, expresiones, operadores. (Repaso)\n",
        "- Condicionales (Repaso)\n",
        "- Ejercicios (32, 34, 35, 36)\n",
        "- Contenedores (Repaso)\n",
        "- Ejercicios (45, 60, 104)\n",
        "- Ciclos"
      ]
    },
    {
      "cell_type": "markdown",
      "metadata": {
        "id": "M5z7i9OYRbRm"
      },
      "source": [
        "## Introducción a la programación\n",
        "\n",
        "Programar es como crear una receta. Python es el chef, que va a seguir los pasos detalladamente."
      ]
    },
    {
      "cell_type": "markdown",
      "metadata": {
        "id": "siWYXtq4Mtvw"
      },
      "source": [
        "Librerias más famosas de machine learning en Python:\n",
        "\n",
        "- Tensorflow\n",
        "- Pytorch (Torch)\n",
        "\n",
        "Proveedores de nube más famosos:\n",
        "AWS, AZURE, GOOGLE CLOUD PLATFORM"
      ]
    },
    {
      "cell_type": "markdown",
      "metadata": {
        "id": "xxnXt9VTN7fr"
      },
      "source": [
        "Variables, Operadores y Expresiones\n",
        "\n",
        "Variables: Contenedor de información"
      ]
    },
    {
      "cell_type": "code",
      "execution_count": 2,
      "metadata": {
        "colab": {
          "base_uri": "https://localhost:8080/"
        },
        "id": "9W1dW7lLO1Ba",
        "outputId": "d7a91386-4267-4ad5-e1bf-635b6b13c8b3"
      },
      "outputs": [
        {
          "name": "stdout",
          "output_type": "stream",
          "text": [
            "1.1\n"
          ]
        }
      ],
      "source": [
        "email = \"ohenaoz@eafit.edu.co\" # str()\n",
        "telefono = 999999999 # int()\n",
        "hombre = True\n",
        "numero1 = 1.1 # float()\n",
        "numero2 = 2.5\n",
        "numero1 = \"estoy\"\n",
        "numero1 = False\n",
        "numero1 = 1.1\n",
        "\n",
        "print(numero1)"
      ]
    },
    {
      "cell_type": "code",
      "execution_count": 6,
      "metadata": {
        "colab": {
          "base_uri": "https://localhost:8080/"
        },
        "id": "j2_J83LHQ2td",
        "outputId": "fef0dec6-7edb-4e50-8437-9f51e8474d77"
      },
      "outputs": [
        {
          "name": "stdout",
          "output_type": "stream",
          "text": [
            "5.0\n",
            "False\n",
            "False\n",
            "False\n",
            "True\n",
            "False\n"
          ]
        }
      ],
      "source": [
        "\"\"\"\n",
        "Operadores, son los que se usan para hacer operaciones, estas operaciones no solo son matematicas\n",
        "tambien hay de asignacion, logicas y de comparacion\n",
        "\"\"\"\n",
        "#import math\n",
        "# radicacion = math.sqrt(25)\n",
        "from math import sqrt\n",
        "# operadores aritmeticos\n",
        "suma = 2 + 2\n",
        "resta = 2 - 3\n",
        "multiplicacion = 4 * 2\n",
        "division = 5 / 2\n",
        "potenciacion = 4 ** 2\n",
        "residuo=5%2\n",
        "radicacion = sqrt(25)\n",
        "print(radicacion)\n",
        "\n",
        "# operadores logicos (and, or, not)\n",
        "logica1 = True and False\n",
        "logica2 = False or False\n",
        "logica3 = not True\n",
        "\n",
        "print(logica1)\n",
        "print(logica2)\n",
        "print(logica3)\n",
        "# and\n",
        "# 1 and 0 : 0\n",
        "# 1 and 1 : 1\n",
        "# 0 and 0: 0\n",
        "# 0 and 1: 0\n",
        "# or\n",
        "# 1 or 1: 1\n",
        "# 0 or 1: 1\n",
        "# 1 or 0: 1\n",
        "# 0 or 0: 0\n",
        "\n",
        "# operadores de comparacion\n",
        "comparacion1 = 5 > 6\n",
        "comparacion2 = 10 < 15\n",
        "compracion3 = 4 >= 4.5\n",
        "comparacion4 = logica1 == logica2\n",
        "comparacion5 = logica2 != logica3\n",
        "print(comparacion4)\n",
        "print(comparacion5)"
      ]
    },
    {
      "cell_type": "code",
      "execution_count": 10,
      "metadata": {
        "colab": {
          "base_uri": "https://localhost:8080/"
        },
        "id": "DPMEGRHMTlwx",
        "outputId": "6e91202c-61f8-4acb-8d3e-a6498e9cd0ca"
      },
      "outputs": [
        {
          "name": "stdout",
          "output_type": "stream",
          "text": [
            "15\n",
            "87.5\n"
          ]
        }
      ],
      "source": [
        "precedencia1 = 5 + 2 * 5\n",
        "precedencia2 = (5 + 2) * ((5 ** 2) / (4 - 2))\n",
        "print(precedencia1)\n",
        "print(precedencia2)"
      ]
    },
    {
      "cell_type": "code",
      "execution_count": 11,
      "metadata": {
        "colab": {
          "base_uri": "https://localhost:8080/"
        },
        "id": "JYPnlbPUWx3I",
        "outputId": "fa52cc30-16d9-4501-9b40-f65485ee3d2c"
      },
      "outputs": [
        {
          "name": "stdout",
          "output_type": "stream",
          "text": [
            "\n",
            "Here is a list of the Python keywords.  Enter any keyword to get more help.\n",
            "\n",
            "False               class               from                or\n",
            "None                continue            global              pass\n",
            "True                def                 if                  raise\n",
            "and                 del                 import              return\n",
            "as                  elif                in                  try\n",
            "assert              else                is                  while\n",
            "async               except              lambda              with\n",
            "await               finally             nonlocal            yield\n",
            "break               for                 not                 \n",
            "\n"
          ]
        }
      ],
      "source": [
        "help(\"keywords\")"
      ]
    },
    {
      "cell_type": "code",
      "execution_count": 12,
      "metadata": {
        "colab": {
          "base_uri": "https://localhost:8080/"
        },
        "id": "t9okFBU4W3aX",
        "outputId": "ed3717e0-303b-4218-e93f-198ec7293f2e"
      },
      "outputs": [
        {
          "name": "stdout",
          "output_type": "stream",
          "text": [
            "Uy no son iguales\n"
          ]
        }
      ],
      "source": [
        "\"\"\"\n",
        "Condicional\n",
        "if (operacion logica):\n",
        "  #Codigo corre si se cumple la operacion\n",
        "else:\n",
        "  #codigo corre si no se cumple la operacion\n",
        "\n",
        "if (operacion logica 2):\n",
        "  # Codigo corre si se cumple la operacion 2\n",
        "elif (operacion logica 3):\n",
        "  # Codigo corre si se cumple la 3 y no se cumplio la 2\n",
        "else:\n",
        "  # Codigo corre si no se cumple la 2 ni la 3\n",
        "\"\"\"\n",
        "\n",
        "maria_camila = True\n",
        "diego = False\n",
        "if maria_camila == diego:\n",
        "  print(\"Wow\")\n",
        "else:\n",
        "  print(\"Uy no son iguales\")"
      ]
    },
    {
      "cell_type": "code",
      "execution_count": 14,
      "metadata": {
        "colab": {
          "base_uri": "https://localhost:8080/"
        },
        "id": "pMAXyYL5Xfrb",
        "outputId": "163dea8d-0c8c-4b0e-cad2-aa1ad30c9b96"
      },
      "outputs": [
        {
          "name": "stdout",
          "output_type": "stream",
          "text": [
            "Alguno de los dos es par\n"
          ]
        }
      ],
      "source": [
        "a = 5\n",
        "b = 6\n",
        "c = 7\n",
        "d = 8\n",
        "if ((a % 2 == 0) or (b % 2 == 0)):\n",
        "  print(\"Alguno de los dos es par\")\n",
        "else:\n",
        "  print(\"Ninguno de los dos es par\")"
      ]
    },
    {
      "cell_type": "code",
      "execution_count": 15,
      "metadata": {
        "colab": {
          "base_uri": "https://localhost:8080/"
        },
        "id": "STI4bIcMdaKV",
        "outputId": "d73b79fb-0432-4ce5-c6bb-0b1a61ac6e48"
      },
      "outputs": [
        {
          "name": "stdout",
          "output_type": "stream",
          "text": [
            "6  al cuadrado no es igual a 8\n",
            "36\n"
          ]
        }
      ],
      "source": [
        "if (b ** 2 == d):\n",
        "  print(b,\" al cuadrado es igual a \", d)\n",
        "else:\n",
        "  print(b, \" al cuadrado no es igual a\", d)\n",
        "print(b ** 2)"
      ]
    },
    {
      "cell_type": "code",
      "execution_count": 36,
      "metadata": {
        "colab": {
          "base_uri": "https://localhost:8080/"
        },
        "id": "adv_gxULd3PF",
        "outputId": "b016551a-2be2-4d8d-af6c-6010a9283981"
      },
      "outputs": [
        {
          "name": "stdout",
          "output_type": "stream",
          "text": [
            "pues no era tan obvio\n"
          ]
        }
      ],
      "source": [
        "if (18 > 19):\n",
        " print(\"Esto es obvio\")\n",
        "elif (b != 6):\n",
        "  print(\"Esto tambien es obvio\")\n",
        "else:\n",
        "  print(\"pues no era tan obvio\")"
      ]
    },
    {
      "cell_type": "code",
      "execution_count": null,
      "metadata": {
        "id": "4qmqHVosjXiT"
      },
      "outputs": [],
      "source": [
        "if w == y:"
      ]
    },
    {
      "cell_type": "markdown",
      "metadata": {
        "id": "7FcBCl9celwn"
      },
      "source": [
        "Exercise 32: Sum of the Digits in an Integer\n",
        "\n",
        "Develop a program that reads a four-digit integer from\n",
        "\n",
        "the user and displays the sum of its digits.\n",
        "\n",
        "For example, if the user enters 3141 then your program should display\n",
        "3+1+4+1=9."
      ]
    },
    {
      "cell_type": "code",
      "execution_count": 40,
      "metadata": {
        "colab": {
          "base_uri": "https://localhost:8080/"
        },
        "id": "zuWTYu_eenZn",
        "outputId": "0f6e3435-539c-4ef6-ddc8-a2d6aeadccd8"
      },
      "outputs": [
        {
          "name": "stdout",
          "output_type": "stream",
          "text": [
            "Escribe un número de 4 digitos: 3141\n",
            "['3', '1', '4', '1']\n",
            "Estoy dentro del for  3\n",
            "Estoy dentro del for  4\n",
            "Estoy dentro del for  8\n",
            "Estoy dentro del for  9\n",
            "Estoy afuera del for  9\n",
            "Acabó\n"
          ]
        }
      ],
      "source": [
        "\"\"\"\n",
        "for iterador in rango:\n",
        "  #haga algo\n",
        "\"\"\"\n",
        "\n",
        "numero = input(\"Escribe un número de 4 digitos: \")\n",
        "lista_de_caracteres = list(numero)\n",
        "print(lista_de_caracteres)\n",
        "acumulador = 0\n",
        "contador = 0\n",
        "for caracter in lista_de_caracteres:\n",
        "  # print(int(caracter))\n",
        "  contador = contador + 1\n",
        "  acumulador = acumulador + int(caracter)\n",
        "  print(\"Estoy dentro del for \", acumulador)\n",
        "print(\"Estoy afuera del for \", acumulador)\n",
        "# print(contador)\n",
        "# print(int(lista_de_caracteres[0]))\n",
        "# print(int(lista_de_caracteres[1]))\n",
        "# print(int(lista_de_caracteres[2]))\n",
        "# print(int(lista_de_caracteres[3]))\n",
        "print(\"Acabó\")"
      ]
    },
    {
      "cell_type": "code",
      "execution_count": 65,
      "metadata": {
        "colab": {
          "base_uri": "https://localhost:8080/",
          "height": 286
        },
        "id": "BzS9ntcFhgl9",
        "outputId": "240cc845-ee0d-427c-f47b-093a7c133041"
      },
      "outputs": [
        {
          "name": "stdout",
          "output_type": "stream",
          "text": [
            "Escribe un número de n digitos: 31411\n",
            "Tienen que ser cuatro digitos\n"
          ]
        },
        {
          "ename": "TypeError",
          "evalue": "ignored",
          "output_type": "error",
          "traceback": [
            "\u001b[0;31m---------------------------------------------------------------------------\u001b[0m",
            "\u001b[0;31mTypeError\u001b[0m                                 Traceback (most recent call last)",
            "\u001b[0;32m<ipython-input-65-75e356fd89ff>\u001b[0m in \u001b[0;36m<cell line: 8>\u001b[0;34m()\u001b[0m\n\u001b[1;32m      8\u001b[0m \u001b[0;32mif\u001b[0m \u001b[0mlen\u001b[0m\u001b[0;34m(\u001b[0m\u001b[0mlista_de_caracteres\u001b[0m\u001b[0;34m)\u001b[0m \u001b[0;34m!=\u001b[0m \u001b[0;36m4\u001b[0m\u001b[0;34m:\u001b[0m\u001b[0;34m\u001b[0m\u001b[0;34m\u001b[0m\u001b[0m\n\u001b[1;32m      9\u001b[0m   \u001b[0mprint\u001b[0m\u001b[0;34m(\u001b[0m\u001b[0;34m\"Tienen que ser cuatro digitos\"\u001b[0m\u001b[0;34m)\u001b[0m\u001b[0;34m\u001b[0m\u001b[0;34m\u001b[0m\u001b[0m\n\u001b[0;32m---> 10\u001b[0;31m   \u001b[0;32mraise\u001b[0m\u001b[0;34m(\u001b[0m\u001b[0;34m\"ValueError\"\u001b[0m\u001b[0;34m)\u001b[0m\u001b[0;34m\u001b[0m\u001b[0;34m\u001b[0m\u001b[0m\n\u001b[0m\u001b[1;32m     11\u001b[0m \u001b[0;32mfor\u001b[0m \u001b[0mi\u001b[0m \u001b[0;32min\u001b[0m \u001b[0mrange\u001b[0m\u001b[0;34m(\u001b[0m\u001b[0mlen\u001b[0m\u001b[0;34m(\u001b[0m\u001b[0mlista_de_caracteres\u001b[0m\u001b[0;34m)\u001b[0m\u001b[0;34m)\u001b[0m\u001b[0;34m:\u001b[0m\u001b[0;34m\u001b[0m\u001b[0;34m\u001b[0m\u001b[0m\n\u001b[1;32m     12\u001b[0m   \u001b[0;31m# print(lista_de_caracteres[i])\u001b[0m\u001b[0;34m\u001b[0m\u001b[0;34m\u001b[0m\u001b[0m\n",
            "\u001b[0;31mTypeError\u001b[0m: exceptions must derive from BaseException"
          ]
        }
      ],
      "source": [
        "numero = input(\"Escribe un número de n digitos: \")\n",
        "lista_de_caracteres = list(numero)\n",
        "acumulador = 0\n",
        "contador = 0\n",
        "# lista_de_iteraciones = [0, 1, 2, 3]\n",
        "# lista_de_iteraciones = range(digitos)\n",
        "# print(list(lista_de_iteraciones))\n",
        "if len(lista_de_caracteres) != 4:\n",
        "  print(\"Tienen que ser cuatro digitos\")\n",
        "else:\n",
        "  for i in range(len(lista_de_caracteres)):\n",
        "    # print(lista_de_caracteres[i])\n",
        "    acumulador = acumulador + int(lista_de_caracteres[i])\n",
        "    print(\"Iteracion\", i)\n",
        "    print(\"Indice de la lista \", int(lista_de_caracteres[i]))\n",
        "    print(\"Acumulador\", acumulador)\n",
        "    # print(int(caracter))\n",
        "  #   contador = contador + 1\n",
        "  #   print(\"Estoy dentro del for \", acumulador)\n",
        "  # print(\"Estoy afuera del for \", acumulador)\n"
      ]
    },
    {
      "cell_type": "code",
      "execution_count": 63,
      "metadata": {
        "colab": {
          "base_uri": "https://localhost:8080/"
        },
        "id": "GhMP_5BDiaR7",
        "outputId": "56725b8e-cad5-4d00-c37d-0499e25db506"
      },
      "outputs": [
        {
          "name": "stdout",
          "output_type": "stream",
          "text": [
            "0\n",
            "1\n",
            "2\n",
            "3\n",
            "4\n"
          ]
        }
      ],
      "source": [
        "L = [0, 1, 2, 3, 4]\n",
        "for numero in L:\n",
        "  print(numero)"
      ]
    },
    {
      "cell_type": "code",
      "execution_count": 61,
      "metadata": {
        "colab": {
          "base_uri": "https://localhost:8080/"
        },
        "id": "XoWE02qaoRq_",
        "outputId": "68821dd5-104b-436f-9301-b07f3cc9a13d"
      },
      "outputs": [
        {
          "name": "stdout",
          "output_type": "stream",
          "text": [
            "4\n",
            "5\n",
            "6\n",
            "7\n",
            "8\n",
            "10\n"
          ]
        }
      ],
      "source": [
        "L = [4, 5, 6, 7, 8, 10]\n",
        "n = len(L)\n",
        "for i in range(n):\n",
        "  # print(i)\n",
        "  print(L[i])"
      ]
    },
    {
      "cell_type": "code",
      "execution_count": 84,
      "metadata": {
        "colab": {
          "base_uri": "https://localhost:8080/"
        },
        "id": "SojhjQxyqM40",
        "outputId": "1af82eac-168d-4a6c-e06a-a3c2ef7c2aae"
      },
      "outputs": [
        {
          "name": "stdout",
          "output_type": "stream",
          "text": [
            "[10, 100, 200, 4, 1, 1000]\n",
            "10\n",
            "[100, 200]\n",
            "1000\n",
            "[10, 100, 200, 4, 1]\n",
            "1\n",
            "4\n",
            "[200, 4]\n",
            "[100, 200]\n",
            "[10, 100, 300, 4, 1]\n"
          ]
        }
      ],
      "source": [
        "L = [10, 100, 200, 4, 1, 1000]\n",
        "print(L)\n",
        "print(L[0])\n",
        "print(L[1:3])\n",
        "ultimo_elemento = L.pop() # aqui elimino el ultimo elemento de L\n",
        "print(ultimo_elemento)\n",
        "print(L)\n",
        "print(L[-1])\n",
        "print(L[-2])\n",
        "print(L[-3:-1])\n",
        "print(L[1:3])\n",
        "L[2] = 300\n",
        "print(L)"
      ]
    },
    {
      "cell_type": "code",
      "execution_count": 98,
      "metadata": {
        "colab": {
          "base_uri": "https://localhost:8080/"
        },
        "id": "gDbsSh1CqR25",
        "outputId": "92610814-d0aa-499a-cd7c-268650abd69a"
      },
      "outputs": [
        {
          "name": "stdout",
          "output_type": "stream",
          "text": [
            "30\n",
            "True\n",
            "dict_keys(['edad', 'camiseta', 'direccion', 'gafas'])\n",
            "dict_values([30, 'azul', 'calle 0', True])\n",
            "dict_items([('edad', 30), ('camiseta', 'azul'), ('direccion', 'calle 0'), ('gafas', True)])\n"
          ]
        }
      ],
      "source": [
        "daniel_ardila = {\"edad\": 30, \"camiseta\": \"azul\", \"direccion\": \"calle 0\"}\n",
        "print(daniel_ardila['edad'])\n",
        "daniel_ardila['gafas'] = True\n",
        "print(daniel_ardila['gafas'])\n",
        "# daniel_ardila[10] = False\n",
        "# print(daniel_ardila)\n",
        "# daniel_ardila[11.0] = True\n",
        "# print(daniel_ardila)\n",
        "# daniel_ardila[True] = \"10\"\n",
        "# print(daniel_ardila)\n",
        "print(daniel_ardila.keys())\n",
        "print(daniel_ardila.values())\n",
        "print(daniel_ardila.items())"
      ]
    },
    {
      "cell_type": "markdown",
      "metadata": {
        "id": "-ceaPaT0tM7G"
      },
      "source": [
        "Exercise 34: Day Old Bread\n",
        "\n",
        "A bakery sells loaves of bread for $3.49 each. Day old bread is\n",
        "\n",
        "discounted by 60 percent. Write a program that begins by reading\n",
        "\n",
        "the number of loaves of day old bread being purchased from the user.\n",
        "\n",
        "Then your program should display the regular price for the bread, the\n",
        "\n",
        "discount because it is a day old, and the total price. Each of these\n",
        "\n",
        "amounts should be displayed on its own line with an appropriate label.\n",
        "\n",
        "All of the values should be displayed using two decimal places, and the\n",
        "\n",
        "decimal points in all of the numbers should be aligned when reasonable\n",
        "\n",
        "values are entered by the user."
      ]
    },
    {
      "cell_type": "code",
      "execution_count": 110,
      "metadata": {
        "colab": {
          "base_uri": "https://localhost:8080/"
        },
        "id": "fAKZ_KVQqWhM",
        "outputId": "484e2161-20ee-4071-8475-e6696ddb4476"
      },
      "outputs": [
        {
          "name": "stdout",
          "output_type": "stream",
          "text": [
            "Cuantas tajadas de pan viejas va a comprar: 3\n",
            "Precio regular  10.47\n",
            "Descuento total  6.28\n",
            "Precio total  4.19\n"
          ]
        }
      ],
      "source": [
        "price = 3.49\n",
        "discount = 0.6\n",
        "\n",
        "old_loaves = input(\"Cuantas tajadas de pan viejas va a comprar: \")\n",
        "integer_old_loaves = int(old_loaves)\n",
        "price_regular = price * integer_old_loaves\n",
        "total_discount = discount * price_regular\n",
        "total_price = price_regular - total_discount\n",
        "print(f\"Precio regular {price_regular: .2f}\")\n",
        "print(f\"Descuento total {total_discount: .2f}\")\n",
        "print(f\"Precio total {total_price: .2f}\")\n",
        "# print(f\"Precio total {total_price}\")"
      ]
    },
    {
      "cell_type": "code",
      "execution_count": 119,
      "metadata": {
        "colab": {
          "base_uri": "https://localhost:8080/",
          "height": 35
        },
        "id": "n1eQTlAhvPE0",
        "outputId": "3b9b7b9e-d5bc-41eb-ba3b-6bf3a0031ca0"
      },
      "outputs": [
        {
          "data": {
            "application/vnd.google.colaboratory.intrinsic+json": {
              "type": "string"
            },
            "text/plain": [
              "'aaaaabbbbbb'"
            ]
          },
          "execution_count": 119,
          "metadata": {},
          "output_type": "execute_result"
        }
      ],
      "source": [
        "\"a\"*5 + \"b\"*6"
      ]
    },
    {
      "cell_type": "code",
      "execution_count": 113,
      "metadata": {
        "colab": {
          "base_uri": "https://localhost:8080/"
        },
        "id": "9fSZl1bgwn69",
        "outputId": "db7d5020-22f5-489d-cf20-5ab517823f0d"
      },
      "outputs": [
        {
          "data": {
            "text/plain": [
              "[1, 1, 1, 1, 1, 2, 2, 2, 2, 2]"
            ]
          },
          "execution_count": 113,
          "metadata": {},
          "output_type": "execute_result"
        }
      ],
      "source": [
        "[1]*5 + [2]*5"
      ]
    },
    {
      "cell_type": "code",
      "execution_count": 116,
      "metadata": {
        "colab": {
          "base_uri": "https://localhost:8080/"
        },
        "id": "YadE8Karwr_a",
        "outputId": "f1b1c748-6eac-4d66-e25b-d5bf8ba3f2e0"
      },
      "outputs": [
        {
          "name": "stdout",
          "output_type": "stream",
          "text": [
            "[[1, 2, 3], [4, 5, 6]]\n"
          ]
        }
      ],
      "source": [
        "W = [[1,2,3],[4,5,6]]\n",
        "print(W)"
      ]
    },
    {
      "cell_type": "markdown",
      "metadata": {
        "id": "8tz7xfAHxcIF"
      },
      "source": [
        "\n",
        "Exercise 35: Even or Odd?\n",
        "(Solved, 13 Lines) Write a program that reads an integer from\n",
        "\n",
        "the user.\n",
        "\n",
        "Then your program should\n",
        "\n",
        "\n",
        "display a message indicating whether the integer is even or odd."
      ]
    },
    {
      "cell_type": "code",
      "execution_count": 135,
      "metadata": {
        "colab": {
          "base_uri": "https://localhost:8080/"
        },
        "id": "DAUmgxiVxGS4",
        "outputId": "b29992e5-d3c2-43e0-b1b1-84ffdeb2b9a3"
      },
      "outputs": [
        {
          "name": "stdout",
          "output_type": "stream",
          "text": [
            "Escriba un entero: -2\n",
            "-2 es par\n"
          ]
        }
      ],
      "source": [
        "numero = input(\"Escriba un entero: \")\n",
        "numero = int(float(numero))\n",
        "# if numero % 2 == 0:\n",
        "#   print(f\"{numero} es par\")\n",
        "# else:\n",
        "#   print(f\"{numero} es impar\")\n",
        "\n",
        "if numero % 2 == 0:\n",
        "  print(f\"{numero} es par\")\n",
        "elif numero % 2 == 1:\n",
        "  print(f\"{numero} es impar\")\n",
        "else:\n",
        "  print(\"Aqui nunca va a entrar\")"
      ]
    },
    {
      "cell_type": "code",
      "execution_count": null,
      "metadata": {
        "id": "Oq_bQFJQyaGy"
      },
      "outputs": [],
      "source": []
    }
  ],
  "metadata": {
    "colab": {
      "provenance": []
    },
    "kernelspec": {
      "display_name": "Python 3",
      "name": "python3"
    },
    "language_info": {
      "name": "python",
      "version": "3.11.4"
    }
  },
  "nbformat": 4,
  "nbformat_minor": 0
}

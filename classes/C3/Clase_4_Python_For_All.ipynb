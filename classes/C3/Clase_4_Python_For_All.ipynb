{
 "cells": [
  {
   "cell_type": "markdown",
   "metadata": {},
   "source": [
    "# Clase 4\n",
    "\n",
    "**Contenido**\n",
    "- Nueva metodológia de ejercicios de práctica\n",
    "- Que es pip y conda? (App Store O Google Play Store para python)\n",
    "  - Porque debo separar mis ambientes?\n",
    "- Que son funciones?\n",
    "  - Funciones y Métodos\n",
    "- Ejercicio 62 (Normal y Con funciones)\n",
    "- Ejercicio 69 (Normal y Con funciones)\n",
    "\n",
    "\n",
    "#### Ejercicios para practicar\n",
    "- Ejercicio 79 (Normal y con función)\n",
    "- Ejercicio 85 (Normal y con función)\n",
    "- Ejercicio 86 (Normal y con función)\n",
    "- Si se enredan, la solución está en el libro (O en ChatGPT)"
   ]
  },
  {
   "cell_type": "markdown",
   "metadata": {},
   "source": [
    "## Funciones\n",
    "\n",
    "Funciones Sin Parámetros\n",
    "\n",
    "Funciones Con Parámetros Fijos (Posicionales)\n",
    "\n",
    "Funciones Con Parámetros Con Nombres (Nombrados O Keywords)\n",
    "\n",
    "Funciones Con Número Indeterminado De Parámetros\n",
    "\n",
    "El Retorno!"
   ]
  },
  {
   "cell_type": "code",
   "execution_count": 2,
   "metadata": {},
   "outputs": [],
   "source": [
    "nombre = \"Alejandro\"\n",
    "def print_nombre():\n",
    "    print(\"Hola\", nombre)\n"
   ]
  },
  {
   "cell_type": "code",
   "execution_count": 3,
   "metadata": {},
   "outputs": [
    {
     "name": "stdout",
     "output_type": "stream",
     "text": [
      "Hola Alejandro\n"
     ]
    }
   ],
   "source": [
    "print_nombre()"
   ]
  },
  {
   "cell_type": "code",
   "execution_count": 4,
   "metadata": {},
   "outputs": [
    {
     "name": "stdout",
     "output_type": "stream",
     "text": [
      "Hola Alejandro\n"
     ]
    }
   ],
   "source": [
    "print_nombre()"
   ]
  },
  {
   "cell_type": "code",
   "execution_count": 5,
   "metadata": {},
   "outputs": [
    {
     "name": "stdout",
     "output_type": "stream",
     "text": [
      "Hola Alejandro\n"
     ]
    }
   ],
   "source": [
    "print(\"Hola Alejandro\")"
   ]
  },
  {
   "cell_type": "code",
   "execution_count": 6,
   "metadata": {},
   "outputs": [],
   "source": [
    "def print_hola_y_chao():\n",
    "    print(\"Hola\")\n",
    "    print(\"Chao\")"
   ]
  },
  {
   "cell_type": "code",
   "execution_count": 7,
   "metadata": {},
   "outputs": [
    {
     "name": "stdout",
     "output_type": "stream",
     "text": [
      "Hola\n",
      "Chao\n"
     ]
    }
   ],
   "source": [
    "print_hola_y_chao()"
   ]
  },
  {
   "cell_type": "code",
   "execution_count": 8,
   "metadata": {},
   "outputs": [
    {
     "name": "stdout",
     "output_type": "stream",
     "text": [
      "Hola\n",
      "Chao\n"
     ]
    }
   ],
   "source": [
    "print_hola_y_chao()"
   ]
  },
  {
   "cell_type": "code",
   "execution_count": 9,
   "metadata": {},
   "outputs": [],
   "source": [
    "def saludar_nombre(nombre):\n",
    "    print(\"Hola\", nombre)"
   ]
  },
  {
   "cell_type": "code",
   "execution_count": 10,
   "metadata": {},
   "outputs": [
    {
     "name": "stdout",
     "output_type": "stream",
     "text": [
      "Hola Maria\n"
     ]
    }
   ],
   "source": [
    "saludar_nombre(\"Maria\")"
   ]
  },
  {
   "cell_type": "code",
   "execution_count": 11,
   "metadata": {},
   "outputs": [
    {
     "name": "stdout",
     "output_type": "stream",
     "text": [
      "Hola Tomas\n"
     ]
    }
   ],
   "source": [
    "saludar_nombre(\"Tomas\")\n"
   ]
  },
  {
   "cell_type": "code",
   "execution_count": 12,
   "metadata": {},
   "outputs": [
    {
     "name": "stdout",
     "output_type": "stream",
     "text": [
      "Hola Carol\n"
     ]
    }
   ],
   "source": [
    "saludar_nombre(\"Carol\")\n"
   ]
  },
  {
   "cell_type": "code",
   "execution_count": 13,
   "metadata": {},
   "outputs": [],
   "source": [
    "def saludar_nombre_completo(nombre, apellido):\n",
    "    print(\"Hola\", nombre, apellido)"
   ]
  },
  {
   "cell_type": "code",
   "execution_count": 14,
   "metadata": {},
   "outputs": [
    {
     "name": "stdout",
     "output_type": "stream",
     "text": [
      "Hola Pepe Perez\n"
     ]
    }
   ],
   "source": [
    "saludar_nombre_completo(\"Pepe\", \"Perez\")"
   ]
  },
  {
   "cell_type": "code",
   "execution_count": null,
   "metadata": {},
   "outputs": [],
   "source": [
    "saludar_nombre_completo(\"Pepe\", \"Perez\", \"Perez\")\n"
   ]
  },
  {
   "cell_type": "code",
   "execution_count": 18,
   "metadata": {},
   "outputs": [
    {
     "name": "stdout",
     "output_type": "stream",
     "text": [
      "Hola Perez Pepe\n"
     ]
    }
   ],
   "source": [
    "saludar_nombre_completo(\"Perez\", \"Pepe\")\n"
   ]
  },
  {
   "cell_type": "code",
   "execution_count": 19,
   "metadata": {},
   "outputs": [],
   "source": [
    "def saludar_nombre_completo_2(nombre=\"\", apellido=\"\"):\n",
    "    print(\"Hola\", nombre, apellido)"
   ]
  },
  {
   "cell_type": "code",
   "execution_count": 20,
   "metadata": {},
   "outputs": [
    {
     "name": "stdout",
     "output_type": "stream",
     "text": [
      "Hola Pepe Perez\n"
     ]
    }
   ],
   "source": [
    "saludar_nombre_completo_2(apellido=\"Perez\", nombre=\"Pepe\")"
   ]
  },
  {
   "cell_type": "code",
   "execution_count": 21,
   "metadata": {},
   "outputs": [
    {
     "name": "stdout",
     "output_type": "stream",
     "text": [
      "Pepe\n",
      "Miguel\n",
      "Rafael\n",
      "Maria\n"
     ]
    }
   ],
   "source": [
    "print(\"Pepe\")\n",
    "print(\"Miguel\")\n",
    "print(\"Rafael\")\n",
    "print(\"Maria\")"
   ]
  },
  {
   "cell_type": "code",
   "execution_count": 22,
   "metadata": {},
   "outputs": [],
   "source": [
    "def saludar_lista(lista_de_nombres):\n",
    "    for nombre in lista_de_nombres:\n",
    "        print(nombre)"
   ]
  },
  {
   "cell_type": "code",
   "execution_count": 23,
   "metadata": {},
   "outputs": [
    {
     "name": "stdout",
     "output_type": "stream",
     "text": [
      "Pepe\n",
      "Miguel\n",
      "Rafael\n",
      "Maria\n"
     ]
    }
   ],
   "source": [
    "saludar_lista([\"Pepe\", \"Miguel\", \"Rafael\", \"Maria\"])"
   ]
  },
  {
   "cell_type": "code",
   "execution_count": 24,
   "metadata": {},
   "outputs": [
    {
     "name": "stdout",
     "output_type": "stream",
     "text": [
      "Pepe\n",
      "Miguel\n",
      "Rafael\n",
      "Maria\n"
     ]
    }
   ],
   "source": [
    "lista_de_nombres = [\"Pepe\", \"Miguel\", \"Rafael\", \"Maria\"]\n",
    "for nombre in lista_de_nombres:\n",
    "    print(nombre)"
   ]
  },
  {
   "cell_type": "code",
   "execution_count": 25,
   "metadata": {},
   "outputs": [
    {
     "name": "stdout",
     "output_type": "stream",
     "text": [
      "1\n",
      "2\n",
      "3\n",
      "4\n"
     ]
    }
   ],
   "source": [
    "lista_de_nombres = [\"1\", \"2\", \"3\", \"4\"]\n",
    "for nombre in lista_de_nombres:\n",
    "    print(nombre)"
   ]
  },
  {
   "cell_type": "code",
   "execution_count": 26,
   "metadata": {},
   "outputs": [
    {
     "name": "stdout",
     "output_type": "stream",
     "text": [
      "1\n",
      "2\n",
      "3\n",
      "4\n"
     ]
    }
   ],
   "source": [
    "saludar_lista([\"1\", \"2\", \"3\", \"4\"])"
   ]
  },
  {
   "cell_type": "code",
   "execution_count": 47,
   "metadata": {},
   "outputs": [],
   "source": [
    "def saludar_nombre_completo_2(nombre=\"Pepe\", apellido=\"Perez\", segundo_apellido=\"Perez\"):\n",
    "    print(\"Hola\", nombre, apellido, segundo_apellido)"
   ]
  },
  {
   "cell_type": "code",
   "execution_count": 36,
   "metadata": {},
   "outputs": [
    {
     "ename": "TypeError",
     "evalue": "saludar_nombre_completo() missing 2 required positional arguments: 'nombre' and 'apellido'",
     "output_type": "error",
     "traceback": [
      "\u001b[0;31m---------------------------------------------------------------------------\u001b[0m",
      "\u001b[0;31mTypeError\u001b[0m                                 Traceback (most recent call last)",
      "\u001b[1;32m/Users/alejohz/Documents/Personal/python-for-all-2023/classes/C3/Clase_4_Python_For_All.ipynb Cell 27\u001b[0m line \u001b[0;36m1\n\u001b[0;32m----> <a href='vscode-notebook-cell:/Users/alejohz/Documents/Personal/python-for-all-2023/classes/C3/Clase_4_Python_For_All.ipynb#X51sZmlsZQ%3D%3D?line=0'>1</a>\u001b[0m saludar_nombre_completo()\n",
      "\u001b[0;31mTypeError\u001b[0m: saludar_nombre_completo() missing 2 required positional arguments: 'nombre' and 'apellido'"
     ]
    }
   ],
   "source": [
    "saludar_nombre_completo()"
   ]
  },
  {
   "cell_type": "code",
   "execution_count": 49,
   "metadata": {},
   "outputs": [
    {
     "name": "stdout",
     "output_type": "stream",
     "text": [
      "Hola Pepe Perez Zapata\n"
     ]
    }
   ],
   "source": [
    "saludar_nombre_completo_2(segundo_apellido=\"Zapata\")"
   ]
  },
  {
   "cell_type": "code",
   "execution_count": 50,
   "metadata": {},
   "outputs": [
    {
     "ename": "TypeError",
     "evalue": "saludar_nombre_completo() missing 1 required positional argument: 'nombre'",
     "output_type": "error",
     "traceback": [
      "\u001b[0;31m---------------------------------------------------------------------------\u001b[0m",
      "\u001b[0;31mTypeError\u001b[0m                                 Traceback (most recent call last)",
      "\u001b[1;32m/Users/alejohz/Documents/Personal/python-for-all-2023/classes/C3/Clase_4_Python_For_All.ipynb Cell 29\u001b[0m line \u001b[0;36m1\n\u001b[0;32m----> <a href='vscode-notebook-cell:/Users/alejohz/Documents/Personal/python-for-all-2023/classes/C3/Clase_4_Python_For_All.ipynb#X53sZmlsZQ%3D%3D?line=0'>1</a>\u001b[0m saludar_nombre_completo(apellido\u001b[39m=\u001b[39;49m\u001b[39m\"\u001b[39;49m\u001b[39mPerez\u001b[39;49m\u001b[39m\"\u001b[39;49m)\n",
      "\u001b[0;31mTypeError\u001b[0m: saludar_nombre_completo() missing 1 required positional argument: 'nombre'"
     ]
    }
   ],
   "source": [
    "saludar_nombre_completo(apellido=\"Perez\")"
   ]
  },
  {
   "cell_type": "code",
   "execution_count": null,
   "metadata": {},
   "outputs": [],
   "source": [
    "help(\"keywords\")"
   ]
  },
  {
   "cell_type": "markdown",
   "metadata": {},
   "source": [
    "## Métodos\n",
    "\n",
    "Funciones, pero que son de los tipos de datos.  "
   ]
  },
  {
   "cell_type": "code",
   "execution_count": 56,
   "metadata": {},
   "outputs": [],
   "source": [
    "text = \"Hola Mundo, Mi Nombre Es Pepe\"\n",
    "# Reemplazar\n",
    "# Capitalizar\n",
    "# Minusculas\n",
    "# Titulo\n",
    "# Separar\n",
    "# Es numero"
   ]
  },
  {
   "cell_type": "code",
   "execution_count": 60,
   "metadata": {},
   "outputs": [
    {
     "name": "stdout",
     "output_type": "stream",
     "text": [
      "Original Hola Mundo, Mi Nombre Es Pepe\n",
      "Reemplazar Hola Mundo, Mi Nombre Es Pepe\n",
      "Capitalizar HOLA MUNDO, MI NOMBRE ES PEPE\n",
      "Minusculas hola mundo, mi nombre es pepe\n",
      "Titular Hola Al Mundo\n",
      "Separar ['Hola', 'Mundo,', 'Mi', 'Nombre', 'Es', 'Pepe']\n",
      "Separar ['Hola Mundo', ' Mi Nombre Es Pepe']\n",
      "Separar ['Hola Mundo, Mi No', 'bre Es Pepe']\n",
      "Es numero True\n",
      "Es numero False\n"
     ]
    }
   ],
   "source": [
    "print(\"Original\", text)\n",
    "print(\"Reemplazar\", text.replace(\"Hello\", \"Hi\"))\n",
    "print(\"Capitalizar\", text.upper())\n",
    "print(\"Minusculas\", text.lower())\n",
    "print(\"Titular\", \"hola al mundo\".title()) # String definida y se le asigna el metodo inline (en la misma linea)\n",
    "print(\"Separar\", text.split())\n",
    "print(\"Separar\", text.split(sep=\",\"))\n",
    "print(\"Separar\", text.split(sep=\"m\"))\n",
    "print(\"Es numero\", \"1\".isdigit())\n",
    "print(\"Es numero\", \"a\".isdigit())"
   ]
  },
  {
   "cell_type": "code",
   "execution_count": 61,
   "metadata": {},
   "outputs": [],
   "source": [
    "# Sumar\n",
    "# Restar\n",
    "# Agregar\n",
    "# Eliminar\n",
    "# Ordenar\n",
    "# Invertir\n",
    "# Contar"
   ]
  },
  {
   "cell_type": "code",
   "execution_count": 85,
   "metadata": {},
   "outputs": [
    {
     "name": "stdout",
     "output_type": "stream",
     "text": [
      "Original [1, 1, 1, 2, 3, 5, 10, 50, 1, 4, 6, 1, 1]\n",
      "Suma 86\n",
      "Agregar None [1, 1, 1, 2, 3, 5, 10, 50, 1, 4, 6, 1, 1, 500]\n",
      "Modificada [1, 1, 1, 2, 3, 5, 10, 50, 1, 4, 6, 1, 1, 500]\n",
      "Ordenado [1, 1, 1, 1, 1, 1, 2, 3, 4, 5, 6, 10, 50, 500]\n",
      "Contar 1 6\n",
      "Contar 2 1\n"
     ]
    }
   ],
   "source": [
    "lista = [1,1,1,2,3,5,10,50,1,4,6, 1, 1]\n",
    "print(\"Original\", lista)\n",
    "print(\"Suma\", sum(lista)) # no es metodo, es funcion built in\n",
    "# print(\"Resta\", []) # Tarea, esto se puede hacer con list comprehension\n",
    "# lista.append(500)\n",
    "print(\"Agregar\", lista.append(500), lista)\n",
    "print(\"Modificada\", lista)\n",
    "print(\"Ordenado\", sorted(lista))\n",
    "print(\"Contar 1\", lista.count(1))\n",
    "print(\"Contar 2\", lista.count(2))"
   ]
  },
  {
   "cell_type": "code",
   "execution_count": 88,
   "metadata": {},
   "outputs": [
    {
     "name": "stdout",
     "output_type": "stream",
     "text": [
      "numero  1 aparece 6 veces\n",
      "numero  2 aparece 1 veces\n",
      "numero  3 aparece 1 veces\n",
      "numero  4 aparece 1 veces\n",
      "numero  5 aparece 1 veces\n",
      "numero  6 aparece 1 veces\n",
      "numero  10 aparece 1 veces\n",
      "numero  50 aparece 1 veces\n",
      "numero  500 aparece 1 veces\n"
     ]
    }
   ],
   "source": [
    "for numero in set(lista):\n",
    "    print(\"numero \", numero, \"aparece\", lista.count(numero), \"veces\")"
   ]
  },
  {
   "cell_type": "code",
   "execution_count": 91,
   "metadata": {},
   "outputs": [
    {
     "name": "stdout",
     "output_type": "stream",
     "text": [
      "[1, 1, 1, 2, 3, 5, 10, 50, 1, 4, 6, 1, 1, 500]\n",
      "1\n",
      "2\n",
      "3\n",
      "4\n",
      "5\n",
      "6\n",
      "10\n",
      "50\n",
      "500\n"
     ]
    }
   ],
   "source": [
    "print(lista)\n",
    "for numero in set(lista):\n",
    "    print(numero)"
   ]
  },
  {
   "cell_type": "code",
   "execution_count": 92,
   "metadata": {},
   "outputs": [
    {
     "name": "stdout",
     "output_type": "stream",
     "text": [
      "{1, 2, 3, 4, 5, 6, 10, 50, 500}\n"
     ]
    }
   ],
   "source": [
    "print(set(lista))"
   ]
  },
  {
   "cell_type": "code",
   "execution_count": 94,
   "metadata": {},
   "outputs": [
    {
     "name": "stdout",
     "output_type": "stream",
     "text": [
      "<class 'list'>\n",
      "<class 'set'>\n",
      "<class 'str'>\n",
      "<class 'int'>\n"
     ]
    }
   ],
   "source": [
    "print(type(lista))\n",
    "print(type(set(lista)))\n",
    "\n",
    "print(type(\"1\"))\n",
    "print(type(int(\"1\")))"
   ]
  },
  {
   "cell_type": "code",
   "execution_count": 95,
   "metadata": {},
   "outputs": [
    {
     "name": "stdout",
     "output_type": "stream",
     "text": [
      "14\n"
     ]
    }
   ],
   "source": [
    "print(len(lista))"
   ]
  },
  {
   "cell_type": "code",
   "execution_count": 109,
   "metadata": {},
   "outputs": [
    {
     "name": "stdout",
     "output_type": "stream",
     "text": [
      "{1, 2, 3}\n",
      "Hay 1\n",
      "Hay 1\n"
     ]
    }
   ],
   "source": [
    "lista2 = [\n",
    "    1, 2, 3, 4, \"a\", \"b\", \"c\", \"d\",\n",
    "    [\"lista1\"], [\"lista2\"],\n",
    "    {1, 2, 3},\n",
    "    {\"1\": 1}\n",
    "]\n",
    "# print(len(lista2))\n",
    "# type : El tipo de dato que esta dentro de una variable\n",
    "# isinstance: \n",
    "\"\"\"\n",
    "type(\"a\") == str   # NO\n",
    "isinstance(\"a\", str) # SI\n",
    "\"\"\"\n",
    "contador = 0\n",
    "lista_de_enteros = []\n",
    "for numero in lista2:\n",
    "    # if isinstance(numero, int):\n",
    "    # if isinstance(numero, str):\n",
    "    # if isinstance(numero, list):\n",
    "    # if isinstance(numero, dict):\n",
    "    if isinstance(numero, set):\n",
    "        contador = contador + 1\n",
    "        lista_de_enteros.append(numero)\n",
    "        print(numero)\n",
    "    # else:\n",
    "    #     print(\"no es entero\")\n",
    "print(\"Hay\", contador)\n",
    "print(\"Hay\", len(lista_de_enteros))\n"
   ]
  },
  {
   "cell_type": "code",
   "execution_count": 78,
   "metadata": {},
   "outputs": [
    {
     "name": "stdout",
     "output_type": "stream",
     "text": [
      "None [1, 1, 1, 1, 2, 3, 4, 5, 6, 10, 50, 500]\n"
     ]
    }
   ],
   "source": [
    "# Este tipo de funciones o metodos se llaman IN PLACE (Inplace)\n",
    "print(lista.sort())"
   ]
  },
  {
   "cell_type": "code",
   "execution_count": 77,
   "metadata": {},
   "outputs": [
    {
     "name": "stdout",
     "output_type": "stream",
     "text": [
      "[1, 1, 1, 1, 2, 3, 4, 5, 6, 10, 50, 500]\n"
     ]
    }
   ],
   "source": [
    "print(lista)"
   ]
  },
  {
   "cell_type": "code",
   "execution_count": 121,
   "metadata": {},
   "outputs": [],
   "source": [
    "# Hacer funcion inplace\n",
    "def cambiar_tipo(lista):\n",
    "    \"\"\"Esta funcion es inplace y cambia el tipo de los elementos de la lista\"\"\"\n",
    "    for i, elemento in enumerate(lista):\n",
    "        if isinstance(elemento, str):\n",
    "            lista[i] = list(elemento)\n",
    "        elif isinstance(elemento, int):\n",
    "            lista[i] = str(elemento)"
   ]
  },
  {
   "cell_type": "code",
   "execution_count": 122,
   "metadata": {},
   "outputs": [],
   "source": [
    "lista1 = [\"a\"]*4\n",
    "lista2 = [5]*4"
   ]
  },
  {
   "cell_type": "code",
   "execution_count": 123,
   "metadata": {},
   "outputs": [
    {
     "name": "stdout",
     "output_type": "stream",
     "text": [
      "['a', 'a', 'a', 'a']\n",
      "[5, 5, 5, 5]\n"
     ]
    }
   ],
   "source": [
    "print(lista1)\n",
    "print(lista2)"
   ]
  },
  {
   "cell_type": "code",
   "execution_count": 124,
   "metadata": {},
   "outputs": [
    {
     "name": "stdout",
     "output_type": "stream",
     "text": [
      "None\n",
      "None\n"
     ]
    }
   ],
   "source": [
    "print(cambiar_tipo(lista1))\n",
    "print(cambiar_tipo(lista2))"
   ]
  },
  {
   "cell_type": "code",
   "execution_count": 125,
   "metadata": {},
   "outputs": [
    {
     "name": "stdout",
     "output_type": "stream",
     "text": [
      "[['a'], ['a'], ['a'], ['a']]\n",
      "['5', '5', '5', '5']\n"
     ]
    }
   ],
   "source": [
    "print(lista1)\n",
    "print(lista2)"
   ]
  },
  {
   "cell_type": "code",
   "execution_count": 126,
   "metadata": {},
   "outputs": [],
   "source": [
    "# Hacer funcion NO inplace\n",
    "def cambiar_tipo_2(lista):\n",
    "    lista_copia = lista\n",
    "    \"\"\"Esta funcion NO es inplace y cambia el tipo de los elementos de la lista\"\"\"\n",
    "    for i, elemento in enumerate(lista_copia):\n",
    "        if isinstance(elemento, str):\n",
    "            lista_copia[i] = list(elemento)\n",
    "        elif isinstance(elemento, int):\n",
    "            lista_copia[i] = str(elemento)\n",
    "    return lista_copia"
   ]
  },
  {
   "cell_type": "code",
   "execution_count": 130,
   "metadata": {},
   "outputs": [],
   "source": [
    "lista1 = [\"a\"]*4\n",
    "lista2 = [5]*4"
   ]
  },
  {
   "cell_type": "code",
   "execution_count": 131,
   "metadata": {},
   "outputs": [
    {
     "name": "stdout",
     "output_type": "stream",
     "text": [
      "['a', 'a', 'a', 'a']\n",
      "[5, 5, 5, 5]\n"
     ]
    }
   ],
   "source": [
    "print(lista1)\n",
    "print(lista2)"
   ]
  },
  {
   "cell_type": "code",
   "execution_count": 132,
   "metadata": {},
   "outputs": [
    {
     "name": "stdout",
     "output_type": "stream",
     "text": [
      "[['a'], ['a'], ['a'], ['a']]\n",
      "['5', '5', '5', '5']\n"
     ]
    }
   ],
   "source": [
    "print(cambiar_tipo_2(lista1))\n",
    "print(cambiar_tipo_2(lista2))"
   ]
  },
  {
   "cell_type": "code",
   "execution_count": null,
   "metadata": {},
   "outputs": [],
   "source": [
    "for i in range(len(lista)): # For por indice de la lista\n",
    "    pass\n",
    "\n",
    "for numero in lista: # For por numero dentro de la lista\n",
    "    pass\n",
    "\n",
    "for i, numero in enumerate(lista): # For por indice y numero dentro de la lista\n",
    "    pass"
   ]
  },
  {
   "cell_type": "code",
   "execution_count": 65,
   "metadata": {},
   "outputs": [
    {
     "name": "stdout",
     "output_type": "stream",
     "text": [
      "1\n",
      "1\n",
      "1\n",
      "2\n",
      "3\n",
      "5\n",
      "10\n",
      "50\n",
      "1\n",
      "4\n",
      "6\n"
     ]
    }
   ],
   "source": [
    "for numero in lista:\n",
    "    print(numero)"
   ]
  },
  {
   "cell_type": "code",
   "execution_count": 136,
   "metadata": {},
   "outputs": [],
   "source": [
    "# data types\n",
    "# range\n",
    "# int\n",
    "# set\n",
    "# list\n",
    "# str"
   ]
  },
  {
   "cell_type": "code",
   "execution_count": 66,
   "metadata": {},
   "outputs": [
    {
     "name": "stdout",
     "output_type": "stream",
     "text": [
      "0\n",
      "1\n",
      "2\n",
      "3\n",
      "4\n",
      "5\n",
      "6\n",
      "7\n",
      "8\n",
      "9\n",
      "10\n"
     ]
    }
   ],
   "source": [
    "for i in range(len(lista)):\n",
    "    print(i)"
   ]
  },
  {
   "cell_type": "code",
   "execution_count": 69,
   "metadata": {},
   "outputs": [
    {
     "name": "stdout",
     "output_type": "stream",
     "text": [
      "indice 0 numero 1\n",
      "indice 1 numero 1\n",
      "indice 2 numero 1\n",
      "indice 3 numero 2\n",
      "indice 4 numero 3\n",
      "indice 5 numero 5\n",
      "indice 6 numero 10\n",
      "indice 7 numero 50\n",
      "indice 8 numero 1\n",
      "indice 9 numero 4\n",
      "indice 10 numero 6\n"
     ]
    }
   ],
   "source": [
    "for i, numero in enumerate(lista):\n",
    "    print(\"indice\", i, \"numero\", numero)"
   ]
  },
  {
   "cell_type": "code",
   "execution_count": 70,
   "metadata": {},
   "outputs": [],
   "source": [
    "resta = lista[0]\n",
    "for i, numero in enumerate(lista):\n",
    "    # resta = numero - lista[i + 1]\n",
    "    resta = resta - numero\n"
   ]
  },
  {
   "cell_type": "code",
   "execution_count": 71,
   "metadata": {},
   "outputs": [
    {
     "data": {
      "text/plain": [
       "-83"
      ]
     },
     "execution_count": 71,
     "metadata": {},
     "output_type": "execute_result"
    }
   ],
   "source": [
    "resta"
   ]
  },
  {
   "cell_type": "code",
   "execution_count": 137,
   "metadata": {},
   "outputs": [
    {
     "name": "stdout",
     "output_type": "stream",
     "text": [
      "\n",
      "Here is a list of the Python keywords.  Enter any keyword to get more help.\n",
      "\n",
      "False               class               from                or\n",
      "None                continue            global              pass\n",
      "True                def                 if                  raise\n",
      "and                 del                 import              return\n",
      "as                  elif                in                  try\n",
      "assert              else                is                  while\n",
      "async               except              lambda              with\n",
      "await               finally             nonlocal            yield\n",
      "break               for                 not                 \n",
      "\n"
     ]
    }
   ],
   "source": [
    "help(\"keywords\")"
   ]
  },
  {
   "cell_type": "code",
   "execution_count": null,
   "metadata": {},
   "outputs": [],
   "source": [
    "\"\"\"\n",
    "Funciones con argumentos posicionales\n",
    "Funciones con argumentos nombrados (Keywords)\n",
    "Funciones con los dos tipos de argumentos\n",
    "Funciones con  argumentos indefinidos\n",
    "\"\"\""
   ]
  },
  {
   "cell_type": "code",
   "execution_count": 156,
   "metadata": {},
   "outputs": [],
   "source": [
    "# Funciones con argumentos indefinidos\n",
    "def funcion1(a, b):\n",
    "    \"\"\"Esta funcion va a sumar los dos argumentos que le den\"\"\"\n",
    "    return a + b\n",
    "\n",
    "def funcion2(a, b):\n",
    "    \"\"\"Esta funcion va a restar los dos argumentos que le den\"\"\"\n",
    "    return a - b\n",
    "\n",
    "def funcion3(a=0, b=0):\n",
    "    \"\"\"Esta funcion va a multiplicar los dos argumentos que le den\"\"\"\n",
    "    return a * b\n",
    "\n",
    "def funcion4(a=1, b=1):\n",
    "    \"\"\"Esta funcion va a dividir los dos argumentos que le den\"\"\"\n",
    "    return a / b"
   ]
  },
  {
   "cell_type": "code",
   "execution_count": 164,
   "metadata": {},
   "outputs": [
    {
     "name": "stdout",
     "output_type": "stream",
     "text": [
      "suma 11\n",
      "resta 1\n",
      "resta -1\n",
      "multiplicacion 30\n",
      "multiplicacion 0\n",
      "multiplicacion 0\n",
      "multiplicacion 30\n",
      "multiplicacion 30\n",
      "division 5.0\n",
      "division 0.2\n",
      "division 5.0\n",
      "division 5.0\n",
      "division 1.0\n"
     ]
    }
   ],
   "source": [
    "print(\"suma\", funcion1(6, 5))\n",
    "print(\"resta\", funcion2(6, 5))\n",
    "print(\"resta\", funcion2(5, 6))\n",
    "print(\"multiplicacion\", funcion3(5, 6))\n",
    "print(\"multiplicacion\", funcion3(6))\n",
    "print(\"multiplicacion\", funcion3())\n",
    "print(\"multiplicacion\", funcion3(a=5, b=6))\n",
    "print(\"multiplicacion\", funcion3(b=5, a=6))\n",
    "print(\"division\", funcion4(10, 2))\n",
    "print(\"division\", funcion4(2, 10))\n",
    "print(\"division\", funcion4(a=10, b=2))\n",
    "print(\"division\", funcion4(b=2, a=10))\n",
    "print(\"division\", funcion4())\n",
    "# print(\"division\", funcion4(10, 2, 1)) # Error"
   ]
  },
  {
   "cell_type": "code",
   "execution_count": 165,
   "metadata": {},
   "outputs": [
    {
     "name": "stdout",
     "output_type": "stream",
     "text": [
      "1\n",
      "1 2\n",
      "1 2 3\n",
      "1 2 3 4\n",
      "1 2 3 4 Hola\n",
      "1 2 3 4 Hola chao\n",
      "1 2 3 4 Hola chao 2 5\n",
      "1 2 3 4 Hola chao 2 5 10\n"
     ]
    }
   ],
   "source": [
    "print(1)\n",
    "print(1, 2)\n",
    "print(1, 2, 3)\n",
    "print(1, 2, 3, 4)\n",
    "print(1, 2, 3, 4, \"Hola\")\n",
    "print(1, 2, 3, 4, \"Hola\", \"chao\")\n",
    "print(1, 2, 3, 4, \"Hola\", \"chao\", 2, 5)\n",
    "print(1, 2, 3, 4, \"Hola\", \"chao\", 2, 5, 10)"
   ]
  },
  {
   "cell_type": "code",
   "execution_count": 180,
   "metadata": {},
   "outputs": [],
   "source": [
    "def sumar_numeros(*numeros):\n",
    "    \"\"\"Esta es una funcion con argumentos indefinidos\"\"\"\n",
    "    acumulador = 0\n",
    "    # print(numeros)\n",
    "    for numero in numeros:\n",
    "        acumulador = acumulador + numero\n",
    "    return acumulador\n",
    "\n",
    "# def sumar_numeros(*numeros):\n",
    "#     lista_acumuladora = []\n",
    "#     for numero in numeros:\n",
    "#         lista_acumuladora.append(numero)\n",
    "#     return sum(lista_acumuladora)"
   ]
  },
  {
   "cell_type": "code",
   "execution_count": 181,
   "metadata": {},
   "outputs": [
    {
     "name": "stdout",
     "output_type": "stream",
     "text": [
      "3\n",
      "16\n",
      "25\n",
      "40\n",
      "60\n",
      "110\n"
     ]
    }
   ],
   "source": [
    "print(sumar_numeros(1, 2))\n",
    "print(sumar_numeros(1, 2, 3, 10))\n",
    "print(sumar_numeros(1, 2, 3, 10, 9))\n",
    "print(sumar_numeros(1, 2, 3, 10, 9, 15))\n",
    "print(sumar_numeros(1, 2, 3, 10, 9, 15, 20))\n",
    "print(sumar_numeros(1, 2, 3, 10, 9, 15, 20, 50))"
   ]
  },
  {
   "cell_type": "code",
   "execution_count": 197,
   "metadata": {},
   "outputs": [],
   "source": [
    "def suma_o_resta(\n",
    "        numero1,\n",
    "        numero2,\n",
    "        # operacion  # argumento posicional\n",
    "        operacion=\"suma\"  # argumento nombrado (keyword)\n",
    "):\n",
    "    if operacion == \"suma\":\n",
    "        return numero1 + numero2\n",
    "    elif operacion == \"resta\":\n",
    "        return numero1 - numero2\n",
    "    else:\n",
    "        return \"Operacion invalida\""
   ]
  },
  {
   "cell_type": "code",
   "execution_count": 198,
   "metadata": {},
   "outputs": [
    {
     "name": "stdout",
     "output_type": "stream",
     "text": [
      "12\n",
      "8\n",
      "Operacion invalida\n",
      "12\n"
     ]
    }
   ],
   "source": [
    "print(suma_o_resta(10, 2, \"suma\"))\n",
    "print(suma_o_resta(10, 2, \"resta\"))\n",
    "print(suma_o_resta(10, 2, \"multiplicacion\"))\n",
    "print(suma_o_resta(10, 2))"
   ]
  },
  {
   "cell_type": "code",
   "execution_count": 231,
   "metadata": {},
   "outputs": [],
   "source": [
    "def multiplicacion_o_division(numero1, numero2, operacion=\"multiplicacion\"):\n",
    "    if operacion == \"multiplicacion\":\n",
    "        # print(numero1 * numero2) # print es solo output\n",
    "        print(\"Esto se va a ver\")\n",
    "        return numero1 * numero2 # return guarda el valor\n",
    "        # print(\"Esto no se va a ver\") este codigo no se ve porque esta despues de un return\n",
    "    elif operacion == \"division\":\n",
    "        return numero1 / numero2\n",
    "    else:\n",
    "        return \"Operacion invalida\"\n",
    "    # Este comentario esta adentro\n",
    "# Este comentario esta afuera"
   ]
  },
  {
   "cell_type": "code",
   "execution_count": 232,
   "metadata": {},
   "outputs": [
    {
     "name": "stdout",
     "output_type": "stream",
     "text": [
      "20\n",
      "5.0\n",
      "5.0\n"
     ]
    }
   ],
   "source": [
    "print(multiplicacion_o_division(10, 2)) # Ejemplo 1\n",
    "print(multiplicacion_o_division(10, 2, operacion=\"division\")) # Ejemplo 2\n",
    "print(multiplicacion_o_division(10, 2, \"division\")) # Ejemplo 3"
   ]
  },
  {
   "cell_type": "code",
   "execution_count": 267,
   "metadata": {},
   "outputs": [],
   "source": [
    "def operacion_aritmetica(numero1, numero2, operacion=\"suma\", operacion2=\"multiplicacion\"):\n",
    "    \"\"\"Esta funcion va a hacer dos operaciones\"\"\"\n",
    "    lista_de_resultados = []\n",
    "    lista_de_resultados.append(suma_o_resta(numero1, numero2, operacion=operacion))\n",
    "    lista_de_resultados.append(\n",
    "        multiplicacion_o_division(numero1, numero2, operacion=operacion2)\n",
    "    )\n",
    "    # print(lista_de_resultados)\n",
    "    return lista_de_resultados\n",
    "    # Este comentario esta adentro\n",
    "# Este comentario esta afuera"
   ]
  },
  {
   "cell_type": "code",
   "execution_count": 268,
   "metadata": {},
   "outputs": [],
   "source": [
    "lista_1 = operacion_aritmetica(10, 2, \"suma\", \"multiplicacion\")"
   ]
  },
  {
   "cell_type": "code",
   "execution_count": 269,
   "metadata": {},
   "outputs": [
    {
     "name": "stdout",
     "output_type": "stream",
     "text": [
      "[12, 20]\n"
     ]
    }
   ],
   "source": [
    "print(lista_1)"
   ]
  },
  {
   "cell_type": "code",
   "execution_count": 274,
   "metadata": {},
   "outputs": [
    {
     "name": "stdout",
     "output_type": "stream",
     "text": [
      "['Operacion invalida', 'Operacion invalida']\n"
     ]
    }
   ],
   "source": [
    "print(operacion_aritmetica(5, 4, \"multiplicacion\", \"resta\")) # Ejemplo 1 ()\n",
    "# 1\n",
    "# 20\n",
    "# (1, 20)\n",
    "# [1, 20]"
   ]
  },
  {
   "cell_type": "code",
   "execution_count": 228,
   "metadata": {},
   "outputs": [
    {
     "name": "stdout",
     "output_type": "stream",
     "text": [
      "2\n",
      "5\n",
      "11\n"
     ]
    }
   ],
   "source": [
    "print(2)\n",
    "print(5)\n",
    "10\n",
    "print(11)"
   ]
  },
  {
   "cell_type": "code",
   "execution_count": 230,
   "metadata": {},
   "outputs": [
    {
     "name": "stdout",
     "output_type": "stream",
     "text": [
      "2\n",
      "5\n",
      "10\n"
     ]
    }
   ],
   "source": [
    "print(2)\n",
    "print(5)\n",
    "11\n",
    "print(10)"
   ]
  },
  {
   "cell_type": "code",
   "execution_count": 216,
   "metadata": {},
   "outputs": [],
   "source": [
    "a = multiplicacion_o_division(10, 2)"
   ]
  },
  {
   "cell_type": "code",
   "execution_count": 217,
   "metadata": {},
   "outputs": [
    {
     "name": "stdout",
     "output_type": "stream",
     "text": [
      "20\n"
     ]
    }
   ],
   "source": [
    "print(a)"
   ]
  },
  {
   "cell_type": "code",
   "execution_count": 211,
   "metadata": {},
   "outputs": [
    {
     "name": "stdout",
     "output_type": "stream",
     "text": [
      "2\n"
     ]
    }
   ],
   "source": [
    "\n",
    "print(len([1, 2]))"
   ]
  },
  {
   "cell_type": "code",
   "execution_count": 212,
   "metadata": {},
   "outputs": [
    {
     "name": "stdout",
     "output_type": "stream",
     "text": [
      "1\n"
     ]
    }
   ],
   "source": [
    "print(1)"
   ]
  },
  {
   "cell_type": "markdown",
   "metadata": {},
   "source": [
    "**Exercise 62:**\n",
    "\n",
    "Roulette Payouts\n",
    "A roulette wheel has 38 spaces on it. Of these spaces, 18 are black, 18 are red, and two are green. The green spaces are numbered 0 and 00. The red spaces are numbered 1, 3, 5, 7, 9, 12, 14, 16, 18, 19, 21, 23, 25, 27, 30 32, 34 and 36. The remaining integers\n",
    "between 1 and 36 are used to number the black spaces.\n",
    "Many different bets can be placed in roulette. We will only consider the following\n",
    "subset of them in this exercise:\n",
    "\n",
    "• Single number (1 to 36, 0, or 00)  \n",
    "• Red versus Black  \n",
    "• Odd versus Even (Note that 0 and 00 do not pay out for even)  \n",
    "• 1 to 18 versus 19 to 36  \n",
    "Write a program that simulates a spin of a roulette wheel by using Python’s random number generator. Display the number that was selected and all of the bets that must be payed. For example, if 13 is selected then your program should display:\n",
    "\n",
    "*The spin resulted in 13...*  \n",
    "*Pay 13*  \n",
    "*Pay Black*  \n",
    "*Pay Odd*  \n",
    "*Pay 1 to 18*  \n",
    "If the simulation results in 0 or 00 then your program should display Pay 0 or Pay 00 without any further output."
   ]
  },
  {
   "cell_type": "code",
   "execution_count": null,
   "metadata": {},
   "outputs": [],
   "source": [
    "# Pistas para resolver el ejercicio 62\n",
    "\"\"\"\n",
    "Pista 1: Usen condicionales\n",
    "Pista 2: Usen el operador modulo\n",
    "Pista 3: Usen los operadores logicos\n",
    "\"\"\""
   ]
  },
  {
   "cell_type": "markdown",
   "metadata": {},
   "source": [
    "\n",
    "**Exercise 75:** Is a String a Palindrome?  \n",
    "\n",
    "\n",
    "A string is a palindrome if it is identical forward and backward. For example “anna”, “civic”, “level” and “hannah” are all examples of palindromic words. Write a program that reads a string from the user and uses a loop to determine whether or not it is a\n",
    "palindrome. Display the result, including a meaningful output message."
   ]
  },
  {
   "cell_type": "code",
   "execution_count": 295,
   "metadata": {},
   "outputs": [
    {
     "name": "stdout",
     "output_type": "stream",
     "text": [
      "[True, True, True, True, True, True]\n"
     ]
    }
   ],
   "source": [
    "\"\"\"\n",
    "Explicacion:\n",
    "lista_de_caracteres = [\"a\", \"n\", \"a\"]\n",
    "lista_de_caracteres_reversed = [\"a\", \"n\", \"a\"]\n",
    "zip(lista_de_caracteres, lista_de_caracteres_reversed) = [(\"a\", \"a\"), (\"n\", \"n\"), (\"a\", \"a\")]\n",
    "es_palindroma es una lista que contiene las comparaciones de cada letra de la palabra\n",
    "Como True tambien es 1 y False tambien es 0. Si sumamos todos los elementos de la lista\n",
    "y el resultado es igual a la cantidad de elementos de la lista, entonces la palabra es palindroma\n",
    "Es decir, todos los elementos de la lista son True, porque todas las letras son iguales\n",
    "\"\"\"\n",
    "palabra= input(\"Escriba una palabra: \")\n",
    "lista_de_caracteres = list(palabra)\n",
    "lista_de_caracteres_reversed = list(reversed(lista_de_caracteres))\n",
    "es_palindroma = []\n",
    "for letra1, letra2 in zip(lista_de_caracteres, lista_de_caracteres_reversed):\n",
    "    if letra1 != letra2:\n",
    "        es_palindroma.append(False)\n",
    "    else:\n",
    "        es_palindroma.append(True)\n",
    "if sum(es_palindroma) == len(es_palindroma):\n",
    "    print(palabra, \"SI ES PALINDROMA\")\n",
    "else:\n",
    "    print(palabra, \"NO ES PALINDROMA\")"
   ]
  },
  {
   "cell_type": "code",
   "execution_count": 297,
   "metadata": {},
   "outputs": [
    {
     "name": "stdout",
     "output_type": "stream",
     "text": [
      "point NO ES PALINDROMA\n"
     ]
    }
   ],
   "source": [
    "## Otra forma de resolver el ejercicio 75\n",
    "\"\"\"\n",
    "Explicacion:\n",
    "lista_de_caracteres = [\"a\", \"n\", \"a\"]\n",
    "lista_de_caracteres_reversed = [\"a\", \"n\", \"a\"]\n",
    "es_palindroma empieza siendo verdadero y se vuelve falso si alguna letra es diferente\n",
    "Si nunca se vuelve falso, significa que todas las letras fueron iguales\n",
    "\"\"\"\n",
    "palabra= input(\"Escriba una palabra: \")\n",
    "lista_de_caracteres = list(palabra)\n",
    "lista_de_caracteres_reversed = list(reversed(lista_de_caracteres))\n",
    "es_palindroma = True\n",
    "longitud_de_la_lista = len(lista_de_caracteres)\n",
    "for i in range(longitud_de_la_lista):\n",
    "    if lista_de_caracteres[i] != lista_de_caracteres_reversed[i]:\n",
    "        es_palindroma = False\n",
    "        break\n",
    "\n",
    "if es_palindroma == True:\n",
    "    print(palabra, \"SI ES PALINDROMA\")\n",
    "else:\n",
    "    print(palabra, \"NO ES PALINDROMA\")"
   ]
  },
  {
   "cell_type": "code",
   "execution_count": 291,
   "metadata": {},
   "outputs": [
    {
     "data": {
      "text/plain": [
       "[3, 2, 1]"
      ]
     },
     "execution_count": 291,
     "metadata": {},
     "output_type": "execute_result"
    }
   ],
   "source": [
    "list(reversed([1, 2, 3]))"
   ]
  },
  {
   "cell_type": "code",
   "execution_count": 294,
   "metadata": {},
   "outputs": [
    {
     "name": "stdout",
     "output_type": "stream",
     "text": [
      "[3, 2, 1]\n"
     ]
    }
   ],
   "source": [
    "a = list((1, 2, 3))\n",
    "a.reverse()\n",
    "print(a)"
   ]
  },
  {
   "cell_type": "code",
   "execution_count": 288,
   "metadata": {},
   "outputs": [
    {
     "data": {
      "text/plain": [
       "'hannah'"
      ]
     },
     "execution_count": 288,
     "metadata": {},
     "output_type": "execute_result"
    }
   ],
   "source": [
    "\"hannah\""
   ]
  },
  {
   "cell_type": "code",
   "execution_count": 289,
   "metadata": {},
   "outputs": [
    {
     "data": {
      "text/plain": [
       "['h', 'a', 'n', 'n', 'a', 'h']"
      ]
     },
     "execution_count": 289,
     "metadata": {},
     "output_type": "execute_result"
    }
   ],
   "source": [
    "list(\"hannah\")"
   ]
  },
  {
   "cell_type": "code",
   "execution_count": 286,
   "metadata": {},
   "outputs": [
    {
     "data": {
      "text/plain": [
       "[('p', 't'), ('o', 'n'), ('i', 'i'), ('n', 'o'), ('t', 'p')]"
      ]
     },
     "execution_count": 286,
     "metadata": {},
     "output_type": "execute_result"
    }
   ],
   "source": [
    "list(zip(lista_de_caracteres, lista_de_caracteres_reversed)) # una lista al lado de la otra"
   ]
  },
  {
   "cell_type": "code",
   "execution_count": 276,
   "metadata": {},
   "outputs": [
    {
     "name": "stdout",
     "output_type": "stream",
     "text": [
      "<list_reverseiterator object at 0x108b23d00>\n"
     ]
    }
   ],
   "source": [
    "print(reversed([\"h\", \"a\"])) # por esto toca pasar a list"
   ]
  },
  {
   "cell_type": "code",
   "execution_count": null,
   "metadata": {},
   "outputs": [],
   "source": []
  }
 ],
 "metadata": {
  "kernelspec": {
   "display_name": "general",
   "language": "python",
   "name": "python3"
  },
  "language_info": {
   "codemirror_mode": {
    "name": "ipython",
    "version": 3
   },
   "file_extension": ".py",
   "mimetype": "text/x-python",
   "name": "python",
   "nbconvert_exporter": "python",
   "pygments_lexer": "ipython3",
   "version": "3.11.4"
  }
 },
 "nbformat": 4,
 "nbformat_minor": 2
}

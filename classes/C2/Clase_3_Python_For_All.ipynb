{
  "cells": [
    {
      "cell_type": "markdown",
      "metadata": {
        "id": "lwuGm4UIvBLX"
      },
      "source": [
        "# Clase 3\n",
        "Contenido\n",
        "- Paquetes\n",
        "- IDE\n",
        "- Listas (Sort y Sorted)\n",
        "- Ejercicios (114, 115)\n",
        "- Ciclos (While), sleep\n",
        "- Ejercicios (61, 62)\n",
        "- List comprehension (Comprensión de listas)"
      ]
    },
    {
      "cell_type": "markdown",
      "metadata": {
        "id": "vv34KtYRi2nH"
      },
      "source": [
        "### **Paquetes y Ambientes**\n",
        "#### **Paquetes**\n",
        "Son cajas de herramientas, que ya tienen un montón de cosas adentro para trabajar y no tener que reinventar la rueda, solo hay que importarlos, como importar sqrt de math.\n",
        "\n",
        "Ejemplos de paquetes famosos:\n",
        "- Pandas\n",
        "- Numpy (Numerical Python)\n",
        "\n",
        "Reinventar la rueda es por ejemplo, tener que encontrar una raíz a mano (Iterando por todos los nombres posibles) en vez de importar sqrt de math o random de random para crear numeros aleatorios.\n",
        "\n",
        "##### **Versión de Python**\n",
        "Hay muchas versiones de Windows:\n",
        "- Windows 98, 7, vista, 10, 11\n",
        "\n",
        "Hay varias version de Python:\n",
        "- 3.7, 3.8, 3.9, 3.10, 3.11, 3.12\n",
        "\n",
        "##### **Anaconda**\n",
        "Anaconda es paquete de paquetes, es la herramienta que te permite tener muchos paquetes comunes de Python instalados y no tener que instalar uno por uno. Por ejemplo, como Python ya viene con math incluido. Miniconda es la versión mini, para que no pese mucho y no ocupe mucho espacio en el PC.\n",
        "\n",
        "#### **Ambientes**\n",
        "Los vamos a ver la próxima clase. Y también, como instalar paquetes nuevos.\n",
        "\n",
        "### **IDE**:\n",
        "Alternativas a Word:\n",
        "- Open Office\n",
        "- Google Docs\n",
        "- Free Office\n",
        "- Notepad++\n",
        "- Bloc de Notas\n",
        "\n",
        "Diferentes IDEs:\n",
        "- IDLE\n",
        "- PyCharm\n",
        "- Visual Studio Code\n",
        "- Sublime Text\n",
        "- Spyder\n",
        "- Atom\n",
        "\n",
        "Visual Studio Code lo usan muchas personas y es gratis!"
      ]
    },
    {
      "cell_type": "code",
      "execution_count": 1,
      "metadata": {
        "id": "mZP5Jh5Mu-8G"
      },
      "outputs": [
        {
          "name": "stdout",
          "output_type": "stream",
          "text": [
            "5.0\n"
          ]
        }
      ],
      "source": [
        "# Ejemplos con randint y sqrt de paquetes\n",
        "import math\n",
        "\n",
        "print(math.sqrt(25))"
      ]
    },
    {
      "cell_type": "code",
      "execution_count": 2,
      "metadata": {},
      "outputs": [
        {
          "name": "stdout",
          "output_type": "stream",
          "text": [
            "5.0\n"
          ]
        }
      ],
      "source": [
        "from math import sqrt\n",
        "\n",
        "print(sqrt(25))"
      ]
    },
    {
      "cell_type": "code",
      "execution_count": 3,
      "metadata": {},
      "outputs": [
        {
          "name": "stdout",
          "output_type": "stream",
          "text": [
            "40\n"
          ]
        }
      ],
      "source": [
        "import random\n",
        "\n",
        "print(random.randint(1, 100))\n",
        "\n",
        "import random as rd\n",
        "\n",
        "print(rd.randint(1, 100))\n",
        "# import pandas as pd\n",
        "# import numpy as np"
      ]
    },
    {
      "cell_type": "code",
      "execution_count": 5,
      "metadata": {},
      "outputs": [
        {
          "name": "stdout",
          "output_type": "stream",
          "text": [
            "31\n"
          ]
        }
      ],
      "source": [
        "from random import randint\n",
        "\n",
        "print(randint(1, 100))"
      ]
    },
    {
      "cell_type": "code",
      "execution_count": 11,
      "metadata": {},
      "outputs": [
        {
          "name": "stdout",
          "output_type": "stream",
          "text": [
            "95\n"
          ]
        }
      ],
      "source": [
        "print(random.randrange(1, 100, 2))"
      ]
    },
    {
      "cell_type": "code",
      "execution_count": 12,
      "metadata": {},
      "outputs": [
        {
          "name": "stdout",
          "output_type": "stream",
          "text": [
            "[1, 2, 3, 4, 5, 9, 10, 100, 200]\n"
          ]
        }
      ],
      "source": [
        "enteros = [100, 5, 4, 200, 1, 3, 2, 9, 10]\n",
        "print(sorted(enteros))"
      ]
    },
    {
      "cell_type": "code",
      "execution_count": 14,
      "metadata": {},
      "outputs": [],
      "source": [
        "enteros.sort()"
      ]
    },
    {
      "cell_type": "code",
      "execution_count": 15,
      "metadata": {},
      "outputs": [
        {
          "name": "stdout",
          "output_type": "stream",
          "text": [
            "[1, 2, 3, 4, 5, 9, 10, 100, 200]\n"
          ]
        }
      ],
      "source": [
        "print(enteros)"
      ]
    },
    {
      "cell_type": "code",
      "execution_count": 17,
      "metadata": {},
      "outputs": [],
      "source": [
        "enteros_organizados_1 = enteros.sort()\n",
        "enteros_organizados_2 = sorted(enteros)"
      ]
    },
    {
      "cell_type": "code",
      "execution_count": 18,
      "metadata": {},
      "outputs": [
        {
          "name": "stdout",
          "output_type": "stream",
          "text": [
            "None\n"
          ]
        }
      ],
      "source": [
        "print(enteros_organizados_1)"
      ]
    },
    {
      "cell_type": "code",
      "execution_count": 22,
      "metadata": {},
      "outputs": [
        {
          "name": "stdout",
          "output_type": "stream",
          "text": [
            "Original [7.8, 9.0, 1.2, 3.4, 5.6]\n",
            "Posicion 1 7.8\n",
            "Aqui si estan ordenados [1.2, 3.4, 5.6, 7.8, 9.0]\n",
            "Posicion 1 7.8\n",
            "Posicion 1 Ordenada 1.2\n"
          ]
        }
      ],
      "source": [
        "flotantes = [7.8, 9.0, 1.2, 3.4, 5.6]\n",
        "flotantes_ordenados = sorted(flotantes)\n",
        "print(\"Original\", flotantes)\n",
        "print(\"Posicion 1\", flotantes[0])\n",
        "print(\"Aqui si estan ordenados\", flotantes_ordenados)\n",
        "print(\"Posicion 1\", flotantes[0])\n",
        "print(\"Posicion 1 Ordenada\", flotantes_ordenados[0])\n"
      ]
    },
    {
      "cell_type": "code",
      "execution_count": 21,
      "metadata": {},
      "outputs": [
        {
          "name": "stdout",
          "output_type": "stream",
          "text": [
            "Original [4.4, 5.5, 1.1, 2.2, 3.3]\n",
            "Posicion 1 4.4\n",
            "Aqui deberian estar ordenados, pero no None\n",
            "Aqui si estan ordenados [1.1, 2.2, 3.3, 4.4, 5.5]\n",
            "Posicion 1 1.1\n"
          ]
        }
      ],
      "source": [
        "flotantes_2 = [4.4, 5.5, 1.1, 2.2, 3.3]\n",
        "print(\"Original\", flotantes_2)\n",
        "print(\"Posicion 1\", flotantes_2[0])\n",
        "print(\"Aqui deberian estar ordenados, pero no\", flotantes_2.sort())\n",
        "print(\"Aqui si estan ordenados\", flotantes_2)\n",
        "print(\"Posicion 1\", flotantes_2[0])"
      ]
    },
    {
      "cell_type": "code",
      "execution_count": 25,
      "metadata": {},
      "outputs": [
        {
          "name": "stdout",
          "output_type": "stream",
          "text": [
            "Original [4.4, 5.5, 1.1, 2.2, 3.3]\n",
            "Ordenado ascendente [1.1, 2.2, 3.3, 4.4, 5.5]\n",
            "Ordenado descendente [5.5, 4.4, 3.3, 2.2, 1.1]\n"
          ]
        }
      ],
      "source": [
        "flotantes_2 = [4.4, 5.5, 1.1, 2.2, 3.3]\n",
        "print(\"Original\", flotantes_2)\n",
        "flotantes_2.sort()\n",
        "print(\"Ordenado ascendente\", flotantes_2)\n",
        "flotantes_2.sort(reverse=True)\n",
        "print(\"Ordenado descendente\", flotantes_2)"
      ]
    },
    {
      "cell_type": "code",
      "execution_count": 26,
      "metadata": {},
      "outputs": [
        {
          "name": "stdout",
          "output_type": "stream",
          "text": [
            "Original [7.8, 9.0, 1.2, 3.4, 5.6]\n",
            "Ascendente [1.2, 3.4, 5.6, 7.8, 9.0]\n",
            "Descendente [9.0, 7.8, 5.6, 3.4, 1.2]\n"
          ]
        }
      ],
      "source": [
        "flotantes = [7.8, 9.0, 1.2, 3.4, 5.6]\n",
        "ascendente = sorted(flotantes)\n",
        "print(\"Original\", flotantes)\n",
        "descendente = sorted(flotantes, reverse=True)\n",
        "print(\"Ascendente\", ascendente)\n",
        "print(\"Descendente\", descendente)\n"
      ]
    },
    {
      "cell_type": "markdown",
      "metadata": {},
      "source": [
        "Exercise 114: Negatives, Zeros and Positives\n",
        "\n",
        "Create a program that reads integers from the user until a blank line is entered. Once all of the integers have been read your program should display all of the negative numbers, followed by all of the zeros, followed by all of the positive numbers. Within each group the numbers should be displayed in order that they were entered by the user. For example, if the user enters the values 3, -4, 1, 0, -1, 0, and -2 then your program should output the values -4, -2, -1, 0, 0, 1, 3. Your program should display each value on its own line.\n"
      ]
    },
    {
      "cell_type": "code",
      "execution_count": 27,
      "metadata": {},
      "outputs": [
        {
          "name": "stdout",
          "output_type": "stream",
          "text": [
            "1\n"
          ]
        }
      ],
      "source": [
        "valores = input(\n",
        "    \"Escribe números enteros o 0, para finalizar escribe\"\n",
        "    \" espacio en blanco: \"\n",
        ")\n",
        "# while (condicion de parada):\n",
        "#     # Haga algo\n",
        "#     print(1)\n",
        "print(valores)"
      ]
    },
    {
      "cell_type": "code",
      "execution_count": 44,
      "metadata": {},
      "outputs": [
        {
          "name": "stdout",
          "output_type": "stream",
          "text": [
            "Lista original [1, 0, -1]\n",
            "Lista ordenada [-1, 0, 1]\n",
            "Este deberia ser el ultimo valor 1\n"
          ]
        }
      ],
      "source": [
        "# operador igual es ==\n",
        "# operador diferente es ! = (sin espacios) que queda asi !=\n",
        "valor = \"string vacio\"\n",
        "valores = []\n",
        "rompio = False\n",
        "while (valor != \" \"):\n",
        "    valor = input(\"Escribe un número entero o espacio para finalizar: \")\n",
        "    if valor == \"\":\n",
        "        print(\"No recibo \", valor)\n",
        "        rompio = True\n",
        "        break\n",
        "    if valor != \" \":\n",
        "        valores.append(int(valor))\n",
        "    ordenada = sorted(valores)\n",
        "    # print(ordenada)\n",
        "if rompio == True:\n",
        "    print(\"Se rompio el ciclo\")\n",
        "else:\n",
        "    print(\"Lista original\", valores)\n",
        "    print(\"Lista ordenada\", ordenada)\n",
        "    print(\"Este deberia ser el ultimo valor\", ordenada[-1])"
      ]
    },
    {
      "cell_type": "code",
      "execution_count": 51,
      "metadata": {},
      "outputs": [
        {
          "name": "stdout",
          "output_type": "stream",
          "text": [
            "[0]\n",
            "[1, 0]\n",
            "[2, 1, 0]\n",
            "[3, 2, 1, 0]\n",
            "[4, 3, 2, 1, 0]\n"
          ]
        }
      ],
      "source": [
        "# Ingresar valores\n",
        "lista_de_valores = []\n",
        "for i in range(5):\n",
        "    # lista_de_valores.append(i)\n",
        "    lista_de_valores.insert(0, i)\n",
        "    print(lista_de_valores)"
      ]
    },
    {
      "cell_type": "code",
      "execution_count": 52,
      "metadata": {},
      "outputs": [],
      "source": [
        "del lista_de_valores[0]"
      ]
    },
    {
      "cell_type": "code",
      "execution_count": 53,
      "metadata": {},
      "outputs": [
        {
          "name": "stdout",
          "output_type": "stream",
          "text": [
            "[3, 2, 1, 0]\n"
          ]
        }
      ],
      "source": [
        "print(lista_de_valores)"
      ]
    },
    {
      "cell_type": "code",
      "execution_count": 58,
      "metadata": {},
      "outputs": [
        {
          "name": "stdout",
          "output_type": "stream",
          "text": [
            "range(0, 9)\n"
          ]
        }
      ],
      "source": [
        "print(range(9))"
      ]
    },
    {
      "cell_type": "code",
      "execution_count": 59,
      "metadata": {},
      "outputs": [
        {
          "name": "stdout",
          "output_type": "stream",
          "text": [
            "<list_reverseiterator object at 0x105e89ae0>\n"
          ]
        }
      ],
      "source": [
        "print(reversed(lista_de_valores))"
      ]
    },
    {
      "cell_type": "code",
      "execution_count": 60,
      "metadata": {},
      "outputs": [
        {
          "name": "stdout",
          "output_type": "stream",
          "text": [
            "[3, 2, 1, 0]\n"
          ]
        }
      ],
      "source": [
        "print(list(reversed(lista_de_valores)))"
      ]
    },
    {
      "cell_type": "code",
      "execution_count": 55,
      "metadata": {},
      "outputs": [],
      "source": [
        "lista_de_valores.reverse()"
      ]
    },
    {
      "cell_type": "code",
      "execution_count": 56,
      "metadata": {},
      "outputs": [
        {
          "name": "stdout",
          "output_type": "stream",
          "text": [
            "[0, 1, 2, 3]\n"
          ]
        }
      ],
      "source": [
        "print(lista_de_valores)"
      ]
    },
    {
      "cell_type": "code",
      "execution_count": 61,
      "metadata": {},
      "outputs": [
        {
          "name": "stdout",
          "output_type": "stream",
          "text": [
            "Al reves [0, -1, 100, 10, 6, 4]\n",
            "Ordenado [-1, 0, 4, 6, 10, 100]\n"
          ]
        }
      ],
      "source": [
        "L = [4, 6, 10, 100, -1, 0]\n",
        "print(\"Al reves\", list(reversed(L)))\n",
        "print(\"Ordenado\", list(sorted(L)))"
      ]
    },
    {
      "cell_type": "markdown",
      "metadata": {},
      "source": [
        "Exercise 115: List of Proper Divisors\n",
        "\n",
        "\n",
        "A proper divisor of a positive integer, n, is a positive integer less than n which divides evenly into n. Write a function that computes all of the proper divisors of a positive integer. The integer will be passed to the function as its only parameter. The function will return a list containing all of the proper divisors as its only result. Complete this exercise by writing a main program that demonstrates the function by reading a value from the user and displaying the list of its proper divisors."
      ]
    },
    {
      "cell_type": "code",
      "execution_count": 75,
      "metadata": {},
      "outputs": [
        {
          "name": "stdout",
          "output_type": "stream",
          "text": [
            "[1, 3, 5]\n"
          ]
        }
      ],
      "source": [
        "texto = input(\"Ingrese un entero positivo n: \")\n",
        "valor = int(texto)\n",
        "proper_divisors = []\n",
        "for i in range(valor - 1):\n",
        "    if valor % (i + 1) == 0:\n",
        "        proper_divisors.append(i + 1)\n",
        "print(proper_divisors)\n"
      ]
    },
    {
      "cell_type": "code",
      "execution_count": 81,
      "metadata": {},
      "outputs": [
        {
          "name": "stdout",
          "output_type": "stream",
          "text": [
            "1\n",
            "2\n",
            "3\n",
            "4\n",
            "5\n"
          ]
        }
      ],
      "source": [
        "from time import sleep\n",
        "# import time -- time.sleep\n",
        "\n",
        "contador = 0\n",
        "while contador < 5:\n",
        "    contador = contador + 1\n",
        "    sleep(1)\n",
        "    print(contador)"
      ]
    },
    {
      "cell_type": "markdown",
      "metadata": {},
      "source": [
        "\n",
        "Exercise 61: Is a License Plate Valid?\n",
        "\n",
        "\n",
        "In a particular jurisdiction, older license plates consist of three uppercase letters followed by three digits. When all of the license plates following that pattern had been used, the format was changed to four digits followed by three uppercase letters. Write a program that begins by reading a string of characters from the user. Then your program should display a message indicating whether the characters are valid for an older style license plate or a newer style license plate. Your program should display an appropriate message if the string entered by the user is not valid for either\n",
        "style of license plate."
      ]
    },
    {
      "cell_type": "code",
      "execution_count": 93,
      "metadata": {},
      "outputs": [
        {
          "name": "stdout",
          "output_type": "stream",
          "text": [
            "Placa vieja\n"
          ]
        }
      ],
      "source": [
        "placa = input(\"Ingrese una placa: \")\n",
        "lista_de_caracters = list(placa)\n",
        "# print(lista_de_caracters[0])\n",
        "if lista_de_caracters[0].isdigit() == True:\n",
        "    print(\"Nueva placa\")\n",
        "else:\n",
        "    print(\"Placa vieja\")"
      ]
    },
    {
      "cell_type": "markdown",
      "metadata": {},
      "source": [
        "## Comprensión de listas\n",
        "List comprehension\n",
        "\n",
        "\n",
        "Hacer un for sin escribir un for"
      ]
    },
    {
      "cell_type": "code",
      "execution_count": 99,
      "metadata": {},
      "outputs": [
        {
          "name": "stdout",
          "output_type": "stream",
          "text": [
            "-4\n",
            "-3\n",
            "-2\n",
            "-1\n",
            "0\n"
          ]
        }
      ],
      "source": [
        "L = [1, 2, 3, 4, 5]\n",
        "for i in L:\n",
        "    sleep(0.8)\n",
        "    print(i - 5)"
      ]
    },
    {
      "cell_type": "code",
      "execution_count": 109,
      "metadata": {},
      "outputs": [],
      "source": [
        "L = [5]*10000"
      ]
    },
    {
      "cell_type": "code",
      "execution_count": 106,
      "metadata": {},
      "outputs": [
        {
          "name": "stdout",
          "output_type": "stream",
          "text": [
            "[-4, -3, -2, -1, 0]\n"
          ]
        }
      ],
      "source": [
        "L_menos_5 = [i - 5 for i in L]\n",
        "print(L_menos_5)"
      ]
    },
    {
      "cell_type": "code",
      "execution_count": 105,
      "metadata": {},
      "outputs": [
        {
          "name": "stdout",
          "output_type": "stream",
          "text": [
            "[-4, -3, -2, -1, 0]\n"
          ]
        }
      ],
      "source": [
        "L_menos_5 = []\n",
        "for i in L:\n",
        "    L_menos_5.append(i - 5)\n",
        "print(L_menos_5)"
      ]
    }
  ],
  "metadata": {
    "colab": {
      "provenance": []
    },
    "kernelspec": {
      "display_name": "Python 3",
      "name": "python3"
    },
    "language_info": {
      "codemirror_mode": {
        "name": "ipython",
        "version": 3
      },
      "file_extension": ".py",
      "mimetype": "text/x-python",
      "name": "python",
      "nbconvert_exporter": "python",
      "pygments_lexer": "ipython3",
      "version": "3.11.4"
    }
  },
  "nbformat": 4,
  "nbformat_minor": 0
}

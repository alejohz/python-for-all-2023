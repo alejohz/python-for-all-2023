{
  "nbformat": 4,
  "nbformat_minor": 0,
  "metadata": {
    "colab": {
      "provenance": []
    },
    "kernelspec": {
      "name": "python3",
      "display_name": "Python 3"
    },
    "language_info": {
      "name": "python"
    }
  },
  "cells": [
    {
      "cell_type": "markdown",
      "source": [
        "# Clase 1\n",
        "- I/O: Entrada y Salida Básica\n",
        "- Tipos de Datos:\n",
        "- int\n",
        "- float\n",
        "- String\n",
        "    - 'Simple'\n",
        "    - \"Doble\"\n",
        "    - \"\"\"Triple\"\"\"\n",
        "- bool\n",
        "- Variables\n",
        "- Tipado dinámico\n",
        "- Comentarios\n",
        "- Aritmética y Operadores\n",
        "- Contenedores:\n",
        "    - Lista\n",
        "    - Tupla\n",
        "    - Diccionarios\n",
        "    - Conjuntos\n",
        "- Valores de Verdad y Comparaciones\n",
        "- Palabras reservadas"
      ],
      "metadata": {
        "id": "yFpJXft9AYAk"
      }
    },
    {
      "cell_type": "markdown",
      "source": [
        "## Entrada y Salida (Básica)\n",
        "- variables = input(\"Mensaje Indicatorio para el usuario\")\n",
        "- print(variables, \"Esto es un texto\")"
      ],
      "metadata": {
        "id": "mUgXUt1fovx7"
      }
    },
    {
      "cell_type": "code",
      "execution_count": 3,
      "metadata": {
        "id": "qp6y2cbKAIcA",
        "colab": {
          "base_uri": "https://localhost:8080/"
        },
        "outputId": "a69d6adb-9616-4416-db84-97bbe5a3779f"
      },
      "outputs": [
        {
          "output_type": "stream",
          "name": "stdout",
          "text": [
            "Cual es mi nombre: 13\n",
            "13\n"
          ]
        }
      ],
      "source": [
        "nombre = input(\"Cual es mi nombre: \")\n",
        "print(nombre)"
      ]
    },
    {
      "cell_type": "markdown",
      "source": [
        "Tipos de datos (los 4 principales)"
      ],
      "metadata": {
        "id": "Et-tq5hCpAOH"
      }
    },
    {
      "cell_type": "code",
      "source": [
        "a = 5\n",
        "b = 12.1\n",
        "print(\"a:\", type(a))\n",
        "print(\"b: \", type(b))\n",
        "c = a + b\n",
        "print(\"Este es el valor de c:\", c)\n",
        "print(\"c:\", type(c))"
      ],
      "metadata": {
        "colab": {
          "base_uri": "https://localhost:8080/"
        },
        "id": "6XghFg3MpCt1",
        "outputId": "1003152f-3011-400e-936d-9a5fa79a2e7c"
      },
      "execution_count": 16,
      "outputs": [
        {
          "output_type": "stream",
          "name": "stdout",
          "text": [
            "a: <class 'int'>\n",
            "b:  <class 'float'>\n",
            "Este es el valor de c: 17.1\n",
            "c: <class 'float'>\n"
          ]
        }
      ]
    },
    {
      "cell_type": "markdown",
      "source": [
        "Variables"
      ],
      "metadata": {
        "id": "qBUEM83VpEKj"
      }
    },
    {
      "cell_type": "code",
      "source": [
        "a = 5\n",
        "print(a)\n",
        "a = \"Alejandro\"\n",
        "print(a)"
      ],
      "metadata": {
        "colab": {
          "base_uri": "https://localhost:8080/"
        },
        "id": "04G4kLUBpF95",
        "outputId": "6f5bc2c8-4e79-412e-9ed6-553272a49cdb"
      },
      "execution_count": 5,
      "outputs": [
        {
          "output_type": "stream",
          "name": "stdout",
          "text": [
            "5\n",
            "Alejandro\n"
          ]
        }
      ]
    },
    {
      "cell_type": "code",
      "source": [
        "a = 5\n",
        "print(a)\n",
        "print(type(a))\n",
        "a = \"5\"\n",
        "print(a)\n",
        "print(type(a))"
      ],
      "metadata": {
        "colab": {
          "base_uri": "https://localhost:8080/"
        },
        "id": "aqNd9l8UCggz",
        "outputId": "d5221b56-69f3-4c3c-b1f5-9d31f0e3a6f0"
      },
      "execution_count": 7,
      "outputs": [
        {
          "output_type": "stream",
          "name": "stdout",
          "text": [
            "5\n",
            "<class 'int'>\n",
            "5\n",
            "<class 'str'>\n"
          ]
        }
      ]
    },
    {
      "cell_type": "code",
      "source": [
        "print(5 + int(\"5\"))"
      ],
      "metadata": {
        "colab": {
          "base_uri": "https://localhost:8080/"
        },
        "id": "JcDE-fhvC2qs",
        "outputId": "5176432e-c399-49a4-864a-04166d6ee91b"
      },
      "execution_count": 9,
      "outputs": [
        {
          "output_type": "stream",
          "name": "stdout",
          "text": [
            "10\n"
          ]
        }
      ]
    },
    {
      "cell_type": "code",
      "source": [
        "a = \"5\"\n",
        "b = '5'\n",
        "c = \"\"\"5\"\"\"\n",
        "\n",
        "\"\"\"\n",
        "Este es un codigo que no se va a correr\n",
        "\n",
        "\n",
        "\n",
        "\n",
        "\n",
        "Hola mundo\n",
        "\"\"\"\n",
        "# Este tampoco\n",
        "# yesta\n",
        "# y esta\n",
        "# y esta\n",
        "print(5)  # Esta linea imprime un 5"
      ],
      "metadata": {
        "colab": {
          "base_uri": "https://localhost:8080/"
        },
        "id": "uNL0oT_oDGMN",
        "outputId": "b04cfe3c-afbb-49f1-d511-e2ea2ea00b83"
      },
      "execution_count": 11,
      "outputs": [
        {
          "output_type": "stream",
          "name": "stdout",
          "text": [
            "5\n"
          ]
        }
      ]
    },
    {
      "cell_type": "markdown",
      "source": [
        "Tipado Dinamico"
      ],
      "metadata": {
        "id": "yESthxRSpKR5"
      }
    },
    {
      "cell_type": "code",
      "source": [
        "a= 5\n",
        "a = \"5\"\n",
        "a = 13.1\n",
        "print(a)"
      ],
      "metadata": {
        "id": "G3kYH8tppLwK"
      },
      "execution_count": 20,
      "outputs": []
    },
    {
      "cell_type": "markdown",
      "source": [
        "Comentarios"
      ],
      "metadata": {
        "id": "oXda_1v8pnMO"
      }
    },
    {
      "cell_type": "code",
      "source": [
        "# Esto es un comentario\n",
        "print(3) # esto tambien\n",
        "\"\"\"\n",
        "Esto es un bloque de comentarios\n",
        "\"\"\"\n",
        "print(2+3)"
      ],
      "metadata": {
        "colab": {
          "base_uri": "https://localhost:8080/"
        },
        "id": "bkpKRWeMplT4",
        "outputId": "349f63d2-f071-4ee6-e5b7-a6436700ad9e"
      },
      "execution_count": 1,
      "outputs": [
        {
          "output_type": "stream",
          "name": "stdout",
          "text": [
            "3\n",
            "5\n"
          ]
        }
      ]
    },
    {
      "cell_type": "markdown",
      "source": [
        "Operadores"
      ],
      "metadata": {
        "id": "QDs3r8eMpUaa"
      }
    },
    {
      "cell_type": "markdown",
      "source": [
        "https://runestone.academy/ns/books/published/fopp/Conditionals/PrecedenceofOperators.html"
      ],
      "metadata": {
        "id": "l5HAkSNWIU0_"
      }
    },
    {
      "cell_type": "code",
      "source": [
        "a = 5\n",
        "b = \"5\"\n",
        "# a = b\n",
        "c = 6\n",
        "print(a)\n",
        "print(type(a))\n",
        "print(a == b)\n",
        "print(a > c)\n",
        "print(a < c)\n",
        "print(5.5 >= 6)\n",
        "print(5.5 <= 6)"
      ],
      "metadata": {
        "colab": {
          "base_uri": "https://localhost:8080/"
        },
        "id": "kBDuLDFvpU8q",
        "outputId": "e6ba83c5-a90a-4b7e-b9eb-cf7398a5a589"
      },
      "execution_count": 27,
      "outputs": [
        {
          "output_type": "stream",
          "name": "stdout",
          "text": [
            "5\n",
            "<class 'int'>\n",
            "False\n",
            "False\n",
            "True\n",
            "False\n",
            "True\n"
          ]
        }
      ]
    },
    {
      "cell_type": "code",
      "source": [
        "print(\"suma \", 5 + 5)\n",
        "print(\"resta \", 2 - 3)\n",
        "print(\"multiplicación\", 1 * 4)\n",
        "print(\"Potenciacion\", 4 ** 2)\n",
        "print(\"Residuo\", 5 / 2)\n",
        "print(\"Division entera\", 5 // 2)\n",
        "print(\"Residuo\", 5 % 2)"
      ],
      "metadata": {
        "colab": {
          "base_uri": "https://localhost:8080/"
        },
        "id": "gSGmh4x_K07_",
        "outputId": "89114f45-4878-4512-94d4-f7bd319d5542"
      },
      "execution_count": 3,
      "outputs": [
        {
          "output_type": "stream",
          "name": "stdout",
          "text": [
            "suma  10\n",
            "resta  -1\n",
            "multiplicación 4\n",
            "Potenciacion 16\n",
            "Residuo 2.5\n",
            "Division entera 2\n",
            "Residuo 1\n"
          ]
        }
      ]
    },
    {
      "cell_type": "code",
      "source": [
        "print(int(not True))\n",
        "print(int(True))\n",
        "print(True or False)\n",
        "print(True and False)\n",
        "\n",
        "a = True\n",
        "print( a == 1)\n",
        "print(a == 2)"
      ],
      "metadata": {
        "colab": {
          "base_uri": "https://localhost:8080/"
        },
        "id": "Dx-Y3Ic0LV7K",
        "outputId": "952d636d-236c-4fa7-c1db-0d32a22527d5"
      },
      "execution_count": 40,
      "outputs": [
        {
          "output_type": "stream",
          "name": "stdout",
          "text": [
            "0\n",
            "1\n",
            "True\n",
            "False\n",
            "True\n",
            "False\n"
          ]
        }
      ]
    },
    {
      "cell_type": "code",
      "source": [
        "(5 + 5) * 5"
      ],
      "metadata": {
        "colab": {
          "base_uri": "https://localhost:8080/"
        },
        "id": "nxijCPoKM5_r",
        "outputId": "c87116f2-db40-4d46-8176-784411c6dc67"
      },
      "execution_count": 41,
      "outputs": [
        {
          "output_type": "execute_result",
          "data": {
            "text/plain": [
              "50"
            ]
          },
          "metadata": {},
          "execution_count": 41
        }
      ]
    },
    {
      "cell_type": "code",
      "source": [
        "5 + 5 * 5"
      ],
      "metadata": {
        "colab": {
          "base_uri": "https://localhost:8080/"
        },
        "id": "_04n2B-NNHIa",
        "outputId": "feac2d91-b3e5-4eea-9f1e-46699d2a162d"
      },
      "execution_count": 42,
      "outputs": [
        {
          "output_type": "execute_result",
          "data": {
            "text/plain": [
              "30"
            ]
          },
          "metadata": {},
          "execution_count": 42
        }
      ]
    },
    {
      "cell_type": "code",
      "source": [
        "5 ** 2 + 2 / 5 * 4 // 2"
      ],
      "metadata": {
        "colab": {
          "base_uri": "https://localhost:8080/"
        },
        "id": "bJuziOwnNZeG",
        "outputId": "5a53efc8-efc8-4952-8d80-2225be705237"
      },
      "execution_count": 43,
      "outputs": [
        {
          "output_type": "execute_result",
          "data": {
            "text/plain": [
              "25.0"
            ]
          },
          "metadata": {},
          "execution_count": 43
        }
      ]
    },
    {
      "cell_type": "code",
      "source": [
        "((((5+2)** 2) / 5) //2 ) * 4"
      ],
      "metadata": {
        "colab": {
          "base_uri": "https://localhost:8080/"
        },
        "id": "9vjf5z3XNeq1",
        "outputId": "225f7711-8c94-4be6-c588-aa1465f41890"
      },
      "execution_count": 44,
      "outputs": [
        {
          "output_type": "execute_result",
          "data": {
            "text/plain": [
              "16.0"
            ]
          },
          "metadata": {},
          "execution_count": 44
        }
      ]
    },
    {
      "cell_type": "markdown",
      "source": [
        "Contenedores"
      ],
      "metadata": {
        "id": "9N40taPKpqf0"
      }
    },
    {
      "cell_type": "markdown",
      "source": [
        "Listas, Diccionarios, Tuplas, Conjuntos\n",
        "\n",
        "\n",
        "List, Dictionary, Tuple, Set"
      ],
      "metadata": {
        "id": "ZgRNOW-wOTd_"
      }
    },
    {
      "cell_type": "code",
      "source": [
        "lista = [5, 6, 7]\n",
        "dictionario = {\"a\": 5, \"b\": 6, \"c\": 7}\n",
        "tupla = (5, 6 ,7)\n",
        "conjunto = {5, 6 ,7}"
      ],
      "metadata": {
        "id": "kNrLxK12prN-"
      },
      "execution_count": null,
      "outputs": []
    },
    {
      "cell_type": "code",
      "source": [
        "lista1 = [5, 6, 6, 7]\n",
        "print(lista1)\n",
        "print(set(lista1))"
      ],
      "metadata": {
        "colab": {
          "base_uri": "https://localhost:8080/"
        },
        "id": "M7RRCr8yPNEU",
        "outputId": "62a6c821-c6fc-49d9-8ba7-9b655e50b515"
      },
      "execution_count": 46,
      "outputs": [
        {
          "output_type": "stream",
          "name": "stdout",
          "text": [
            "[5, 6, 6, 7]\n",
            "{5, 6, 7}\n"
          ]
        }
      ]
    },
    {
      "cell_type": "code",
      "source": [
        "lista2 = [5, 6, 7]"
      ],
      "metadata": {
        "id": "yGx3Deg5Pf4L"
      },
      "execution_count": 47,
      "outputs": []
    },
    {
      "cell_type": "code",
      "source": [
        "print(lista2[1])"
      ],
      "metadata": {
        "colab": {
          "base_uri": "https://localhost:8080/"
        },
        "id": "02M2YKn4PjGW",
        "outputId": "8561b365-0cfa-4157-9e51-40ace89829d3"
      },
      "execution_count": 48,
      "outputs": [
        {
          "output_type": "stream",
          "name": "stdout",
          "text": [
            "6\n"
          ]
        }
      ]
    },
    {
      "cell_type": "code",
      "source": [
        "print(lista2[0])"
      ],
      "metadata": {
        "colab": {
          "base_uri": "https://localhost:8080/"
        },
        "id": "vrOsCvZ_PtsD",
        "outputId": "7d4c59e6-0605-4f61-bc9e-8cbc22cb45a6"
      },
      "execution_count": 49,
      "outputs": [
        {
          "output_type": "stream",
          "name": "stdout",
          "text": [
            "5\n"
          ]
        }
      ]
    },
    {
      "cell_type": "code",
      "source": [
        "print(lista2[2])"
      ],
      "metadata": {
        "colab": {
          "base_uri": "https://localhost:8080/"
        },
        "id": "MPzwFTZPPwVc",
        "outputId": "ea01568e-f8ac-4669-b064-8ec47c9c09f8"
      },
      "execution_count": 50,
      "outputs": [
        {
          "output_type": "stream",
          "name": "stdout",
          "text": [
            "7\n"
          ]
        }
      ]
    },
    {
      "cell_type": "code",
      "source": [
        "print(len(lista2))"
      ],
      "metadata": {
        "colab": {
          "base_uri": "https://localhost:8080/"
        },
        "id": "nkBYIRcqPzAR",
        "outputId": "50641e9a-a0e7-43d1-9f46-490037b96e40"
      },
      "execution_count": 52,
      "outputs": [
        {
          "output_type": "stream",
          "name": "stdout",
          "text": [
            "3\n"
          ]
        }
      ]
    },
    {
      "cell_type": "code",
      "source": [
        "lista3 = [1, 2, 3, 4, 5, 6, 7, 8, 9 ,10]\n",
        "print(\"La longitud de la lista 3 es:\", len(lista3))\n",
        "print(\"El primer elemento de la lista 3 es:\", lista3[0])\n",
        "print(\"Yo quiero saber el elemento del 4 a 8:\", lista3[4:8])\n",
        "numero_de_entrada = input(\"Escoja un numero del 0 al 9\")\n",
        "numero_de_entrada_2 = input(\"Escoja un segundo numero del 0 al 9\")\n",
        "# lista[\"6\"]\n",
        "# lista3[\"6.0\"]\n",
        "print(\"Este es el numero que escogiste: \", lista3[\n",
        "    int(numero_de_entrada):\n",
        "    int(numero_de_entrada_2)\n",
        "    ])\n",
        "#print(list)"
      ],
      "metadata": {
        "colab": {
          "base_uri": "https://localhost:8080/"
        },
        "id": "Zl_BqMUGQB_9",
        "outputId": "bc23634f-980d-44d0-acab-a6ffb3e2ae99"
      },
      "execution_count": 74,
      "outputs": [
        {
          "output_type": "stream",
          "name": "stdout",
          "text": [
            "La longitud de la lista 3 es: 10\n",
            "El primer elemento de la lista 3 es: 1\n",
            "Yo quiero saber el elemento del 4 a 8: [5, 6, 7, 8]\n",
            "Escoja un numero del 0 al 96\n",
            "Escoja un segundo numero del 0 al 98\n",
            "Este es el numero que escogiste:  [7, 8]\n"
          ]
        }
      ]
    },
    {
      "cell_type": "code",
      "source": [
        "maria_camila = {\"edad\": 18, \"direccion\": \"Calle 0\", \"carrera\": \"civil\"}"
      ],
      "metadata": {
        "id": "JyazekR-Sdnn"
      },
      "execution_count": 62,
      "outputs": []
    },
    {
      "cell_type": "code",
      "source": [
        "print(maria_camila)"
      ],
      "metadata": {
        "colab": {
          "base_uri": "https://localhost:8080/"
        },
        "id": "mqgRRadMSmZh",
        "outputId": "106e6af6-3469-4e04-fbf5-308c406e0402"
      },
      "execution_count": 63,
      "outputs": [
        {
          "output_type": "stream",
          "name": "stdout",
          "text": [
            "{'edad': 18, 'direccion': 'Calle 0', 'carrera': 'civil'}\n"
          ]
        }
      ]
    },
    {
      "cell_type": "code",
      "source": [
        "print(maria_camila[\"edad\"])"
      ],
      "metadata": {
        "colab": {
          "base_uri": "https://localhost:8080/"
        },
        "id": "ZaammZRySoe2",
        "outputId": "2e65bd7a-5405-4cdb-ebdc-f583f7620bed"
      },
      "execution_count": 64,
      "outputs": [
        {
          "output_type": "stream",
          "name": "stdout",
          "text": [
            "18\n"
          ]
        }
      ]
    },
    {
      "cell_type": "code",
      "source": [
        "print(maria_camila[\"direccion\"])"
      ],
      "metadata": {
        "colab": {
          "base_uri": "https://localhost:8080/"
        },
        "id": "BHZ5j5yyS1WQ",
        "outputId": "e2963973-e481-4869-c3d8-6207e64fd860"
      },
      "execution_count": 66,
      "outputs": [
        {
          "output_type": "stream",
          "name": "stdout",
          "text": [
            "Calle 0\n"
          ]
        }
      ]
    },
    {
      "cell_type": "code",
      "source": [
        "maria_camila['zapato'] = \"nike\""
      ],
      "metadata": {
        "id": "mGxeAR-fUIJH"
      },
      "execution_count": 75,
      "outputs": []
    },
    {
      "cell_type": "code",
      "source": [
        "print(maria_camila)"
      ],
      "metadata": {
        "colab": {
          "base_uri": "https://localhost:8080/"
        },
        "id": "GxuV6TJoVUmn",
        "outputId": "4750ea9e-1aeb-4389-8e8e-28b4187ed8fa"
      },
      "execution_count": 76,
      "outputs": [
        {
          "output_type": "stream",
          "name": "stdout",
          "text": [
            "{'edad': 18, 'direccion': 'Calle 0', 'carrera': 'civil', 'zapato': 'nike'}\n"
          ]
        }
      ]
    },
    {
      "cell_type": "code",
      "source": [
        "print(len(maria_camila.keys()))"
      ],
      "metadata": {
        "colab": {
          "base_uri": "https://localhost:8080/"
        },
        "id": "vw0-8ddhVb4K",
        "outputId": "c6db9987-6854-4502-9184-ba0be35cfa9c"
      },
      "execution_count": 77,
      "outputs": [
        {
          "output_type": "stream",
          "name": "stdout",
          "text": [
            "4\n"
          ]
        }
      ]
    },
    {
      "cell_type": "code",
      "source": [
        "print(len(maria_camila.values()))"
      ],
      "metadata": {
        "colab": {
          "base_uri": "https://localhost:8080/"
        },
        "id": "hPmqMZFYVqog",
        "outputId": "76bc63d7-e90f-47c6-87eb-3c1db736b575"
      },
      "execution_count": 78,
      "outputs": [
        {
          "output_type": "stream",
          "name": "stdout",
          "text": [
            "4\n"
          ]
        }
      ]
    },
    {
      "cell_type": "code",
      "source": [
        "list(maria_camila.items())[0]"
      ],
      "metadata": {
        "colab": {
          "base_uri": "https://localhost:8080/"
        },
        "id": "D7GPb-cSVtWj",
        "outputId": "32574972-18d0-40cb-e92a-3c67199c3c20"
      },
      "execution_count": 79,
      "outputs": [
        {
          "output_type": "execute_result",
          "data": {
            "text/plain": [
              "('edad', 18)"
            ]
          },
          "metadata": {},
          "execution_count": 79
        }
      ]
    },
    {
      "cell_type": "markdown",
      "source": [
        "Comparaciones"
      ],
      "metadata": {
        "id": "dyY491CDprna"
      }
    },
    {
      "cell_type": "code",
      "source": [
        "maria_camila[10] = \"edad_2\""
      ],
      "metadata": {
        "id": "HsI1hT1wptsf"
      },
      "execution_count": 80,
      "outputs": []
    },
    {
      "cell_type": "code",
      "source": [
        "maria_camila[10] = \"edad_3\"\n",
        "print(maria_camila)"
      ],
      "metadata": {
        "colab": {
          "base_uri": "https://localhost:8080/"
        },
        "id": "bnwvleaxWqK8",
        "outputId": "33ee88fe-a048-4fe7-ff46-05f6f0930648"
      },
      "execution_count": 82,
      "outputs": [
        {
          "output_type": "stream",
          "name": "stdout",
          "text": [
            "{'edad': 18, 'direccion': 'Calle 0', 'carrera': 'civil', 'zapato': 'nike', 10: 'edad_3'}\n"
          ]
        }
      ]
    },
    {
      "cell_type": "code",
      "source": [
        "del maria_camila[10]\n",
        "print(maria_camila)"
      ],
      "metadata": {
        "colab": {
          "base_uri": "https://localhost:8080/"
        },
        "id": "2utwJ9AoW590",
        "outputId": "d46675d6-1860-43d5-a5a5-f6d9d1298a4b"
      },
      "execution_count": 83,
      "outputs": [
        {
          "output_type": "stream",
          "name": "stdout",
          "text": [
            "{'edad': 18, 'direccion': 'Calle 0', 'carrera': 'civil', 'zapato': 'nike'}\n"
          ]
        }
      ]
    },
    {
      "cell_type": "code",
      "source": [
        "maria_camila.update({\"zapato\": 10})"
      ],
      "metadata": {
        "id": "MbOTRN6wXHws"
      },
      "execution_count": 87,
      "outputs": []
    },
    {
      "cell_type": "code",
      "source": [
        "print(maria_camila)"
      ],
      "metadata": {
        "colab": {
          "base_uri": "https://localhost:8080/"
        },
        "id": "pDvPJ7x7XcQE",
        "outputId": "1646ed3a-a025-4812-c740-0b47f14a58c8"
      },
      "execution_count": 88,
      "outputs": [
        {
          "output_type": "stream",
          "name": "stdout",
          "text": [
            "{'edad': 18, 'direccion': 'Calle 0', 'carrera': 'civil', 'zapato': 10}\n"
          ]
        }
      ]
    },
    {
      "cell_type": "markdown",
      "source": [
        "Palabras reservadas"
      ],
      "metadata": {
        "id": "wuT5e0F0puqt"
      }
    },
    {
      "cell_type": "code",
      "source": [
        "llaves = ['edad', 'direccion', 'carrera', 'zapato']\n",
        "valores = ['18', 'calle 0', 'civil', 'nike']\n",
        "print(llaves)\n",
        "print(valores)"
      ],
      "metadata": {
        "colab": {
          "base_uri": "https://localhost:8080/"
        },
        "id": "0kUyAxZIpvdz",
        "outputId": "abd29b36-4612-41eb-af86-e59b81da82b0"
      },
      "execution_count": 89,
      "outputs": [
        {
          "output_type": "stream",
          "name": "stdout",
          "text": [
            "['edad', 'direccion', 'carrera', 'zapato']\n",
            "['18', 'calle 0', 'civil', 'nike']\n"
          ]
        }
      ]
    },
    {
      "cell_type": "code",
      "source": [
        "clase_1710 = {}"
      ],
      "metadata": {
        "id": "lZocmrOdYGGW"
      },
      "execution_count": 90,
      "outputs": []
    },
    {
      "cell_type": "code",
      "source": [
        "llave = input(\"Ingresa el valor de una llave\")\n",
        "valor = input(\"Ingresa el valor de la llave asignadad\")\n",
        "clase_1710[llave] = valor"
      ],
      "metadata": {
        "colab": {
          "base_uri": "https://localhost:8080/"
        },
        "id": "eQWV_Rt6YBTX",
        "outputId": "bebd3b16-d762-432e-ee16-a267fc817f85"
      },
      "execution_count": 95,
      "outputs": [
        {
          "name": "stdout",
          "output_type": "stream",
          "text": [
            "Ingresa el valor de una llavehorario\n",
            "Ingresa el valor de la llave asignadad6-10\n"
          ]
        }
      ]
    },
    {
      "cell_type": "code",
      "source": [
        "print(clase_1710)"
      ],
      "metadata": {
        "colab": {
          "base_uri": "https://localhost:8080/"
        },
        "id": "HW8wWGmNYVyp",
        "outputId": "046119ed-2cd7-4b2d-dd7c-be39d6a39427"
      },
      "execution_count": 96,
      "outputs": [
        {
          "output_type": "stream",
          "name": "stdout",
          "text": [
            "{'horario': '6-10', 'estudiantes': '10', 'salon': '18-409'}\n"
          ]
        }
      ]
    },
    {
      "cell_type": "code",
      "source": [
        "del\n",
        "list\n",
        "int\n",
        "float\n",
        "str\n",
        "print\n",
        "input"
      ],
      "metadata": {
        "id": "-6LaY6gzYle8"
      },
      "execution_count": null,
      "outputs": []
    },
    {
      "cell_type": "code",
      "source": [
        "help(\"keywords\")"
      ],
      "metadata": {
        "colab": {
          "base_uri": "https://localhost:8080/"
        },
        "id": "jCEvpWeuYxfY",
        "outputId": "2eb7e37f-55db-4c20-db62-db45501fc688"
      },
      "execution_count": 97,
      "outputs": [
        {
          "output_type": "stream",
          "name": "stdout",
          "text": [
            "\n",
            "Here is a list of the Python keywords.  Enter any keyword to get more help.\n",
            "\n",
            "False               class               from                or\n",
            "None                continue            global              pass\n",
            "True                def                 if                  raise\n",
            "and                 del                 import              return\n",
            "as                  elif                in                  try\n",
            "assert              else                is                  while\n",
            "async               except              lambda              with\n",
            "await               finally             nonlocal            yield\n",
            "break               for                 not                 \n",
            "\n"
          ]
        }
      ]
    },
    {
      "cell_type": "markdown",
      "source": [
        "Exercise 2 - The Pyhton WorkBook"
      ],
      "metadata": {
        "id": "jrXsW5esZVtM"
      }
    },
    {
      "cell_type": "code",
      "source": [
        "nombre = input(\"Cual es tu nombre: \")\n",
        "print(\"Hola \", nombre)"
      ],
      "metadata": {
        "colab": {
          "base_uri": "https://localhost:8080/"
        },
        "id": "E6BhsyM1ZWZM",
        "outputId": "f517857a-13dd-46e1-e2bd-8f196da09cfd"
      },
      "execution_count": 98,
      "outputs": [
        {
          "output_type": "stream",
          "name": "stdout",
          "text": [
            "Cual es tu nombre: Maria Camila\n",
            "Hola  Maria Camila\n"
          ]
        }
      ]
    },
    {
      "cell_type": "code",
      "source": [
        "length = input(\"Escriba la longitud del cuarto\")\n",
        "width = input(\"Escriba el ancho del cuarto\")\n",
        "units = input(\"Escriba las unidades de las medidas anteriores\")\n",
        "area = float(length) * float(width)\n",
        "print(\"El area de su cuarto es \", area, units, \"^2\")\n",
        "resultado = \"El area de su cuarto es\" + str(area) + units + \"^2\"\n",
        "print(resultado)\n",
        "resultado1 = f\"El area de su cuarto es {area}{units}^2\"\n",
        "print(resultado1)\n",
        "resultado2 = f\"El area de su cuarto es (area)(units)^2\"\n",
        "print(resultado2)\n",
        "resultado3 = \"El area de su cuarto es {area}{units}^2\"\n",
        "print(resultado3)"
      ],
      "metadata": {
        "colab": {
          "base_uri": "https://localhost:8080/"
        },
        "id": "H9jjWcg8ZvNQ",
        "outputId": "7a8a6a67-5a24-47d5-e8da-68b07b3c45c5"
      },
      "execution_count": 103,
      "outputs": [
        {
          "output_type": "stream",
          "name": "stdout",
          "text": [
            "Escriba la longitud del cuarto15\n",
            "Escriba el ancho del cuarto3.0\n",
            "Escriba las unidades de las medidas anterioresm\n",
            "El area de su cuarto es  45.0 m ^2\n",
            "El area de su cuarto es45.0m^2\n",
            "El area de su cuarto es 45.0m^2\n",
            "El area de su cuarto es (area)(units)^2\n",
            "El area de su cuarto es {area}{units}^2\n"
          ]
        }
      ]
    },
    {
      "cell_type": "code",
      "source": [
        "\"\"\"\n",
        "for\n",
        "while\n",
        "\"\"\"\n",
        "n = input(\"Ingresa un numero\")\n",
        "n = int(n)\n",
        "suma = ((n)*(n + 1)) / 2\n",
        "\n",
        "\n",
        "suma2 = 0\n",
        "for i in range(n):\n",
        "  suma2 = suma2 + (i + 1)\n",
        "\n",
        "print(f\"El valor con la formula es {suma}\")\n",
        "print(f\"El valor con el for es {suma2}\")"
      ],
      "metadata": {
        "colab": {
          "base_uri": "https://localhost:8080/"
        },
        "id": "yiVc3Yaqb_iK",
        "outputId": "69c9eb0f-b638-451e-b2b2-7d3693e1a7ba"
      },
      "execution_count": 109,
      "outputs": [
        {
          "output_type": "stream",
          "name": "stdout",
          "text": [
            "Ingresa un numero5\n",
            "El valor con la formula es 15.0\n",
            "El valor con el for es 15\n"
          ]
        }
      ]
    },
    {
      "cell_type": "code",
      "source": [
        "list(range(9))"
      ],
      "metadata": {
        "colab": {
          "base_uri": "https://localhost:8080/"
        },
        "id": "UA_2YMTQe9jF",
        "outputId": "6d29af95-1f63-483b-fb3a-082f1b691a1b"
      },
      "execution_count": 114,
      "outputs": [
        {
          "output_type": "execute_result",
          "data": {
            "text/plain": [
              "[0, 1, 2, 3, 4, 5, 6, 7, 8]"
            ]
          },
          "metadata": {},
          "execution_count": 114
        }
      ]
    },
    {
      "cell_type": "code",
      "source": [
        "n = \"5\"\n",
        "for i in [1, 2, 3, 4, 5, 6, 7, 8]:\n",
        "  print(int(n)/i)"
      ],
      "metadata": {
        "colab": {
          "base_uri": "https://localhost:8080/"
        },
        "id": "Rp928Qs2eWpb",
        "outputId": "027a66d1-4851-4d68-df96-3e5123f07ce9"
      },
      "execution_count": 117,
      "outputs": [
        {
          "output_type": "stream",
          "name": "stdout",
          "text": [
            "5.0\n",
            "2.5\n",
            "1.6666666666666667\n",
            "1.25\n",
            "1.0\n",
            "0.8333333333333334\n",
            "0.7142857142857143\n",
            "0.625\n"
          ]
        }
      ]
    }
  ]
}
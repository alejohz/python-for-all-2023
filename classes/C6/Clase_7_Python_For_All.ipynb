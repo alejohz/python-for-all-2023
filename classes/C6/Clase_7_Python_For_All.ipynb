{
 "cells": [
  {
   "cell_type": "markdown",
   "metadata": {},
   "source": [
    "# Clase 7\n",
    "\n",
    "#### **Contenido**\n",
    "- Revisar dudas de ejercicios para prácticar de la clase anterior\n",
    "- Módulos, repaso y módulos desde carpetas\n",
    "- Ejercicio 149\n",
    "- Librerias externas\n",
    "\n",
    "#### Ejercicios para practicar\n",
    "- Ejercicio 152\n",
    "- Ejercicio 153\n",
    "  \n",
    "#### Temas de estudio\n",
    "- Cuales son las principales librerias que se usan para visualización?\n",
    "- Qué es un EDA?"
   ]
  },
  {
   "cell_type": "markdown",
   "metadata": {},
   "source": [
    "#### Exercise 149: Display the Head of a File\n",
    "Unix-based operating systems usually include a tool named head. It displays the first 10 lines of a file whose name is provided as a command line argument. Write a Python program that provides the same behaviour. Display an appropriate error message if the file requested by the user does not exist, or if the command line\n",
    "argument is omitted.\n",
    "\n",
    "Plano, Función y Archivo"
   ]
  },
  {
   "cell_type": "code",
   "execution_count": 16,
   "metadata": {},
   "outputs": [
    {
     "name": "stdout",
     "output_type": "stream",
     "text": [
      "['Name, Age, City', 'Alice, 25, New York', 'Bob, 30, Los Angeles', 'Charlie, 28, Chicago', 'David, 35, San Francisco', 'Eve, 22, Seattle', 'Frank, 40, Miami', 'Grace, 27, Denver', 'Hannah, 29, Boston', 'Isaac, 33, Austin']\n"
     ]
    }
   ],
   "source": [
    "# head file_path 10\n",
    "ruta = input(\"Cual es la ruta del archivo: \")\n",
    "try:\n",
    "    f = open(ruta, \"r\")\n",
    "    # line = f.readline()\n",
    "    lines = []\n",
    "    n = 10\n",
    "    contador = 1\n",
    "    while contador <= n:\n",
    "        # print(contador)\n",
    "        line = f.readline()\n",
    "        line = line.replace(\"\\n\", \"\")\n",
    "        lines.append(line)\n",
    "        contador += 1 # contador = contador + 1\n",
    "    print(lines)\n",
    "    f.close()\n",
    "except FileNotFoundError:\n",
    "    print(\"El archivo no existe\")\n",
    "# print(type(lines))\n",
    "# print(\"Acabó el ciclo\")\n",
    "# file.readlines() devuelve todo el archivo en una lista (1)\n",
    "# file.readline() devuelve la \"próxima\" línea (2)\n",
    "# Otro (1)"
   ]
  },
  {
   "cell_type": "code",
   "execution_count": 8,
   "metadata": {},
   "outputs": [
    {
     "name": "stdout",
     "output_type": "stream",
     "text": [
      "Hola \n",
      " mundo\n"
     ]
    }
   ],
   "source": [
    "print(\"Hola \\n mundo\")"
   ]
  },
  {
   "cell_type": "code",
   "execution_count": 18,
   "metadata": {},
   "outputs": [
    {
     "name": "stdout",
     "output_type": "stream",
     "text": [
      "Name, Age, City\n",
      "Alice, 25, New York\n",
      "Bob, 30, Los Angeles\n",
      "Charlie, 28, Chicago\n",
      "David, 35, San Francisco\n",
      "Eve, 22, Seattle\n",
      "Frank, 40, Miami\n",
      "Grace, 27, Denver\n",
      "Hannah, 29, Boston\n",
      "Isaac, 33, Austin\n"
     ]
    }
   ],
   "source": [
    "# Quiero juntar la lista lines, y que el separador sea \\n\n",
    "# Si el separador es \\n, se van a separar los elementos por salto de linea\n",
    "print(\"\\n\".join(lines))"
   ]
  },
  {
   "cell_type": "code",
   "execution_count": 31,
   "metadata": {},
   "outputs": [],
   "source": [
    "def top_10(ruta, n):\n",
    "    \"\"\"Muestra las primeras diez lineas de un archivo\"\"\" # Docstring\n",
    "    try:\n",
    "        f = open(ruta, \"r\")\n",
    "        lines = []\n",
    "        contador = 1\n",
    "        while contador <= n:\n",
    "            line = f.readline()\n",
    "            line = line.replace(\"\\n\", \"\")\n",
    "            lines.append(line)\n",
    "            contador += 1\n",
    "        f.close()\n",
    "        print(\"\\n\".join(lines))\n",
    "        # print(lines)\n",
    "    except FileNotFoundError:\n",
    "        print(\"El archivo no existe\")\n"
   ]
  },
  {
   "cell_type": "code",
   "execution_count": 32,
   "metadata": {},
   "outputs": [
    {
     "name": "stdout",
     "output_type": "stream",
     "text": [
      "Name, Age, City\n",
      "Alice, 25, New York\n",
      "Bob, 30, Los Angeles\n",
      "Charlie, 28, Chicago\n",
      "David, 35, San Francisco\n"
     ]
    }
   ],
   "source": [
    "top_10(\"people.txt\", 5)"
   ]
  },
  {
   "cell_type": "code",
   "execution_count": 33,
   "metadata": {},
   "outputs": [
    {
     "ename": "TypeError",
     "evalue": "'<=' not supported between instances of 'int' and 'str'",
     "output_type": "error",
     "traceback": [
      "\u001b[0;31m---------------------------------------------------------------------------\u001b[0m",
      "\u001b[0;31mTypeError\u001b[0m                                 Traceback (most recent call last)",
      "\u001b[1;32m/Users/alejohz/Documents/Personal/python-for-all-2023/classes/C6/Clase_6_Python_For_All.ipynb Cell 8\u001b[0m line \u001b[0;36m1\n\u001b[0;32m----> <a href='vscode-notebook-cell:/Users/alejohz/Documents/Personal/python-for-all-2023/classes/C6/Clase_6_Python_For_All.ipynb#X15sZmlsZQ%3D%3D?line=0'>1</a>\u001b[0m top_10(\u001b[39m5\u001b[39;49m, \u001b[39m\"\u001b[39;49m\u001b[39mproducts.txt\u001b[39;49m\u001b[39m\"\u001b[39;49m)\n",
      "\u001b[1;32m/Users/alejohz/Documents/Personal/python-for-all-2023/classes/C6/Clase_6_Python_For_All.ipynb Cell 8\u001b[0m line \u001b[0;36m7\n\u001b[1;32m      <a href='vscode-notebook-cell:/Users/alejohz/Documents/Personal/python-for-all-2023/classes/C6/Clase_6_Python_For_All.ipynb#X15sZmlsZQ%3D%3D?line=4'>5</a>\u001b[0m lines \u001b[39m=\u001b[39m []\n\u001b[1;32m      <a href='vscode-notebook-cell:/Users/alejohz/Documents/Personal/python-for-all-2023/classes/C6/Clase_6_Python_For_All.ipynb#X15sZmlsZQ%3D%3D?line=5'>6</a>\u001b[0m contador \u001b[39m=\u001b[39m \u001b[39m1\u001b[39m\n\u001b[0;32m----> <a href='vscode-notebook-cell:/Users/alejohz/Documents/Personal/python-for-all-2023/classes/C6/Clase_6_Python_For_All.ipynb#X15sZmlsZQ%3D%3D?line=6'>7</a>\u001b[0m \u001b[39mwhile\u001b[39;00m contador \u001b[39m<\u001b[39;49m\u001b[39m=\u001b[39;49m n:\n\u001b[1;32m      <a href='vscode-notebook-cell:/Users/alejohz/Documents/Personal/python-for-all-2023/classes/C6/Clase_6_Python_For_All.ipynb#X15sZmlsZQ%3D%3D?line=7'>8</a>\u001b[0m     line \u001b[39m=\u001b[39m f\u001b[39m.\u001b[39mreadline()\n\u001b[1;32m      <a href='vscode-notebook-cell:/Users/alejohz/Documents/Personal/python-for-all-2023/classes/C6/Clase_6_Python_For_All.ipynb#X15sZmlsZQ%3D%3D?line=8'>9</a>\u001b[0m     line \u001b[39m=\u001b[39m line\u001b[39m.\u001b[39mreplace(\u001b[39m\"\u001b[39m\u001b[39m\\n\u001b[39;00m\u001b[39m\"\u001b[39m, \u001b[39m\"\u001b[39m\u001b[39m\"\u001b[39m)\n",
      "\u001b[0;31mTypeError\u001b[0m: '<=' not supported between instances of 'int' and 'str'"
     ]
    }
   ],
   "source": [
    "top_10(5, \"products.txt\")\n"
   ]
  },
  {
   "cell_type": "code",
   "execution_count": 24,
   "metadata": {},
   "outputs": [
    {
     "name": "stdout",
     "output_type": "stream",
     "text": [
      "El archivo no existe\n"
     ]
    },
    {
     "ename": "UnboundLocalError",
     "evalue": "cannot access local variable 'lines' where it is not associated with a value",
     "output_type": "error",
     "traceback": [
      "\u001b[0;31m---------------------------------------------------------------------------\u001b[0m",
      "\u001b[0;31mUnboundLocalError\u001b[0m                         Traceback (most recent call last)",
      "\u001b[1;32m/Users/alejohz/Documents/Personal/python-for-all-2023/classes/C6/Clase_6_Python_For_All.ipynb Cell 9\u001b[0m line \u001b[0;36m1\n\u001b[0;32m----> <a href='vscode-notebook-cell:/Users/alejohz/Documents/Personal/python-for-all-2023/classes/C6/Clase_6_Python_For_All.ipynb#X16sZmlsZQ%3D%3D?line=0'>1</a>\u001b[0m top_10(\u001b[39m\"\u001b[39;49m\u001b[39mp\u001b[39;49m\u001b[39m\"\u001b[39;49m)\n",
      "\u001b[1;32m/Users/alejohz/Documents/Personal/python-for-all-2023/classes/C6/Clase_6_Python_For_All.ipynb Cell 9\u001b[0m line \u001b[0;36m1\n\u001b[1;32m     <a href='vscode-notebook-cell:/Users/alejohz/Documents/Personal/python-for-all-2023/classes/C6/Clase_6_Python_For_All.ipynb#X16sZmlsZQ%3D%3D?line=14'>15</a>\u001b[0m \u001b[39mexcept\u001b[39;00m \u001b[39mFileNotFoundError\u001b[39;00m:\n\u001b[1;32m     <a href='vscode-notebook-cell:/Users/alejohz/Documents/Personal/python-for-all-2023/classes/C6/Clase_6_Python_For_All.ipynb#X16sZmlsZQ%3D%3D?line=15'>16</a>\u001b[0m     \u001b[39mprint\u001b[39m(\u001b[39m\"\u001b[39m\u001b[39mEl archivo no existe\u001b[39m\u001b[39m\"\u001b[39m)\n\u001b[0;32m---> <a href='vscode-notebook-cell:/Users/alejohz/Documents/Personal/python-for-all-2023/classes/C6/Clase_6_Python_For_All.ipynb#X16sZmlsZQ%3D%3D?line=16'>17</a>\u001b[0m \u001b[39mprint\u001b[39m(\u001b[39m\"\u001b[39m\u001b[39m\\n\u001b[39;00m\u001b[39m\"\u001b[39m\u001b[39m.\u001b[39mjoin(lines))\n",
      "\u001b[0;31mUnboundLocalError\u001b[0m: cannot access local variable 'lines' where it is not associated with a value"
     ]
    }
   ],
   "source": [
    "top_10(\"p\")"
   ]
  },
  {
   "cell_type": "code",
   "execution_count": null,
   "metadata": {},
   "outputs": [],
   "source": []
  },
  {
   "cell_type": "markdown",
   "metadata": {},
   "source": [
    "\n",
    "#### Exercise 152: Number the Lines in a File\n",
    "Create a program that reads lines from a file, adds line numbers to them, and then stores the numbered lines into a new file. The name of the input file will be read from the user, as will the name of the new file that your program will create. Each line in the output file should begin with the line number, followed by a colon and a space,\n",
    "followed by the line from the input file."
   ]
  },
  {
   "cell_type": "code",
   "execution_count": 34,
   "metadata": {},
   "outputs": [],
   "source": [
    "import pandas as pd"
   ]
  },
  {
   "cell_type": "code",
   "execution_count": 37,
   "metadata": {},
   "outputs": [],
   "source": [
    "data = pd.read_csv(\"people.txt\", sep=\",\")"
   ]
  },
  {
   "cell_type": "code",
   "execution_count": 38,
   "metadata": {},
   "outputs": [
    {
     "data": {
      "text/html": [
       "<div>\n",
       "<style scoped>\n",
       "    .dataframe tbody tr th:only-of-type {\n",
       "        vertical-align: middle;\n",
       "    }\n",
       "\n",
       "    .dataframe tbody tr th {\n",
       "        vertical-align: top;\n",
       "    }\n",
       "\n",
       "    .dataframe thead th {\n",
       "        text-align: right;\n",
       "    }\n",
       "</style>\n",
       "<table border=\"1\" class=\"dataframe\">\n",
       "  <thead>\n",
       "    <tr style=\"text-align: right;\">\n",
       "      <th></th>\n",
       "      <th>Name</th>\n",
       "      <th>Age</th>\n",
       "      <th>City</th>\n",
       "    </tr>\n",
       "  </thead>\n",
       "  <tbody>\n",
       "    <tr>\n",
       "      <th>0</th>\n",
       "      <td>Alice</td>\n",
       "      <td>25</td>\n",
       "      <td>New York</td>\n",
       "    </tr>\n",
       "    <tr>\n",
       "      <th>1</th>\n",
       "      <td>Bob</td>\n",
       "      <td>30</td>\n",
       "      <td>Los Angeles</td>\n",
       "    </tr>\n",
       "    <tr>\n",
       "      <th>2</th>\n",
       "      <td>Charlie</td>\n",
       "      <td>28</td>\n",
       "      <td>Chicago</td>\n",
       "    </tr>\n",
       "    <tr>\n",
       "      <th>3</th>\n",
       "      <td>David</td>\n",
       "      <td>35</td>\n",
       "      <td>San Francisco</td>\n",
       "    </tr>\n",
       "    <tr>\n",
       "      <th>4</th>\n",
       "      <td>Eve</td>\n",
       "      <td>22</td>\n",
       "      <td>Seattle</td>\n",
       "    </tr>\n",
       "    <tr>\n",
       "      <th>5</th>\n",
       "      <td>Frank</td>\n",
       "      <td>40</td>\n",
       "      <td>Miami</td>\n",
       "    </tr>\n",
       "    <tr>\n",
       "      <th>6</th>\n",
       "      <td>Grace</td>\n",
       "      <td>27</td>\n",
       "      <td>Denver</td>\n",
       "    </tr>\n",
       "    <tr>\n",
       "      <th>7</th>\n",
       "      <td>Hannah</td>\n",
       "      <td>29</td>\n",
       "      <td>Boston</td>\n",
       "    </tr>\n",
       "    <tr>\n",
       "      <th>8</th>\n",
       "      <td>Isaac</td>\n",
       "      <td>33</td>\n",
       "      <td>Austin</td>\n",
       "    </tr>\n",
       "    <tr>\n",
       "      <th>9</th>\n",
       "      <td>Jane</td>\n",
       "      <td>26</td>\n",
       "      <td>San Diego</td>\n",
       "    </tr>\n",
       "    <tr>\n",
       "      <th>10</th>\n",
       "      <td>Karl</td>\n",
       "      <td>32</td>\n",
       "      <td>Phoenix</td>\n",
       "    </tr>\n",
       "    <tr>\n",
       "      <th>11</th>\n",
       "      <td>Linda</td>\n",
       "      <td>24</td>\n",
       "      <td>Dallas</td>\n",
       "    </tr>\n",
       "    <tr>\n",
       "      <th>12</th>\n",
       "      <td>Michael</td>\n",
       "      <td>31</td>\n",
       "      <td>Houston</td>\n",
       "    </tr>\n",
       "    <tr>\n",
       "      <th>13</th>\n",
       "      <td>Nina</td>\n",
       "      <td>23</td>\n",
       "      <td>Atlanta</td>\n",
       "    </tr>\n",
       "    <tr>\n",
       "      <th>14</th>\n",
       "      <td>Oliver</td>\n",
       "      <td>36</td>\n",
       "      <td>Philadelphia</td>\n",
       "    </tr>\n",
       "    <tr>\n",
       "      <th>15</th>\n",
       "      <td>Patricia</td>\n",
       "      <td>37</td>\n",
       "      <td>Washington D.C.</td>\n",
       "    </tr>\n",
       "    <tr>\n",
       "      <th>16</th>\n",
       "      <td>Quincy</td>\n",
       "      <td>28</td>\n",
       "      <td>New Orleans</td>\n",
       "    </tr>\n",
       "    <tr>\n",
       "      <th>17</th>\n",
       "      <td>Rachel</td>\n",
       "      <td>27</td>\n",
       "      <td>Nashville</td>\n",
       "    </tr>\n",
       "    <tr>\n",
       "      <th>18</th>\n",
       "      <td>Sam</td>\n",
       "      <td>31</td>\n",
       "      <td>Denver</td>\n",
       "    </tr>\n",
       "    <tr>\n",
       "      <th>19</th>\n",
       "      <td>Tina</td>\n",
       "      <td>30</td>\n",
       "      <td>Seattle</td>\n",
       "    </tr>\n",
       "    <tr>\n",
       "      <th>20</th>\n",
       "      <td>Ulysses</td>\n",
       "      <td>34</td>\n",
       "      <td>San Diego</td>\n",
       "    </tr>\n",
       "    <tr>\n",
       "      <th>21</th>\n",
       "      <td>Victoria</td>\n",
       "      <td>29</td>\n",
       "      <td>Los Angeles</td>\n",
       "    </tr>\n",
       "    <tr>\n",
       "      <th>22</th>\n",
       "      <td>William</td>\n",
       "      <td>38</td>\n",
       "      <td>Chicago</td>\n",
       "    </tr>\n",
       "    <tr>\n",
       "      <th>23</th>\n",
       "      <td>Xander</td>\n",
       "      <td>26</td>\n",
       "      <td>New York</td>\n",
       "    </tr>\n",
       "    <tr>\n",
       "      <th>24</th>\n",
       "      <td>Yasmine</td>\n",
       "      <td>25</td>\n",
       "      <td>Miami</td>\n",
       "    </tr>\n",
       "    <tr>\n",
       "      <th>25</th>\n",
       "      <td>Zane</td>\n",
       "      <td>24</td>\n",
       "      <td>Austin</td>\n",
       "    </tr>\n",
       "  </tbody>\n",
       "</table>\n",
       "</div>"
      ],
      "text/plain": [
       "        Name   Age              City\n",
       "0      Alice    25          New York\n",
       "1        Bob    30       Los Angeles\n",
       "2    Charlie    28           Chicago\n",
       "3      David    35     San Francisco\n",
       "4        Eve    22           Seattle\n",
       "5      Frank    40             Miami\n",
       "6      Grace    27            Denver\n",
       "7     Hannah    29            Boston\n",
       "8      Isaac    33            Austin\n",
       "9       Jane    26         San Diego\n",
       "10      Karl    32           Phoenix\n",
       "11     Linda    24            Dallas\n",
       "12   Michael    31           Houston\n",
       "13      Nina    23           Atlanta\n",
       "14    Oliver    36      Philadelphia\n",
       "15  Patricia    37   Washington D.C.\n",
       "16    Quincy    28       New Orleans\n",
       "17    Rachel    27         Nashville\n",
       "18       Sam    31            Denver\n",
       "19      Tina    30           Seattle\n",
       "20   Ulysses    34         San Diego\n",
       "21  Victoria    29       Los Angeles\n",
       "22   William    38           Chicago\n",
       "23    Xander    26          New York\n",
       "24   Yasmine    25             Miami\n",
       "25      Zane    24            Austin"
      ]
     },
     "execution_count": 38,
     "metadata": {},
     "output_type": "execute_result"
    }
   ],
   "source": [
    "data"
   ]
  },
  {
   "cell_type": "code",
   "execution_count": null,
   "metadata": {},
   "outputs": [],
   "source": []
  }
 ],
 "metadata": {
  "kernelspec": {
   "display_name": "general",
   "language": "python",
   "name": "python3"
  },
  "language_info": {
   "codemirror_mode": {
    "name": "ipython",
    "version": 3
   },
   "file_extension": ".py",
   "mimetype": "text/x-python",
   "name": "python",
   "nbconvert_exporter": "python",
   "pygments_lexer": "ipython3",
   "version": "3.11.4"
  }
 },
 "nbformat": 4,
 "nbformat_minor": 2
}
